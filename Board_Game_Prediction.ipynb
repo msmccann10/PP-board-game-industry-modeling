{
  "nbformat": 4,
  "nbformat_minor": 0,
  "metadata": {
    "colab": {
      "name": "Board_Game_Prediction.ipynb",
      "provenance": [],
      "collapsed_sections": [],
      "toc_visible": true,
      "include_colab_link": true
    },
    "kernelspec": {
      "name": "python3",
      "display_name": "Python 3"
    },
    "language_info": {
      "name": "python"
    }
  },
  "cells": [
    {
      "cell_type": "markdown",
      "metadata": {
        "id": "view-in-github",
        "colab_type": "text"
      },
      "source": [
        "<a href=\"https://colab.research.google.com/github/msmccann10/Portfolio/blob/main/board-game-prediction/Board_Game_Prediction.ipynb\" target=\"_parent\"><img src=\"https://colab.research.google.com/assets/colab-badge.svg\" alt=\"Open In Colab\"/></a>"
      ]
    },
    {
      "cell_type": "markdown",
      "source": [
        "# Board Game Prediction\n",
        "- **Author:** Michael McCann\n",
        "- **Date:** 01 APR 2022"
      ],
      "metadata": {
        "id": "G9elplsIRaJw"
      }
    },
    {
      "cell_type": "markdown",
      "source": [
        "## Imports"
      ],
      "metadata": {
        "id": "Gbo5Sx5UIgmU"
      }
    },
    {
      "cell_type": "code",
      "source": [
        "## Import Libraries\n",
        "import pandas as pd\n",
        "import numpy as np\n",
        "import math\n",
        "import matplotlib.pyplot as plt\n",
        "import seaborn as sns\n",
        "from ast import literal_eval\n",
        "from sklearn.model_selection import GridSearchCV, RandomizedSearchCV\n",
        "from sklearn.model_selection import train_test_split\n",
        "from sklearn.compose import make_column_selector, make_column_transformer\n",
        "from sklearn.preprocessing import StandardScaler, OneHotEncoder\n",
        "from sklearn.ensemble import GradientBoostingRegressor, GradientBoostingClassifier\n",
        "from lightgbm import LGBMRegressor, LGBMClassifier\n",
        "from xgboost import XGBRegressor, XGBClassifier\n",
        "from sklearn.impute import SimpleImputer, KNNImputer\n",
        "from sklearn.pipeline import make_pipeline\n",
        "from sklearn.linear_model import LinearRegression,LogisticRegression\n",
        "from sklearn.neighbors import KNeighborsClassifier\n",
        "from sklearn.tree import DecisionTreeRegressor, DecisionTreeClassifier\n",
        "from sklearn.dummy import DummyRegressor\n",
        "from sklearn.ensemble import BaggingRegressor, RandomForestRegressor ,BaggingClassifier, RandomForestClassifier\n",
        "from sklearn.metrics import r2_score, mean_absolute_error, mean_squared_error\n",
        "from sklearn.metrics import classification_report, precision_recall_fscore_support, confusion_matrix, ConfusionMatrixDisplay, roc_auc_score, RocCurveDisplay\n",
        "from sklearn import set_config\n",
        "set_config(display='diagram')"
      ],
      "metadata": {
        "id": "hfBNspEBRvHT"
      },
      "execution_count": 1,
      "outputs": []
    },
    {
      "cell_type": "markdown",
      "source": [
        "## Functions"
      ],
      "metadata": {
        "id": "wS8AXyotZcWi"
      }
    },
    {
      "cell_type": "markdown",
      "source": [
        "### OHE Reversing Function"
      ],
      "metadata": {
        "id": "IUPdEHMNe3Al"
      }
    },
    {
      "cell_type": "code",
      "source": [
        "## create OHE reversing function...\n",
        "def ohe_reverse(row, names):\n",
        "    # Change the row into a np.array\n",
        "    cat = np.array(row) \n",
        "    # Add spaces and commas into the name array for spacing..\n",
        "    names = [' ' + i + ',' for i in names]\n",
        "    return ''.join(np.repeat(names, cat))"
      ],
      "metadata": {
        "id": "-BvYBmIQZcWp"
      },
      "execution_count": 2,
      "outputs": []
    },
    {
      "cell_type": "markdown",
      "source": [
        "### Custom Make Longer Function"
      ],
      "metadata": {
        "id": "WlR2pEupe47f"
      }
    },
    {
      "cell_type": "code",
      "source": [
        "## Create A custome longer function...\n",
        "def make_longer(data, col):\n",
        "    # fix output - blanks\n",
        "    bad_rows = data[data['ohe'] == ''].index\n",
        "    data.drop(bad_rows, inplace = True)\n",
        "\n",
        "    data['ohe'] = data['ohe'].str.lstrip()\n",
        "    data['ohe'] = data['ohe'].str[:-1]\n",
        "\n",
        "    # Stack the result \n",
        "    val = pd.concat([data['BGGId'],\n",
        "                data['ohe'].str.split(',', expand = True)],\n",
        "                axis = 1)\n",
        "\n",
        "    melt = pd.melt(val, id_vars=['BGGId'])\n",
        "    long_df = melt[melt.value.notnull()].sort_values('BGGId').reset_index(drop=True).rename(columns={'value':col}).drop(columns = 'variable')\n",
        "    long_df[col] = long_df[col].str.lstrip()\n",
        "    data.drop(columns = 'ohe', inplace = True)\n",
        "    return long_df"
      ],
      "metadata": {
        "id": "DrqtbdwiZcWp"
      },
      "execution_count": 3,
      "outputs": []
    },
    {
      "cell_type": "markdown",
      "source": [
        "### Distribution Graphing Function"
      ],
      "metadata": {
        "id": "dFrJP4bMfBZ7"
      }
    },
    {
      "cell_type": "code",
      "source": [
        "## Create Functions for graphing Distribution of major features:\n",
        "# Feature Distribution Graphs\n",
        "def feature_dist(data, col, topX = 20, binW = 10):\n",
        "\n",
        "    values = data[col].value_counts()\n",
        "\n",
        "    fig, axes = plt.subplots(nrows = 1, ncols = 2, figsize = (14,7))\n",
        "    sns.barplot(x = values.head(topX),y = values.head(topX).index, color = 'Green', ax = axes[0])\n",
        "    axes[0].set_xlabel('Number of Games', weight = 'semibold', fontsize = 14)\n",
        "    axes[0].set_ylabel(f'{col}s', weight = 'semibold', fontsize = 14)\n",
        "    axes[0].set_title(f'Most Prolific {col}s (Top {topX})', weight = 'semibold', fontsize = 16)\n",
        "    axes[0].set_axisbelow(True)\n",
        "    axes[0].grid(alpha = .4)\n",
        "    sns.histplot(values, binwidth=binW, binrange=(0,150), color = '#127ead', ax=axes[1])\n",
        "    axes[1].set_xlim(0,150)\n",
        "    axes[1].set_xlabel(f'Number of Games (bin width = {binW})', weight = 'semibold', fontsize = 14)\n",
        "    axes[1].set_ylabel(f'{col}s per Bin', weight = 'semibold', fontsize = 14)\n",
        "    axes[1].set_title(f\"{col}s Distribution\", weight = 'semibold', fontsize = 16)\n",
        "    axes[1].set_axisbelow(True)\n",
        "    plt.grid(alpha = .4)\n",
        "    plt.tight_layout()\n",
        "    plt.show();\n",
        "\n",
        "# Feature Distribution Graphs 2\n",
        "def feature_dist2(data, col, topX = 20):\n",
        "    values = data[col].value_counts()\n",
        "\n",
        "    fig, ax = plt.subplots(figsize = (18,6))   \n",
        "    sns.barplot(y = values.head(topX),x = values.head(topX).index, color = '#A90200', alpha = .9)\n",
        "    plt.xlabel(f'{col}s (Top {topX})', weight = 'semibold', fontsize = 14)\n",
        "    plt.ylabel('Number of Games', weight = 'semibold', fontsize = 14)\n",
        "    plt.title(f\"Top {col}s\", weight = 'semibold', fontsize = 18)\n",
        "    ax.set_axisbelow(True)\n",
        "    plt.grid(alpha = .4)\n",
        "    plt.xticks(rotation=60, ha = \"right\", rotation_mode = 'anchor')\n",
        "    plt.tight_layout()\n",
        "    plt.show();"
      ],
      "metadata": {
        "id": "9EloCuyvZcWp"
      },
      "execution_count": 4,
      "outputs": []
    },
    {
      "cell_type": "markdown",
      "source": [
        "### Top/Bottom Split Function"
      ],
      "metadata": {
        "id": "r-09JWM6fGO4"
      }
    },
    {
      "cell_type": "code",
      "source": [
        "## Create Function to Split artist/designer/producers by top/bottom percent:\n",
        "def topbot_split(data, data5k, col, top_col = 'top', bot_col = 'bot', split_perc = 20,):\n",
        "    temp = pd.merge(data, bggid, how = 'right', on = 'BGGId')\n",
        "    temp.fillna(value = 0, inplace = True)\n",
        "\n",
        "    # denominator for split value for loop (below)\n",
        "    denom = data5k[col].value_counts().sum()\n",
        "    head_val = 0\n",
        "\n",
        "    # find split value\n",
        "    for i in range(0,50):\n",
        "        if math.floor(data5k[col].value_counts().head(i).sum()/denom * 100) == split_perc:\n",
        "            head_val = i\n",
        "            break\n",
        "            \n",
        "    # Use above value to create mask\n",
        "    mask =list(data5k[col].value_counts().head(head_val).index)\n",
        "\n",
        "    # Apply to the ohe DF\n",
        "    temp_top = temp[mask] #create a top 20% df\n",
        "    temp_bot = temp.drop(columns = mask)#create a bottom 20% df\n",
        "\n",
        "    temp_top[top_col] = temp_top.max(axis = 1)\n",
        "    temp_bot[bot_col] = temp_bot.drop(columns = 'BGGId').max(axis = 1)\n",
        "    temp_topbot = pd.concat([temp_bot['BGGId'], temp_top[top_col], temp_bot[bot_col]], axis = 1)\n",
        "    return temp_topbot"
      ],
      "metadata": {
        "id": "XtsMvn42ZcWp"
      },
      "execution_count": 5,
      "outputs": []
    },
    {
      "cell_type": "markdown",
      "source": [
        "### Model Performance Function - Regression"
      ],
      "metadata": {
        "id": "NPvqJLuufM0T"
      }
    },
    {
      "cell_type": "code",
      "source": [
        "regressperformance = pd.DataFrame(columns = ['model name', 'R-Squared (R2)',\n",
        "                                           'Mean Absolute Error (MAE)', \n",
        "                                           'Mean Squared Error (MSE)', \n",
        "                                           'Root Mean Squared Error (RMSE)'])\n",
        "\n",
        "## Create Function to evaluate regression models\n",
        "from numpy.ma.core import sqrt\n",
        "def model_eval(model, model_name, X_train, X_test, y_train, y_test):\n",
        "    # Get Preds\n",
        "    train_preds = model.predict(X_train)\n",
        "    test_preds = model.predict(X_test)\n",
        "\n",
        "    # Get Metrics\n",
        "    r2_train = round(r2_score(y_train, train_preds), 3)\n",
        "    r2_test = round(r2_score(y_test, test_preds), 3)\n",
        "    mae_train = round(mean_absolute_error(y_train, train_preds), 3)\n",
        "    mae_test = round(mean_absolute_error(y_test, test_preds), 3)\n",
        "    mse_train = round(mean_squared_error(y_train, train_preds), 3)\n",
        "    mse_test = round(mean_squared_error(y_test, test_preds), 3)\n",
        "    rmse_train = round(np.sqrt(mean_squared_error(y_train, train_preds)), 3)\n",
        "    rmse_test = round(np.sqrt(mean_squared_error(y_test, test_preds)), 3)\n",
        "\n",
        "    # Save into Display\n",
        "    temp_df = pd.DataFrame({'model': [model_name, model_name], 'Type': ['Training', 'Testing'],\n",
        "                            'R2': [r2_train, r2_test], 'MAE': [mae_train, mae_test],\n",
        "                            'MSE': [mse_train, mse_test], 'RMSE': [rmse_train, rmse_test]})\n",
        "\n",
        "    display(temp_df)\n",
        "\n",
        "    metrics = {'model name': model_name, 'R-Squared (R2)': r2_test, \n",
        "               'Mean Absolute Error (MAE)': mae_test, \n",
        "               'Mean Squared Error (MSE)': mse_test, \n",
        "               'Root Mean Squared Error (RMSE)': rmse_test}\n",
        "\n",
        "    return metrics"
      ],
      "metadata": {
        "id": "-KwMMCCCDGE0"
      },
      "execution_count": 6,
      "outputs": []
    },
    {
      "cell_type": "markdown",
      "source": [
        "### Model Performance Function - Classification"
      ],
      "metadata": {
        "id": "n5rwJGP_OFvX"
      }
    },
    {
      "cell_type": "code",
      "source": [
        "classperformance = pd.DataFrame(columns = ['model name', 'accuracy', 'roc_auc', \n",
        "                                           'precision_min', 'recall_min', 'f1-score_min', \n",
        "                                           'precision_maj', 'recall_maj', 'f1-score_maj'])\n",
        "\n",
        "def class_eval(model, model_name, X_train, X_test, y_train, y_test):\n",
        "    # Get Preds\n",
        "    train_preds = model.predict(X_train)\n",
        "    test_preds = model.predict(X_test)\n",
        "\n",
        "    train_score = model.score(X_train, y_train)\n",
        "    test_score = model.score(X_test, y_test)\n",
        "\n",
        "    print(classification_report(y_test, test_preds))\n",
        "\n",
        "    fig, ax = plt.subplots(ncols=2, nrows = 1, figsize=(10,6))\n",
        "    ConfusionMatrixDisplay.from_estimator(model, X_test, y_test, cmap='Blues',\n",
        "                                          ax=ax[0])\n",
        "    \n",
        "    \n",
        "    ConfusionMatrixDisplay.from_estimator(model, X_test, y_test, cmap='Blues',\n",
        "                                          normalize='true', ax=ax[1])\n",
        "    \n",
        "    roc_auc = roc_auc_score(y_test, model.predict_proba(X_test)[:,1])\n",
        "    clf_rep = precision_recall_fscore_support(y_test, test_preds)\n",
        "    metrics = {'model name': model_name, 'accuracy': test_score, 'roc_auc': roc_auc,\n",
        "               'precision_min': clf_rep[0][1], 'recall_min': clf_rep[1][1], \n",
        "               'f1-score_min': clf_rep[2][1], 'precision_maj': clf_rep[0][0], \n",
        "               'recall_maj': clf_rep[1][0], 'f1-score_maj': clf_rep[2][0]}\n",
        "\n",
        "    return metrics"
      ],
      "metadata": {
        "id": "x0uoWlUE1ut7"
      },
      "execution_count": 7,
      "outputs": []
    },
    {
      "cell_type": "markdown",
      "source": [
        "# Data Cleaning\n",
        "The data for this project comes from multiple separate dataframes so I will work through these one at a time prior to merging them into a larger dataframe for ML."
      ],
      "metadata": {
        "id": "96t3V-1icG8e"
      }
    },
    {
      "cell_type": "markdown",
      "source": [
        "## Rank DF"
      ],
      "metadata": {
        "id": "zgFCgAdDcMcK"
      }
    },
    {
      "cell_type": "code",
      "source": [
        "# Import Data\n",
        "rank_df = pd.read_csv('https://raw.githubusercontent.com/msmccann10/Portfolio/main/board-game-prediction/data/Rankings/rankings%20by%20id.csv')\n",
        "rank_df.head()"
      ],
      "metadata": {
        "id": "hwNi1SavzEiV",
        "colab": {
          "base_uri": "https://localhost:8080/",
          "height": 317
        },
        "outputId": "b22731f9-55ab-4c06-c5b5-fc5f073f92e2"
      },
      "execution_count": 8,
      "outputs": [
        {
          "output_type": "execute_result",
          "data": {
            "text/plain": [
              "   BoardGameRank  2018-10-06  2018-10-13  2018-10-20  2018-10-27  2018-11-03  \\\n",
              "0              1    174430.0    174430.0    174430.0    174430.0    174430.0   \n",
              "1              2    161936.0    161936.0    161936.0    161936.0    161936.0   \n",
              "2              3    182028.0    182028.0    182028.0    182028.0    182028.0   \n",
              "3              4    167791.0    167791.0    167791.0    167791.0    167791.0   \n",
              "4              5     12333.0     12333.0     12333.0     12333.0     12333.0   \n",
              "\n",
              "   2018-11-09  2018-11-17  2018-11-24  2018-12-01  ...  2022-01-08  \\\n",
              "0    174430.0    174430.0    174430.0    174430.0  ...    174430.0   \n",
              "1    161936.0    161936.0    161936.0    161936.0  ...    161936.0   \n",
              "2    182028.0    182028.0    182028.0    182028.0  ...    224517.0   \n",
              "3    167791.0    167791.0    167791.0    167791.0  ...    167791.0   \n",
              "4     12333.0     12333.0     12333.0     12333.0  ...    233078.0   \n",
              "\n",
              "   2022-01-15  2022-01-22  2022-01-29  2022-02-05  2022-02-12  2022-02-19  \\\n",
              "0    174430.0    174430.0    174430.0    174430.0    174430.0    174430.0   \n",
              "1    161936.0    161936.0    161936.0    161936.0    161936.0    161936.0   \n",
              "2    224517.0    224517.0    224517.0    224517.0    224517.0    224517.0   \n",
              "3    167791.0    167791.0    167791.0    167791.0    167791.0    167791.0   \n",
              "4    233078.0    233078.0    233078.0    291457.0    233078.0    291457.0   \n",
              "\n",
              "   2022-02-26  2022-03-05  2022-03-12  \n",
              "0    174430.0    174430.0    174430.0  \n",
              "1    161936.0    161936.0    161936.0  \n",
              "2    224517.0    224517.0    224517.0  \n",
              "3    167791.0    167791.0    167791.0  \n",
              "4    291457.0    291457.0    291457.0  \n",
              "\n",
              "[5 rows x 180 columns]"
            ],
            "text/html": [
              "\n",
              "  <div id=\"df-9b5387de-2f38-4958-84a7-0a1534125d83\">\n",
              "    <div class=\"colab-df-container\">\n",
              "      <div>\n",
              "<style scoped>\n",
              "    .dataframe tbody tr th:only-of-type {\n",
              "        vertical-align: middle;\n",
              "    }\n",
              "\n",
              "    .dataframe tbody tr th {\n",
              "        vertical-align: top;\n",
              "    }\n",
              "\n",
              "    .dataframe thead th {\n",
              "        text-align: right;\n",
              "    }\n",
              "</style>\n",
              "<table border=\"1\" class=\"dataframe\">\n",
              "  <thead>\n",
              "    <tr style=\"text-align: right;\">\n",
              "      <th></th>\n",
              "      <th>BoardGameRank</th>\n",
              "      <th>2018-10-06</th>\n",
              "      <th>2018-10-13</th>\n",
              "      <th>2018-10-20</th>\n",
              "      <th>2018-10-27</th>\n",
              "      <th>2018-11-03</th>\n",
              "      <th>2018-11-09</th>\n",
              "      <th>2018-11-17</th>\n",
              "      <th>2018-11-24</th>\n",
              "      <th>2018-12-01</th>\n",
              "      <th>...</th>\n",
              "      <th>2022-01-08</th>\n",
              "      <th>2022-01-15</th>\n",
              "      <th>2022-01-22</th>\n",
              "      <th>2022-01-29</th>\n",
              "      <th>2022-02-05</th>\n",
              "      <th>2022-02-12</th>\n",
              "      <th>2022-02-19</th>\n",
              "      <th>2022-02-26</th>\n",
              "      <th>2022-03-05</th>\n",
              "      <th>2022-03-12</th>\n",
              "    </tr>\n",
              "  </thead>\n",
              "  <tbody>\n",
              "    <tr>\n",
              "      <th>0</th>\n",
              "      <td>1</td>\n",
              "      <td>174430.0</td>\n",
              "      <td>174430.0</td>\n",
              "      <td>174430.0</td>\n",
              "      <td>174430.0</td>\n",
              "      <td>174430.0</td>\n",
              "      <td>174430.0</td>\n",
              "      <td>174430.0</td>\n",
              "      <td>174430.0</td>\n",
              "      <td>174430.0</td>\n",
              "      <td>...</td>\n",
              "      <td>174430.0</td>\n",
              "      <td>174430.0</td>\n",
              "      <td>174430.0</td>\n",
              "      <td>174430.0</td>\n",
              "      <td>174430.0</td>\n",
              "      <td>174430.0</td>\n",
              "      <td>174430.0</td>\n",
              "      <td>174430.0</td>\n",
              "      <td>174430.0</td>\n",
              "      <td>174430.0</td>\n",
              "    </tr>\n",
              "    <tr>\n",
              "      <th>1</th>\n",
              "      <td>2</td>\n",
              "      <td>161936.0</td>\n",
              "      <td>161936.0</td>\n",
              "      <td>161936.0</td>\n",
              "      <td>161936.0</td>\n",
              "      <td>161936.0</td>\n",
              "      <td>161936.0</td>\n",
              "      <td>161936.0</td>\n",
              "      <td>161936.0</td>\n",
              "      <td>161936.0</td>\n",
              "      <td>...</td>\n",
              "      <td>161936.0</td>\n",
              "      <td>161936.0</td>\n",
              "      <td>161936.0</td>\n",
              "      <td>161936.0</td>\n",
              "      <td>161936.0</td>\n",
              "      <td>161936.0</td>\n",
              "      <td>161936.0</td>\n",
              "      <td>161936.0</td>\n",
              "      <td>161936.0</td>\n",
              "      <td>161936.0</td>\n",
              "    </tr>\n",
              "    <tr>\n",
              "      <th>2</th>\n",
              "      <td>3</td>\n",
              "      <td>182028.0</td>\n",
              "      <td>182028.0</td>\n",
              "      <td>182028.0</td>\n",
              "      <td>182028.0</td>\n",
              "      <td>182028.0</td>\n",
              "      <td>182028.0</td>\n",
              "      <td>182028.0</td>\n",
              "      <td>182028.0</td>\n",
              "      <td>182028.0</td>\n",
              "      <td>...</td>\n",
              "      <td>224517.0</td>\n",
              "      <td>224517.0</td>\n",
              "      <td>224517.0</td>\n",
              "      <td>224517.0</td>\n",
              "      <td>224517.0</td>\n",
              "      <td>224517.0</td>\n",
              "      <td>224517.0</td>\n",
              "      <td>224517.0</td>\n",
              "      <td>224517.0</td>\n",
              "      <td>224517.0</td>\n",
              "    </tr>\n",
              "    <tr>\n",
              "      <th>3</th>\n",
              "      <td>4</td>\n",
              "      <td>167791.0</td>\n",
              "      <td>167791.0</td>\n",
              "      <td>167791.0</td>\n",
              "      <td>167791.0</td>\n",
              "      <td>167791.0</td>\n",
              "      <td>167791.0</td>\n",
              "      <td>167791.0</td>\n",
              "      <td>167791.0</td>\n",
              "      <td>167791.0</td>\n",
              "      <td>...</td>\n",
              "      <td>167791.0</td>\n",
              "      <td>167791.0</td>\n",
              "      <td>167791.0</td>\n",
              "      <td>167791.0</td>\n",
              "      <td>167791.0</td>\n",
              "      <td>167791.0</td>\n",
              "      <td>167791.0</td>\n",
              "      <td>167791.0</td>\n",
              "      <td>167791.0</td>\n",
              "      <td>167791.0</td>\n",
              "    </tr>\n",
              "    <tr>\n",
              "      <th>4</th>\n",
              "      <td>5</td>\n",
              "      <td>12333.0</td>\n",
              "      <td>12333.0</td>\n",
              "      <td>12333.0</td>\n",
              "      <td>12333.0</td>\n",
              "      <td>12333.0</td>\n",
              "      <td>12333.0</td>\n",
              "      <td>12333.0</td>\n",
              "      <td>12333.0</td>\n",
              "      <td>12333.0</td>\n",
              "      <td>...</td>\n",
              "      <td>233078.0</td>\n",
              "      <td>233078.0</td>\n",
              "      <td>233078.0</td>\n",
              "      <td>233078.0</td>\n",
              "      <td>291457.0</td>\n",
              "      <td>233078.0</td>\n",
              "      <td>291457.0</td>\n",
              "      <td>291457.0</td>\n",
              "      <td>291457.0</td>\n",
              "      <td>291457.0</td>\n",
              "    </tr>\n",
              "  </tbody>\n",
              "</table>\n",
              "<p>5 rows × 180 columns</p>\n",
              "</div>\n",
              "      <button class=\"colab-df-convert\" onclick=\"convertToInteractive('df-9b5387de-2f38-4958-84a7-0a1534125d83')\"\n",
              "              title=\"Convert this dataframe to an interactive table.\"\n",
              "              style=\"display:none;\">\n",
              "        \n",
              "  <svg xmlns=\"http://www.w3.org/2000/svg\" height=\"24px\"viewBox=\"0 0 24 24\"\n",
              "       width=\"24px\">\n",
              "    <path d=\"M0 0h24v24H0V0z\" fill=\"none\"/>\n",
              "    <path d=\"M18.56 5.44l.94 2.06.94-2.06 2.06-.94-2.06-.94-.94-2.06-.94 2.06-2.06.94zm-11 1L8.5 8.5l.94-2.06 2.06-.94-2.06-.94L8.5 2.5l-.94 2.06-2.06.94zm10 10l.94 2.06.94-2.06 2.06-.94-2.06-.94-.94-2.06-.94 2.06-2.06.94z\"/><path d=\"M17.41 7.96l-1.37-1.37c-.4-.4-.92-.59-1.43-.59-.52 0-1.04.2-1.43.59L10.3 9.45l-7.72 7.72c-.78.78-.78 2.05 0 2.83L4 21.41c.39.39.9.59 1.41.59.51 0 1.02-.2 1.41-.59l7.78-7.78 2.81-2.81c.8-.78.8-2.07 0-2.86zM5.41 20L4 18.59l7.72-7.72 1.47 1.35L5.41 20z\"/>\n",
              "  </svg>\n",
              "      </button>\n",
              "      \n",
              "  <style>\n",
              "    .colab-df-container {\n",
              "      display:flex;\n",
              "      flex-wrap:wrap;\n",
              "      gap: 12px;\n",
              "    }\n",
              "\n",
              "    .colab-df-convert {\n",
              "      background-color: #E8F0FE;\n",
              "      border: none;\n",
              "      border-radius: 50%;\n",
              "      cursor: pointer;\n",
              "      display: none;\n",
              "      fill: #1967D2;\n",
              "      height: 32px;\n",
              "      padding: 0 0 0 0;\n",
              "      width: 32px;\n",
              "    }\n",
              "\n",
              "    .colab-df-convert:hover {\n",
              "      background-color: #E2EBFA;\n",
              "      box-shadow: 0px 1px 2px rgba(60, 64, 67, 0.3), 0px 1px 3px 1px rgba(60, 64, 67, 0.15);\n",
              "      fill: #174EA6;\n",
              "    }\n",
              "\n",
              "    [theme=dark] .colab-df-convert {\n",
              "      background-color: #3B4455;\n",
              "      fill: #D2E3FC;\n",
              "    }\n",
              "\n",
              "    [theme=dark] .colab-df-convert:hover {\n",
              "      background-color: #434B5C;\n",
              "      box-shadow: 0px 1px 3px 1px rgba(0, 0, 0, 0.15);\n",
              "      filter: drop-shadow(0px 1px 2px rgba(0, 0, 0, 0.3));\n",
              "      fill: #FFFFFF;\n",
              "    }\n",
              "  </style>\n",
              "\n",
              "      <script>\n",
              "        const buttonEl =\n",
              "          document.querySelector('#df-9b5387de-2f38-4958-84a7-0a1534125d83 button.colab-df-convert');\n",
              "        buttonEl.style.display =\n",
              "          google.colab.kernel.accessAllowed ? 'block' : 'none';\n",
              "\n",
              "        async function convertToInteractive(key) {\n",
              "          const element = document.querySelector('#df-9b5387de-2f38-4958-84a7-0a1534125d83');\n",
              "          const dataTable =\n",
              "            await google.colab.kernel.invokeFunction('convertToInteractive',\n",
              "                                                     [key], {});\n",
              "          if (!dataTable) return;\n",
              "\n",
              "          const docLinkHtml = 'Like what you see? Visit the ' +\n",
              "            '<a target=\"_blank\" href=https://colab.research.google.com/notebooks/data_table.ipynb>data table notebook</a>'\n",
              "            + ' to learn more about interactive tables.';\n",
              "          element.innerHTML = '';\n",
              "          dataTable['output_type'] = 'display_data';\n",
              "          await google.colab.output.renderOutput(dataTable, element);\n",
              "          const docLink = document.createElement('div');\n",
              "          docLink.innerHTML = docLinkHtml;\n",
              "          element.appendChild(docLink);\n",
              "        }\n",
              "      </script>\n",
              "    </div>\n",
              "  </div>\n",
              "  "
            ]
          },
          "metadata": {},
          "execution_count": 8
        }
      ]
    },
    {
      "cell_type": "markdown",
      "source": [
        "Dataset Creator claims to have increased the numbers of ranks scraped from 2000 to 5000 starting September 7, 2019. The below code confirms an increase, however, similar to previous dates the number is actually less than the intended 5000. \n"
      ],
      "metadata": {
        "id": "f2JLTNLnRQdY"
      }
    },
    {
      "cell_type": "code",
      "source": [
        "# Confirm point at which the pull increases.\n",
        "print(f'Number of non-null values on August 31, 2019: {5015 - (rank_df[\"2019-08-31\"].isna().sum())} ')\n",
        "print(f'Number of non-null values on September 07, 2019: {5015 - (rank_df[\"2019-09-07\"].isna().sum())} ')\n",
        "print(f'Number of non-null values on September 14, 2019: {5015 - (rank_df[\"2019-09-14\"].isna().sum())} \\n\\n')\n",
        "\n",
        "# Get the index for the 2019-09-07\n",
        "print(f'Column index for September 07, 2019: {rank_df.columns.get_loc(\"2019-09-07\")}')"
      ],
      "metadata": {
        "colab": {
          "base_uri": "https://localhost:8080/"
        },
        "id": "VNP_yBt1HcLi",
        "outputId": "36a2a187-daeb-4a8b-8b96-5ac850427d3f"
      },
      "execution_count": 9,
      "outputs": [
        {
          "output_type": "stream",
          "name": "stdout",
          "text": [
            "Number of non-null values on August 31, 2019: 1997 \n",
            "Number of non-null values on September 07, 2019: 4982 \n",
            "Number of non-null values on September 14, 2019: 4981 \n",
            "\n",
            "\n",
            "Column index for September 07, 2019: 49\n"
          ]
        }
      ]
    },
    {
      "cell_type": "code",
      "source": [
        "# Drop columns from before September 7, 2019.\n",
        "rank_df.drop(rank_df.columns[1:49], axis = 1, inplace = True)\n",
        "rank_df"
      ],
      "metadata": {
        "colab": {
          "base_uri": "https://localhost:8080/",
          "height": 505
        },
        "id": "KFiKVT5ATCSQ",
        "outputId": "7282ff62-6bdb-40db-a8fb-943dd5bd73cc"
      },
      "execution_count": 10,
      "outputs": [
        {
          "output_type": "execute_result",
          "data": {
            "text/plain": [
              "      BoardGameRank  2019-09-07  2019-09-14  2019-09-21  2019-09-28  \\\n",
              "0                 1    174430.0    174430.0    174430.0    174430.0   \n",
              "1                 2    161936.0    161936.0    161936.0    161936.0   \n",
              "2                 3    167791.0    167791.0    167791.0    167791.0   \n",
              "3                 4    182028.0    182028.0    182028.0    182028.0   \n",
              "4                 5     12333.0     12333.0     12333.0     12333.0   \n",
              "...             ...         ...         ...         ...         ...   \n",
              "5010           5009         NaN         NaN         NaN         NaN   \n",
              "5011           5007         NaN         NaN         NaN         NaN   \n",
              "5012           5023         NaN         NaN         NaN         NaN   \n",
              "5013           5021         NaN         NaN         NaN         NaN   \n",
              "5014           5017         NaN         NaN         NaN         NaN   \n",
              "\n",
              "      2019-10-05  2019-10-12  2019-10-19  2019-10-26  2019-11-02  ...  \\\n",
              "0       174430.0    174430.0    174430.0    174430.0    174430.0  ...   \n",
              "1       161936.0    161936.0    161936.0    161936.0    161936.0  ...   \n",
              "2       167791.0    167791.0    167791.0    167791.0    167791.0  ...   \n",
              "3       182028.0    182028.0    182028.0    182028.0    182028.0  ...   \n",
              "4        12333.0     12333.0     12333.0     12333.0     12333.0  ...   \n",
              "...          ...         ...         ...         ...         ...  ...   \n",
              "5010         NaN         NaN         NaN         NaN         NaN  ...   \n",
              "5011         NaN         NaN         NaN         NaN         NaN  ...   \n",
              "5012         NaN         NaN         NaN         NaN         NaN  ...   \n",
              "5013         NaN         NaN         NaN         NaN         NaN  ...   \n",
              "5014         NaN         NaN         NaN         NaN         NaN  ...   \n",
              "\n",
              "      2022-01-08  2022-01-15  2022-01-22  2022-01-29  2022-02-05  2022-02-12  \\\n",
              "0       174430.0    174430.0    174430.0    174430.0    174430.0    174430.0   \n",
              "1       161936.0    161936.0    161936.0    161936.0    161936.0    161936.0   \n",
              "2       224517.0    224517.0    224517.0    224517.0    224517.0    224517.0   \n",
              "3       167791.0    167791.0    167791.0    167791.0    167791.0    167791.0   \n",
              "4       233078.0    233078.0    233078.0    233078.0    291457.0    233078.0   \n",
              "...          ...         ...         ...         ...         ...         ...   \n",
              "5010         NaN         NaN         NaN         NaN         NaN         NaN   \n",
              "5011         NaN         NaN         NaN         NaN         NaN         NaN   \n",
              "5012         NaN         NaN         NaN         NaN         NaN         NaN   \n",
              "5013         NaN         NaN         NaN         NaN         NaN         NaN   \n",
              "5014         NaN         NaN         NaN         NaN         NaN         NaN   \n",
              "\n",
              "      2022-02-19  2022-02-26  2022-03-05  2022-03-12  \n",
              "0       174430.0    174430.0    174430.0    174430.0  \n",
              "1       161936.0    161936.0    161936.0    161936.0  \n",
              "2       224517.0    224517.0    224517.0    224517.0  \n",
              "3       167791.0    167791.0    167791.0    167791.0  \n",
              "4       291457.0    291457.0    291457.0    291457.0  \n",
              "...          ...         ...         ...         ...  \n",
              "5010         NaN         NaN         NaN         NaN  \n",
              "5011         NaN         NaN         NaN         NaN  \n",
              "5012         NaN         NaN         NaN         NaN  \n",
              "5013         NaN         NaN         NaN         NaN  \n",
              "5014         NaN         NaN         NaN         NaN  \n",
              "\n",
              "[5015 rows x 132 columns]"
            ],
            "text/html": [
              "\n",
              "  <div id=\"df-aa4e93c8-de42-48a2-858e-0b5f382ceed2\">\n",
              "    <div class=\"colab-df-container\">\n",
              "      <div>\n",
              "<style scoped>\n",
              "    .dataframe tbody tr th:only-of-type {\n",
              "        vertical-align: middle;\n",
              "    }\n",
              "\n",
              "    .dataframe tbody tr th {\n",
              "        vertical-align: top;\n",
              "    }\n",
              "\n",
              "    .dataframe thead th {\n",
              "        text-align: right;\n",
              "    }\n",
              "</style>\n",
              "<table border=\"1\" class=\"dataframe\">\n",
              "  <thead>\n",
              "    <tr style=\"text-align: right;\">\n",
              "      <th></th>\n",
              "      <th>BoardGameRank</th>\n",
              "      <th>2019-09-07</th>\n",
              "      <th>2019-09-14</th>\n",
              "      <th>2019-09-21</th>\n",
              "      <th>2019-09-28</th>\n",
              "      <th>2019-10-05</th>\n",
              "      <th>2019-10-12</th>\n",
              "      <th>2019-10-19</th>\n",
              "      <th>2019-10-26</th>\n",
              "      <th>2019-11-02</th>\n",
              "      <th>...</th>\n",
              "      <th>2022-01-08</th>\n",
              "      <th>2022-01-15</th>\n",
              "      <th>2022-01-22</th>\n",
              "      <th>2022-01-29</th>\n",
              "      <th>2022-02-05</th>\n",
              "      <th>2022-02-12</th>\n",
              "      <th>2022-02-19</th>\n",
              "      <th>2022-02-26</th>\n",
              "      <th>2022-03-05</th>\n",
              "      <th>2022-03-12</th>\n",
              "    </tr>\n",
              "  </thead>\n",
              "  <tbody>\n",
              "    <tr>\n",
              "      <th>0</th>\n",
              "      <td>1</td>\n",
              "      <td>174430.0</td>\n",
              "      <td>174430.0</td>\n",
              "      <td>174430.0</td>\n",
              "      <td>174430.0</td>\n",
              "      <td>174430.0</td>\n",
              "      <td>174430.0</td>\n",
              "      <td>174430.0</td>\n",
              "      <td>174430.0</td>\n",
              "      <td>174430.0</td>\n",
              "      <td>...</td>\n",
              "      <td>174430.0</td>\n",
              "      <td>174430.0</td>\n",
              "      <td>174430.0</td>\n",
              "      <td>174430.0</td>\n",
              "      <td>174430.0</td>\n",
              "      <td>174430.0</td>\n",
              "      <td>174430.0</td>\n",
              "      <td>174430.0</td>\n",
              "      <td>174430.0</td>\n",
              "      <td>174430.0</td>\n",
              "    </tr>\n",
              "    <tr>\n",
              "      <th>1</th>\n",
              "      <td>2</td>\n",
              "      <td>161936.0</td>\n",
              "      <td>161936.0</td>\n",
              "      <td>161936.0</td>\n",
              "      <td>161936.0</td>\n",
              "      <td>161936.0</td>\n",
              "      <td>161936.0</td>\n",
              "      <td>161936.0</td>\n",
              "      <td>161936.0</td>\n",
              "      <td>161936.0</td>\n",
              "      <td>...</td>\n",
              "      <td>161936.0</td>\n",
              "      <td>161936.0</td>\n",
              "      <td>161936.0</td>\n",
              "      <td>161936.0</td>\n",
              "      <td>161936.0</td>\n",
              "      <td>161936.0</td>\n",
              "      <td>161936.0</td>\n",
              "      <td>161936.0</td>\n",
              "      <td>161936.0</td>\n",
              "      <td>161936.0</td>\n",
              "    </tr>\n",
              "    <tr>\n",
              "      <th>2</th>\n",
              "      <td>3</td>\n",
              "      <td>167791.0</td>\n",
              "      <td>167791.0</td>\n",
              "      <td>167791.0</td>\n",
              "      <td>167791.0</td>\n",
              "      <td>167791.0</td>\n",
              "      <td>167791.0</td>\n",
              "      <td>167791.0</td>\n",
              "      <td>167791.0</td>\n",
              "      <td>167791.0</td>\n",
              "      <td>...</td>\n",
              "      <td>224517.0</td>\n",
              "      <td>224517.0</td>\n",
              "      <td>224517.0</td>\n",
              "      <td>224517.0</td>\n",
              "      <td>224517.0</td>\n",
              "      <td>224517.0</td>\n",
              "      <td>224517.0</td>\n",
              "      <td>224517.0</td>\n",
              "      <td>224517.0</td>\n",
              "      <td>224517.0</td>\n",
              "    </tr>\n",
              "    <tr>\n",
              "      <th>3</th>\n",
              "      <td>4</td>\n",
              "      <td>182028.0</td>\n",
              "      <td>182028.0</td>\n",
              "      <td>182028.0</td>\n",
              "      <td>182028.0</td>\n",
              "      <td>182028.0</td>\n",
              "      <td>182028.0</td>\n",
              "      <td>182028.0</td>\n",
              "      <td>182028.0</td>\n",
              "      <td>182028.0</td>\n",
              "      <td>...</td>\n",
              "      <td>167791.0</td>\n",
              "      <td>167791.0</td>\n",
              "      <td>167791.0</td>\n",
              "      <td>167791.0</td>\n",
              "      <td>167791.0</td>\n",
              "      <td>167791.0</td>\n",
              "      <td>167791.0</td>\n",
              "      <td>167791.0</td>\n",
              "      <td>167791.0</td>\n",
              "      <td>167791.0</td>\n",
              "    </tr>\n",
              "    <tr>\n",
              "      <th>4</th>\n",
              "      <td>5</td>\n",
              "      <td>12333.0</td>\n",
              "      <td>12333.0</td>\n",
              "      <td>12333.0</td>\n",
              "      <td>12333.0</td>\n",
              "      <td>12333.0</td>\n",
              "      <td>12333.0</td>\n",
              "      <td>12333.0</td>\n",
              "      <td>12333.0</td>\n",
              "      <td>12333.0</td>\n",
              "      <td>...</td>\n",
              "      <td>233078.0</td>\n",
              "      <td>233078.0</td>\n",
              "      <td>233078.0</td>\n",
              "      <td>233078.0</td>\n",
              "      <td>291457.0</td>\n",
              "      <td>233078.0</td>\n",
              "      <td>291457.0</td>\n",
              "      <td>291457.0</td>\n",
              "      <td>291457.0</td>\n",
              "      <td>291457.0</td>\n",
              "    </tr>\n",
              "    <tr>\n",
              "      <th>...</th>\n",
              "      <td>...</td>\n",
              "      <td>...</td>\n",
              "      <td>...</td>\n",
              "      <td>...</td>\n",
              "      <td>...</td>\n",
              "      <td>...</td>\n",
              "      <td>...</td>\n",
              "      <td>...</td>\n",
              "      <td>...</td>\n",
              "      <td>...</td>\n",
              "      <td>...</td>\n",
              "      <td>...</td>\n",
              "      <td>...</td>\n",
              "      <td>...</td>\n",
              "      <td>...</td>\n",
              "      <td>...</td>\n",
              "      <td>...</td>\n",
              "      <td>...</td>\n",
              "      <td>...</td>\n",
              "      <td>...</td>\n",
              "      <td>...</td>\n",
              "    </tr>\n",
              "    <tr>\n",
              "      <th>5010</th>\n",
              "      <td>5009</td>\n",
              "      <td>NaN</td>\n",
              "      <td>NaN</td>\n",
              "      <td>NaN</td>\n",
              "      <td>NaN</td>\n",
              "      <td>NaN</td>\n",
              "      <td>NaN</td>\n",
              "      <td>NaN</td>\n",
              "      <td>NaN</td>\n",
              "      <td>NaN</td>\n",
              "      <td>...</td>\n",
              "      <td>NaN</td>\n",
              "      <td>NaN</td>\n",
              "      <td>NaN</td>\n",
              "      <td>NaN</td>\n",
              "      <td>NaN</td>\n",
              "      <td>NaN</td>\n",
              "      <td>NaN</td>\n",
              "      <td>NaN</td>\n",
              "      <td>NaN</td>\n",
              "      <td>NaN</td>\n",
              "    </tr>\n",
              "    <tr>\n",
              "      <th>5011</th>\n",
              "      <td>5007</td>\n",
              "      <td>NaN</td>\n",
              "      <td>NaN</td>\n",
              "      <td>NaN</td>\n",
              "      <td>NaN</td>\n",
              "      <td>NaN</td>\n",
              "      <td>NaN</td>\n",
              "      <td>NaN</td>\n",
              "      <td>NaN</td>\n",
              "      <td>NaN</td>\n",
              "      <td>...</td>\n",
              "      <td>NaN</td>\n",
              "      <td>NaN</td>\n",
              "      <td>NaN</td>\n",
              "      <td>NaN</td>\n",
              "      <td>NaN</td>\n",
              "      <td>NaN</td>\n",
              "      <td>NaN</td>\n",
              "      <td>NaN</td>\n",
              "      <td>NaN</td>\n",
              "      <td>NaN</td>\n",
              "    </tr>\n",
              "    <tr>\n",
              "      <th>5012</th>\n",
              "      <td>5023</td>\n",
              "      <td>NaN</td>\n",
              "      <td>NaN</td>\n",
              "      <td>NaN</td>\n",
              "      <td>NaN</td>\n",
              "      <td>NaN</td>\n",
              "      <td>NaN</td>\n",
              "      <td>NaN</td>\n",
              "      <td>NaN</td>\n",
              "      <td>NaN</td>\n",
              "      <td>...</td>\n",
              "      <td>NaN</td>\n",
              "      <td>NaN</td>\n",
              "      <td>NaN</td>\n",
              "      <td>NaN</td>\n",
              "      <td>NaN</td>\n",
              "      <td>NaN</td>\n",
              "      <td>NaN</td>\n",
              "      <td>NaN</td>\n",
              "      <td>NaN</td>\n",
              "      <td>NaN</td>\n",
              "    </tr>\n",
              "    <tr>\n",
              "      <th>5013</th>\n",
              "      <td>5021</td>\n",
              "      <td>NaN</td>\n",
              "      <td>NaN</td>\n",
              "      <td>NaN</td>\n",
              "      <td>NaN</td>\n",
              "      <td>NaN</td>\n",
              "      <td>NaN</td>\n",
              "      <td>NaN</td>\n",
              "      <td>NaN</td>\n",
              "      <td>NaN</td>\n",
              "      <td>...</td>\n",
              "      <td>NaN</td>\n",
              "      <td>NaN</td>\n",
              "      <td>NaN</td>\n",
              "      <td>NaN</td>\n",
              "      <td>NaN</td>\n",
              "      <td>NaN</td>\n",
              "      <td>NaN</td>\n",
              "      <td>NaN</td>\n",
              "      <td>NaN</td>\n",
              "      <td>NaN</td>\n",
              "    </tr>\n",
              "    <tr>\n",
              "      <th>5014</th>\n",
              "      <td>5017</td>\n",
              "      <td>NaN</td>\n",
              "      <td>NaN</td>\n",
              "      <td>NaN</td>\n",
              "      <td>NaN</td>\n",
              "      <td>NaN</td>\n",
              "      <td>NaN</td>\n",
              "      <td>NaN</td>\n",
              "      <td>NaN</td>\n",
              "      <td>NaN</td>\n",
              "      <td>...</td>\n",
              "      <td>NaN</td>\n",
              "      <td>NaN</td>\n",
              "      <td>NaN</td>\n",
              "      <td>NaN</td>\n",
              "      <td>NaN</td>\n",
              "      <td>NaN</td>\n",
              "      <td>NaN</td>\n",
              "      <td>NaN</td>\n",
              "      <td>NaN</td>\n",
              "      <td>NaN</td>\n",
              "    </tr>\n",
              "  </tbody>\n",
              "</table>\n",
              "<p>5015 rows × 132 columns</p>\n",
              "</div>\n",
              "      <button class=\"colab-df-convert\" onclick=\"convertToInteractive('df-aa4e93c8-de42-48a2-858e-0b5f382ceed2')\"\n",
              "              title=\"Convert this dataframe to an interactive table.\"\n",
              "              style=\"display:none;\">\n",
              "        \n",
              "  <svg xmlns=\"http://www.w3.org/2000/svg\" height=\"24px\"viewBox=\"0 0 24 24\"\n",
              "       width=\"24px\">\n",
              "    <path d=\"M0 0h24v24H0V0z\" fill=\"none\"/>\n",
              "    <path d=\"M18.56 5.44l.94 2.06.94-2.06 2.06-.94-2.06-.94-.94-2.06-.94 2.06-2.06.94zm-11 1L8.5 8.5l.94-2.06 2.06-.94-2.06-.94L8.5 2.5l-.94 2.06-2.06.94zm10 10l.94 2.06.94-2.06 2.06-.94-2.06-.94-.94-2.06-.94 2.06-2.06.94z\"/><path d=\"M17.41 7.96l-1.37-1.37c-.4-.4-.92-.59-1.43-.59-.52 0-1.04.2-1.43.59L10.3 9.45l-7.72 7.72c-.78.78-.78 2.05 0 2.83L4 21.41c.39.39.9.59 1.41.59.51 0 1.02-.2 1.41-.59l7.78-7.78 2.81-2.81c.8-.78.8-2.07 0-2.86zM5.41 20L4 18.59l7.72-7.72 1.47 1.35L5.41 20z\"/>\n",
              "  </svg>\n",
              "      </button>\n",
              "      \n",
              "  <style>\n",
              "    .colab-df-container {\n",
              "      display:flex;\n",
              "      flex-wrap:wrap;\n",
              "      gap: 12px;\n",
              "    }\n",
              "\n",
              "    .colab-df-convert {\n",
              "      background-color: #E8F0FE;\n",
              "      border: none;\n",
              "      border-radius: 50%;\n",
              "      cursor: pointer;\n",
              "      display: none;\n",
              "      fill: #1967D2;\n",
              "      height: 32px;\n",
              "      padding: 0 0 0 0;\n",
              "      width: 32px;\n",
              "    }\n",
              "\n",
              "    .colab-df-convert:hover {\n",
              "      background-color: #E2EBFA;\n",
              "      box-shadow: 0px 1px 2px rgba(60, 64, 67, 0.3), 0px 1px 3px 1px rgba(60, 64, 67, 0.15);\n",
              "      fill: #174EA6;\n",
              "    }\n",
              "\n",
              "    [theme=dark] .colab-df-convert {\n",
              "      background-color: #3B4455;\n",
              "      fill: #D2E3FC;\n",
              "    }\n",
              "\n",
              "    [theme=dark] .colab-df-convert:hover {\n",
              "      background-color: #434B5C;\n",
              "      box-shadow: 0px 1px 3px 1px rgba(0, 0, 0, 0.15);\n",
              "      filter: drop-shadow(0px 1px 2px rgba(0, 0, 0, 0.3));\n",
              "      fill: #FFFFFF;\n",
              "    }\n",
              "  </style>\n",
              "\n",
              "      <script>\n",
              "        const buttonEl =\n",
              "          document.querySelector('#df-aa4e93c8-de42-48a2-858e-0b5f382ceed2 button.colab-df-convert');\n",
              "        buttonEl.style.display =\n",
              "          google.colab.kernel.accessAllowed ? 'block' : 'none';\n",
              "\n",
              "        async function convertToInteractive(key) {\n",
              "          const element = document.querySelector('#df-aa4e93c8-de42-48a2-858e-0b5f382ceed2');\n",
              "          const dataTable =\n",
              "            await google.colab.kernel.invokeFunction('convertToInteractive',\n",
              "                                                     [key], {});\n",
              "          if (!dataTable) return;\n",
              "\n",
              "          const docLinkHtml = 'Like what you see? Visit the ' +\n",
              "            '<a target=\"_blank\" href=https://colab.research.google.com/notebooks/data_table.ipynb>data table notebook</a>'\n",
              "            + ' to learn more about interactive tables.';\n",
              "          element.innerHTML = '';\n",
              "          dataTable['output_type'] = 'display_data';\n",
              "          await google.colab.output.renderOutput(dataTable, element);\n",
              "          const docLink = document.createElement('div');\n",
              "          docLink.innerHTML = docLinkHtml;\n",
              "          element.appendChild(docLink);\n",
              "        }\n",
              "      </script>\n",
              "    </div>\n",
              "  </div>\n",
              "  "
            ]
          },
          "metadata": {},
          "execution_count": 10
        }
      ]
    },
    {
      "cell_type": "code",
      "source": [
        "# Drop odd columns 5002+ which are just full of NA values...\n",
        "rank_df = rank_df.head(5002)\n",
        "rank_df.isna().sum().sort_values(ascending = False)"
      ],
      "metadata": {
        "colab": {
          "base_uri": "https://localhost:8080/"
        },
        "id": "yIBFtDcKEnPc",
        "outputId": "d2f02111-da80-4a44-e902-a5ad4ef2d6ee"
      },
      "execution_count": 11,
      "outputs": [
        {
          "output_type": "execute_result",
          "data": {
            "text/plain": [
              "2020-01-04       38\n",
              "2020-12-26       36\n",
              "2020-02-08       32\n",
              "2020-01-18       25\n",
              "2020-08-08       25\n",
              "                 ..\n",
              "2021-07-03        2\n",
              "2021-06-27        2\n",
              "2021-02-20        2\n",
              "2021-05-01        2\n",
              "BoardGameRank     0\n",
              "Length: 132, dtype: int64"
            ]
          },
          "metadata": {},
          "execution_count": 11
        }
      ]
    },
    {
      "cell_type": "code",
      "source": [
        "# NAs arent only appearing at the tail end of the numbers... they are interspersed within the dataset.\n",
        "rank_df.tail()"
      ],
      "metadata": {
        "colab": {
          "base_uri": "https://localhost:8080/",
          "height": 317
        },
        "id": "gcDRWqWrUdF_",
        "outputId": "b1e92686-acf0-4100-e51f-12b722b00c15"
      },
      "execution_count": 12,
      "outputs": [
        {
          "output_type": "execute_result",
          "data": {
            "text/plain": [
              "      BoardGameRank  2019-09-07  2019-09-14  2019-09-21  2019-09-28  \\\n",
              "4997           4601         NaN      5635.0      8316.0     17526.0   \n",
              "4998           4607         NaN    218126.0      5635.0    267735.0   \n",
              "4999           4801         NaN      5251.0    181404.0     10623.0   \n",
              "5000           4976         NaN     68188.0     94731.0    244994.0   \n",
              "5001           5001         NaN         NaN         NaN    231450.0   \n",
              "\n",
              "      2019-10-05  2019-10-12  2019-10-19  2019-10-26  2019-11-02  ...  \\\n",
              "4997         NaN       637.0     95386.0      5233.0    267378.0  ...   \n",
              "4998    103670.0    216179.0       145.0      6191.0     35634.0  ...   \n",
              "4999    138614.0    121993.0    181404.0         NaN      3852.0  ...   \n",
              "5000     76207.0     62030.0    192906.0    202942.0      1533.0  ...   \n",
              "5001         NaN         NaN    128011.0         NaN         NaN  ...   \n",
              "\n",
              "      2022-01-08  2022-01-15  2022-01-22  2022-01-29  2022-02-05  2022-02-12  \\\n",
              "4997    191989.0       748.0    333539.0    240465.0    197178.0    165877.0   \n",
              "4998    206805.0    118023.0      3597.0      6137.0     43320.0    178147.0   \n",
              "4999    126613.0    132817.0      4753.0    207330.0     93541.0      1942.0   \n",
              "5000    308621.0      3040.0    163097.0    317981.0    225214.0    222821.0   \n",
              "5001         NaN         NaN         NaN         NaN         NaN     37672.0   \n",
              "\n",
              "      2022-02-19  2022-02-26  2022-03-05  2022-03-12  \n",
              "4997    180543.0    132497.0     30328.0    172994.0  \n",
              "4998    244794.0    244794.0        34.0     97875.0  \n",
              "4999    158544.0    114991.0    231748.0    247106.0  \n",
              "5000     16320.0    222821.0      7103.0    189294.0  \n",
              "5001         NaN         NaN         NaN         NaN  \n",
              "\n",
              "[5 rows x 132 columns]"
            ],
            "text/html": [
              "\n",
              "  <div id=\"df-19c7e236-49ea-4adf-972f-46a48eda9667\">\n",
              "    <div class=\"colab-df-container\">\n",
              "      <div>\n",
              "<style scoped>\n",
              "    .dataframe tbody tr th:only-of-type {\n",
              "        vertical-align: middle;\n",
              "    }\n",
              "\n",
              "    .dataframe tbody tr th {\n",
              "        vertical-align: top;\n",
              "    }\n",
              "\n",
              "    .dataframe thead th {\n",
              "        text-align: right;\n",
              "    }\n",
              "</style>\n",
              "<table border=\"1\" class=\"dataframe\">\n",
              "  <thead>\n",
              "    <tr style=\"text-align: right;\">\n",
              "      <th></th>\n",
              "      <th>BoardGameRank</th>\n",
              "      <th>2019-09-07</th>\n",
              "      <th>2019-09-14</th>\n",
              "      <th>2019-09-21</th>\n",
              "      <th>2019-09-28</th>\n",
              "      <th>2019-10-05</th>\n",
              "      <th>2019-10-12</th>\n",
              "      <th>2019-10-19</th>\n",
              "      <th>2019-10-26</th>\n",
              "      <th>2019-11-02</th>\n",
              "      <th>...</th>\n",
              "      <th>2022-01-08</th>\n",
              "      <th>2022-01-15</th>\n",
              "      <th>2022-01-22</th>\n",
              "      <th>2022-01-29</th>\n",
              "      <th>2022-02-05</th>\n",
              "      <th>2022-02-12</th>\n",
              "      <th>2022-02-19</th>\n",
              "      <th>2022-02-26</th>\n",
              "      <th>2022-03-05</th>\n",
              "      <th>2022-03-12</th>\n",
              "    </tr>\n",
              "  </thead>\n",
              "  <tbody>\n",
              "    <tr>\n",
              "      <th>4997</th>\n",
              "      <td>4601</td>\n",
              "      <td>NaN</td>\n",
              "      <td>5635.0</td>\n",
              "      <td>8316.0</td>\n",
              "      <td>17526.0</td>\n",
              "      <td>NaN</td>\n",
              "      <td>637.0</td>\n",
              "      <td>95386.0</td>\n",
              "      <td>5233.0</td>\n",
              "      <td>267378.0</td>\n",
              "      <td>...</td>\n",
              "      <td>191989.0</td>\n",
              "      <td>748.0</td>\n",
              "      <td>333539.0</td>\n",
              "      <td>240465.0</td>\n",
              "      <td>197178.0</td>\n",
              "      <td>165877.0</td>\n",
              "      <td>180543.0</td>\n",
              "      <td>132497.0</td>\n",
              "      <td>30328.0</td>\n",
              "      <td>172994.0</td>\n",
              "    </tr>\n",
              "    <tr>\n",
              "      <th>4998</th>\n",
              "      <td>4607</td>\n",
              "      <td>NaN</td>\n",
              "      <td>218126.0</td>\n",
              "      <td>5635.0</td>\n",
              "      <td>267735.0</td>\n",
              "      <td>103670.0</td>\n",
              "      <td>216179.0</td>\n",
              "      <td>145.0</td>\n",
              "      <td>6191.0</td>\n",
              "      <td>35634.0</td>\n",
              "      <td>...</td>\n",
              "      <td>206805.0</td>\n",
              "      <td>118023.0</td>\n",
              "      <td>3597.0</td>\n",
              "      <td>6137.0</td>\n",
              "      <td>43320.0</td>\n",
              "      <td>178147.0</td>\n",
              "      <td>244794.0</td>\n",
              "      <td>244794.0</td>\n",
              "      <td>34.0</td>\n",
              "      <td>97875.0</td>\n",
              "    </tr>\n",
              "    <tr>\n",
              "      <th>4999</th>\n",
              "      <td>4801</td>\n",
              "      <td>NaN</td>\n",
              "      <td>5251.0</td>\n",
              "      <td>181404.0</td>\n",
              "      <td>10623.0</td>\n",
              "      <td>138614.0</td>\n",
              "      <td>121993.0</td>\n",
              "      <td>181404.0</td>\n",
              "      <td>NaN</td>\n",
              "      <td>3852.0</td>\n",
              "      <td>...</td>\n",
              "      <td>126613.0</td>\n",
              "      <td>132817.0</td>\n",
              "      <td>4753.0</td>\n",
              "      <td>207330.0</td>\n",
              "      <td>93541.0</td>\n",
              "      <td>1942.0</td>\n",
              "      <td>158544.0</td>\n",
              "      <td>114991.0</td>\n",
              "      <td>231748.0</td>\n",
              "      <td>247106.0</td>\n",
              "    </tr>\n",
              "    <tr>\n",
              "      <th>5000</th>\n",
              "      <td>4976</td>\n",
              "      <td>NaN</td>\n",
              "      <td>68188.0</td>\n",
              "      <td>94731.0</td>\n",
              "      <td>244994.0</td>\n",
              "      <td>76207.0</td>\n",
              "      <td>62030.0</td>\n",
              "      <td>192906.0</td>\n",
              "      <td>202942.0</td>\n",
              "      <td>1533.0</td>\n",
              "      <td>...</td>\n",
              "      <td>308621.0</td>\n",
              "      <td>3040.0</td>\n",
              "      <td>163097.0</td>\n",
              "      <td>317981.0</td>\n",
              "      <td>225214.0</td>\n",
              "      <td>222821.0</td>\n",
              "      <td>16320.0</td>\n",
              "      <td>222821.0</td>\n",
              "      <td>7103.0</td>\n",
              "      <td>189294.0</td>\n",
              "    </tr>\n",
              "    <tr>\n",
              "      <th>5001</th>\n",
              "      <td>5001</td>\n",
              "      <td>NaN</td>\n",
              "      <td>NaN</td>\n",
              "      <td>NaN</td>\n",
              "      <td>231450.0</td>\n",
              "      <td>NaN</td>\n",
              "      <td>NaN</td>\n",
              "      <td>128011.0</td>\n",
              "      <td>NaN</td>\n",
              "      <td>NaN</td>\n",
              "      <td>...</td>\n",
              "      <td>NaN</td>\n",
              "      <td>NaN</td>\n",
              "      <td>NaN</td>\n",
              "      <td>NaN</td>\n",
              "      <td>NaN</td>\n",
              "      <td>37672.0</td>\n",
              "      <td>NaN</td>\n",
              "      <td>NaN</td>\n",
              "      <td>NaN</td>\n",
              "      <td>NaN</td>\n",
              "    </tr>\n",
              "  </tbody>\n",
              "</table>\n",
              "<p>5 rows × 132 columns</p>\n",
              "</div>\n",
              "      <button class=\"colab-df-convert\" onclick=\"convertToInteractive('df-19c7e236-49ea-4adf-972f-46a48eda9667')\"\n",
              "              title=\"Convert this dataframe to an interactive table.\"\n",
              "              style=\"display:none;\">\n",
              "        \n",
              "  <svg xmlns=\"http://www.w3.org/2000/svg\" height=\"24px\"viewBox=\"0 0 24 24\"\n",
              "       width=\"24px\">\n",
              "    <path d=\"M0 0h24v24H0V0z\" fill=\"none\"/>\n",
              "    <path d=\"M18.56 5.44l.94 2.06.94-2.06 2.06-.94-2.06-.94-.94-2.06-.94 2.06-2.06.94zm-11 1L8.5 8.5l.94-2.06 2.06-.94-2.06-.94L8.5 2.5l-.94 2.06-2.06.94zm10 10l.94 2.06.94-2.06 2.06-.94-2.06-.94-.94-2.06-.94 2.06-2.06.94z\"/><path d=\"M17.41 7.96l-1.37-1.37c-.4-.4-.92-.59-1.43-.59-.52 0-1.04.2-1.43.59L10.3 9.45l-7.72 7.72c-.78.78-.78 2.05 0 2.83L4 21.41c.39.39.9.59 1.41.59.51 0 1.02-.2 1.41-.59l7.78-7.78 2.81-2.81c.8-.78.8-2.07 0-2.86zM5.41 20L4 18.59l7.72-7.72 1.47 1.35L5.41 20z\"/>\n",
              "  </svg>\n",
              "      </button>\n",
              "      \n",
              "  <style>\n",
              "    .colab-df-container {\n",
              "      display:flex;\n",
              "      flex-wrap:wrap;\n",
              "      gap: 12px;\n",
              "    }\n",
              "\n",
              "    .colab-df-convert {\n",
              "      background-color: #E8F0FE;\n",
              "      border: none;\n",
              "      border-radius: 50%;\n",
              "      cursor: pointer;\n",
              "      display: none;\n",
              "      fill: #1967D2;\n",
              "      height: 32px;\n",
              "      padding: 0 0 0 0;\n",
              "      width: 32px;\n",
              "    }\n",
              "\n",
              "    .colab-df-convert:hover {\n",
              "      background-color: #E2EBFA;\n",
              "      box-shadow: 0px 1px 2px rgba(60, 64, 67, 0.3), 0px 1px 3px 1px rgba(60, 64, 67, 0.15);\n",
              "      fill: #174EA6;\n",
              "    }\n",
              "\n",
              "    [theme=dark] .colab-df-convert {\n",
              "      background-color: #3B4455;\n",
              "      fill: #D2E3FC;\n",
              "    }\n",
              "\n",
              "    [theme=dark] .colab-df-convert:hover {\n",
              "      background-color: #434B5C;\n",
              "      box-shadow: 0px 1px 3px 1px rgba(0, 0, 0, 0.15);\n",
              "      filter: drop-shadow(0px 1px 2px rgba(0, 0, 0, 0.3));\n",
              "      fill: #FFFFFF;\n",
              "    }\n",
              "  </style>\n",
              "\n",
              "      <script>\n",
              "        const buttonEl =\n",
              "          document.querySelector('#df-19c7e236-49ea-4adf-972f-46a48eda9667 button.colab-df-convert');\n",
              "        buttonEl.style.display =\n",
              "          google.colab.kernel.accessAllowed ? 'block' : 'none';\n",
              "\n",
              "        async function convertToInteractive(key) {\n",
              "          const element = document.querySelector('#df-19c7e236-49ea-4adf-972f-46a48eda9667');\n",
              "          const dataTable =\n",
              "            await google.colab.kernel.invokeFunction('convertToInteractive',\n",
              "                                                     [key], {});\n",
              "          if (!dataTable) return;\n",
              "\n",
              "          const docLinkHtml = 'Like what you see? Visit the ' +\n",
              "            '<a target=\"_blank\" href=https://colab.research.google.com/notebooks/data_table.ipynb>data table notebook</a>'\n",
              "            + ' to learn more about interactive tables.';\n",
              "          element.innerHTML = '';\n",
              "          dataTable['output_type'] = 'display_data';\n",
              "          await google.colab.output.renderOutput(dataTable, element);\n",
              "          const docLink = document.createElement('div');\n",
              "          docLink.innerHTML = docLinkHtml;\n",
              "          element.appendChild(docLink);\n",
              "        }\n",
              "      </script>\n",
              "    </div>\n",
              "  </div>\n",
              "  "
            ]
          },
          "metadata": {},
          "execution_count": 12
        }
      ]
    },
    {
      "cell_type": "code",
      "source": [
        "# Create pd.Series of all values in columns\n",
        "game_list = list(rank_df[rank_df.columns[2]])\n",
        "for col in rank_df.columns[2:]:\n",
        "    game_list += list(rank_df[col])\n",
        "\n",
        "game_list = pd.Series(game_list)\n",
        "game_list.drop_duplicates(inplace = True)\n",
        "game_list\n",
        "\n",
        "# Create a new DF using the above Series\n",
        "new_df = pd.DataFrame(game_list, columns = ['BGGId'] )\n",
        "new_df.reset_index(inplace = True, drop = True)\n",
        "\n",
        "# Create a blank dictionary to iterate through the above series\n",
        "game_dict = {}\n",
        "for i in list(game_list)[0:len(game_list)]:\n",
        "    game_dict.update({i : np.nan}) \n",
        "\n",
        "for i in rank_df.columns[1:]:\n",
        "    temp_dict = dict(zip(rank_df[i], rank_df['BoardGameRank']))\n",
        "    game_dict.update(temp_dict)\n",
        "    new_df[i] = new_df['BGGId'].copy()\n",
        "    # new_df.reset_index(drop = True, inplace = True)\n",
        "    new_df[i] = new_df[i].replace(game_dict)\n",
        "    game_dict = {}\n",
        "    for i in list(game_list)[0:len(game_list)]:\n",
        "        game_dict.update({i : np.nan}) \n",
        "\n",
        "new_df.head(10)\n",
        "\n",
        "# Fill NA with a dummy value of 999999\n",
        "# rank_df.fillna(value = 999999, inplace = True)\n",
        "# rank_df.tail()"
      ],
      "metadata": {
        "colab": {
          "base_uri": "https://localhost:8080/",
          "height": 491
        },
        "id": "O0mnX6rlA3Q7",
        "outputId": "6e6ef679-00b0-40cd-91cd-c872f2ed9886"
      },
      "execution_count": 13,
      "outputs": [
        {
          "output_type": "stream",
          "name": "stderr",
          "text": [
            "/usr/local/lib/python3.7/dist-packages/ipykernel_launcher.py:22: PerformanceWarning: DataFrame is highly fragmented.  This is usually the result of calling `frame.insert` many times, which has poor performance.  Consider joining all columns at once using pd.concat(axis=1) instead.  To get a de-fragmented frame, use `newframe = frame.copy()`\n"
          ]
        },
        {
          "output_type": "execute_result",
          "data": {
            "text/plain": [
              "      BGGId  2019-09-07  2019-09-14  2019-09-21  2019-09-28  2019-10-05  \\\n",
              "0  174430.0         1.0         1.0         1.0         1.0         1.0   \n",
              "1  161936.0         2.0         2.0         2.0         2.0         2.0   \n",
              "2  167791.0         3.0         3.0         3.0         3.0         3.0   \n",
              "3  182028.0         4.0         4.0         4.0         4.0         4.0   \n",
              "4   12333.0         5.0         5.0         5.0         5.0         5.0   \n",
              "5  187645.0         6.0         6.0         6.0         6.0         6.0   \n",
              "6  233078.0         7.0         7.0         7.0         7.0         7.0   \n",
              "7  220308.0         8.0         8.0         8.0         8.0         8.0   \n",
              "8  169786.0         9.0         9.0         9.0         9.0         9.0   \n",
              "9  193738.0        10.0        10.0        10.0        10.0        10.0   \n",
              "\n",
              "   2019-10-12  2019-10-19  2019-10-26  2019-11-02  ...  2022-01-08  \\\n",
              "0         1.0         1.0         1.0         1.0  ...         1.0   \n",
              "1         2.0         2.0         2.0         2.0  ...         2.0   \n",
              "2         3.0         3.0         3.0         3.0  ...         4.0   \n",
              "3         4.0         4.0         4.0         4.0  ...         9.0   \n",
              "4         5.0         5.0         5.0         5.0  ...        13.0   \n",
              "5         6.0         6.0         6.0         6.0  ...         8.0   \n",
              "6         7.0         7.0         7.0         7.0  ...         5.0   \n",
              "7         8.0         8.0         8.0         8.0  ...         7.0   \n",
              "8         9.0        10.0        10.0        10.0  ...        14.0   \n",
              "9        11.0        11.0        11.0        11.0  ...        12.0   \n",
              "\n",
              "   2022-01-15  2022-01-22  2022-01-29  2022-02-05  2022-02-12  2022-02-19  \\\n",
              "0         1.0         1.0         1.0         1.0         1.0         1.0   \n",
              "1         2.0         2.0         2.0         2.0         2.0         2.0   \n",
              "2         4.0         4.0         4.0         4.0         4.0         4.0   \n",
              "3         9.0         9.0         9.0         9.0         9.0         9.0   \n",
              "4        13.0        13.0        13.0        13.0        13.0        13.0   \n",
              "5         8.0         8.0         8.0         8.0         8.0         8.0   \n",
              "6         5.0         5.0         5.0         6.0         5.0         6.0   \n",
              "7         7.0         7.0         7.0         7.0         7.0         7.0   \n",
              "8        14.0        14.0        14.0        14.0        14.0        14.0   \n",
              "9        12.0        12.0        12.0        12.0        12.0        12.0   \n",
              "\n",
              "   2022-02-26  2022-03-05  2022-03-12  \n",
              "0         1.0         1.0         1.0  \n",
              "1         2.0         2.0         2.0  \n",
              "2         4.0         4.0         4.0  \n",
              "3         9.0        10.0        10.0  \n",
              "4        13.0        13.0        13.0  \n",
              "5         8.0         8.0         8.0  \n",
              "6         6.0         6.0         6.0  \n",
              "7         7.0         7.0         7.0  \n",
              "8        14.0        14.0        14.0  \n",
              "9        12.0        12.0        12.0  \n",
              "\n",
              "[10 rows x 132 columns]"
            ],
            "text/html": [
              "\n",
              "  <div id=\"df-afb6a73d-04d1-4319-bc8a-e68e8c410d9f\">\n",
              "    <div class=\"colab-df-container\">\n",
              "      <div>\n",
              "<style scoped>\n",
              "    .dataframe tbody tr th:only-of-type {\n",
              "        vertical-align: middle;\n",
              "    }\n",
              "\n",
              "    .dataframe tbody tr th {\n",
              "        vertical-align: top;\n",
              "    }\n",
              "\n",
              "    .dataframe thead th {\n",
              "        text-align: right;\n",
              "    }\n",
              "</style>\n",
              "<table border=\"1\" class=\"dataframe\">\n",
              "  <thead>\n",
              "    <tr style=\"text-align: right;\">\n",
              "      <th></th>\n",
              "      <th>BGGId</th>\n",
              "      <th>2019-09-07</th>\n",
              "      <th>2019-09-14</th>\n",
              "      <th>2019-09-21</th>\n",
              "      <th>2019-09-28</th>\n",
              "      <th>2019-10-05</th>\n",
              "      <th>2019-10-12</th>\n",
              "      <th>2019-10-19</th>\n",
              "      <th>2019-10-26</th>\n",
              "      <th>2019-11-02</th>\n",
              "      <th>...</th>\n",
              "      <th>2022-01-08</th>\n",
              "      <th>2022-01-15</th>\n",
              "      <th>2022-01-22</th>\n",
              "      <th>2022-01-29</th>\n",
              "      <th>2022-02-05</th>\n",
              "      <th>2022-02-12</th>\n",
              "      <th>2022-02-19</th>\n",
              "      <th>2022-02-26</th>\n",
              "      <th>2022-03-05</th>\n",
              "      <th>2022-03-12</th>\n",
              "    </tr>\n",
              "  </thead>\n",
              "  <tbody>\n",
              "    <tr>\n",
              "      <th>0</th>\n",
              "      <td>174430.0</td>\n",
              "      <td>1.0</td>\n",
              "      <td>1.0</td>\n",
              "      <td>1.0</td>\n",
              "      <td>1.0</td>\n",
              "      <td>1.0</td>\n",
              "      <td>1.0</td>\n",
              "      <td>1.0</td>\n",
              "      <td>1.0</td>\n",
              "      <td>1.0</td>\n",
              "      <td>...</td>\n",
              "      <td>1.0</td>\n",
              "      <td>1.0</td>\n",
              "      <td>1.0</td>\n",
              "      <td>1.0</td>\n",
              "      <td>1.0</td>\n",
              "      <td>1.0</td>\n",
              "      <td>1.0</td>\n",
              "      <td>1.0</td>\n",
              "      <td>1.0</td>\n",
              "      <td>1.0</td>\n",
              "    </tr>\n",
              "    <tr>\n",
              "      <th>1</th>\n",
              "      <td>161936.0</td>\n",
              "      <td>2.0</td>\n",
              "      <td>2.0</td>\n",
              "      <td>2.0</td>\n",
              "      <td>2.0</td>\n",
              "      <td>2.0</td>\n",
              "      <td>2.0</td>\n",
              "      <td>2.0</td>\n",
              "      <td>2.0</td>\n",
              "      <td>2.0</td>\n",
              "      <td>...</td>\n",
              "      <td>2.0</td>\n",
              "      <td>2.0</td>\n",
              "      <td>2.0</td>\n",
              "      <td>2.0</td>\n",
              "      <td>2.0</td>\n",
              "      <td>2.0</td>\n",
              "      <td>2.0</td>\n",
              "      <td>2.0</td>\n",
              "      <td>2.0</td>\n",
              "      <td>2.0</td>\n",
              "    </tr>\n",
              "    <tr>\n",
              "      <th>2</th>\n",
              "      <td>167791.0</td>\n",
              "      <td>3.0</td>\n",
              "      <td>3.0</td>\n",
              "      <td>3.0</td>\n",
              "      <td>3.0</td>\n",
              "      <td>3.0</td>\n",
              "      <td>3.0</td>\n",
              "      <td>3.0</td>\n",
              "      <td>3.0</td>\n",
              "      <td>3.0</td>\n",
              "      <td>...</td>\n",
              "      <td>4.0</td>\n",
              "      <td>4.0</td>\n",
              "      <td>4.0</td>\n",
              "      <td>4.0</td>\n",
              "      <td>4.0</td>\n",
              "      <td>4.0</td>\n",
              "      <td>4.0</td>\n",
              "      <td>4.0</td>\n",
              "      <td>4.0</td>\n",
              "      <td>4.0</td>\n",
              "    </tr>\n",
              "    <tr>\n",
              "      <th>3</th>\n",
              "      <td>182028.0</td>\n",
              "      <td>4.0</td>\n",
              "      <td>4.0</td>\n",
              "      <td>4.0</td>\n",
              "      <td>4.0</td>\n",
              "      <td>4.0</td>\n",
              "      <td>4.0</td>\n",
              "      <td>4.0</td>\n",
              "      <td>4.0</td>\n",
              "      <td>4.0</td>\n",
              "      <td>...</td>\n",
              "      <td>9.0</td>\n",
              "      <td>9.0</td>\n",
              "      <td>9.0</td>\n",
              "      <td>9.0</td>\n",
              "      <td>9.0</td>\n",
              "      <td>9.0</td>\n",
              "      <td>9.0</td>\n",
              "      <td>9.0</td>\n",
              "      <td>10.0</td>\n",
              "      <td>10.0</td>\n",
              "    </tr>\n",
              "    <tr>\n",
              "      <th>4</th>\n",
              "      <td>12333.0</td>\n",
              "      <td>5.0</td>\n",
              "      <td>5.0</td>\n",
              "      <td>5.0</td>\n",
              "      <td>5.0</td>\n",
              "      <td>5.0</td>\n",
              "      <td>5.0</td>\n",
              "      <td>5.0</td>\n",
              "      <td>5.0</td>\n",
              "      <td>5.0</td>\n",
              "      <td>...</td>\n",
              "      <td>13.0</td>\n",
              "      <td>13.0</td>\n",
              "      <td>13.0</td>\n",
              "      <td>13.0</td>\n",
              "      <td>13.0</td>\n",
              "      <td>13.0</td>\n",
              "      <td>13.0</td>\n",
              "      <td>13.0</td>\n",
              "      <td>13.0</td>\n",
              "      <td>13.0</td>\n",
              "    </tr>\n",
              "    <tr>\n",
              "      <th>5</th>\n",
              "      <td>187645.0</td>\n",
              "      <td>6.0</td>\n",
              "      <td>6.0</td>\n",
              "      <td>6.0</td>\n",
              "      <td>6.0</td>\n",
              "      <td>6.0</td>\n",
              "      <td>6.0</td>\n",
              "      <td>6.0</td>\n",
              "      <td>6.0</td>\n",
              "      <td>6.0</td>\n",
              "      <td>...</td>\n",
              "      <td>8.0</td>\n",
              "      <td>8.0</td>\n",
              "      <td>8.0</td>\n",
              "      <td>8.0</td>\n",
              "      <td>8.0</td>\n",
              "      <td>8.0</td>\n",
              "      <td>8.0</td>\n",
              "      <td>8.0</td>\n",
              "      <td>8.0</td>\n",
              "      <td>8.0</td>\n",
              "    </tr>\n",
              "    <tr>\n",
              "      <th>6</th>\n",
              "      <td>233078.0</td>\n",
              "      <td>7.0</td>\n",
              "      <td>7.0</td>\n",
              "      <td>7.0</td>\n",
              "      <td>7.0</td>\n",
              "      <td>7.0</td>\n",
              "      <td>7.0</td>\n",
              "      <td>7.0</td>\n",
              "      <td>7.0</td>\n",
              "      <td>7.0</td>\n",
              "      <td>...</td>\n",
              "      <td>5.0</td>\n",
              "      <td>5.0</td>\n",
              "      <td>5.0</td>\n",
              "      <td>5.0</td>\n",
              "      <td>6.0</td>\n",
              "      <td>5.0</td>\n",
              "      <td>6.0</td>\n",
              "      <td>6.0</td>\n",
              "      <td>6.0</td>\n",
              "      <td>6.0</td>\n",
              "    </tr>\n",
              "    <tr>\n",
              "      <th>7</th>\n",
              "      <td>220308.0</td>\n",
              "      <td>8.0</td>\n",
              "      <td>8.0</td>\n",
              "      <td>8.0</td>\n",
              "      <td>8.0</td>\n",
              "      <td>8.0</td>\n",
              "      <td>8.0</td>\n",
              "      <td>8.0</td>\n",
              "      <td>8.0</td>\n",
              "      <td>8.0</td>\n",
              "      <td>...</td>\n",
              "      <td>7.0</td>\n",
              "      <td>7.0</td>\n",
              "      <td>7.0</td>\n",
              "      <td>7.0</td>\n",
              "      <td>7.0</td>\n",
              "      <td>7.0</td>\n",
              "      <td>7.0</td>\n",
              "      <td>7.0</td>\n",
              "      <td>7.0</td>\n",
              "      <td>7.0</td>\n",
              "    </tr>\n",
              "    <tr>\n",
              "      <th>8</th>\n",
              "      <td>169786.0</td>\n",
              "      <td>9.0</td>\n",
              "      <td>9.0</td>\n",
              "      <td>9.0</td>\n",
              "      <td>9.0</td>\n",
              "      <td>9.0</td>\n",
              "      <td>9.0</td>\n",
              "      <td>10.0</td>\n",
              "      <td>10.0</td>\n",
              "      <td>10.0</td>\n",
              "      <td>...</td>\n",
              "      <td>14.0</td>\n",
              "      <td>14.0</td>\n",
              "      <td>14.0</td>\n",
              "      <td>14.0</td>\n",
              "      <td>14.0</td>\n",
              "      <td>14.0</td>\n",
              "      <td>14.0</td>\n",
              "      <td>14.0</td>\n",
              "      <td>14.0</td>\n",
              "      <td>14.0</td>\n",
              "    </tr>\n",
              "    <tr>\n",
              "      <th>9</th>\n",
              "      <td>193738.0</td>\n",
              "      <td>10.0</td>\n",
              "      <td>10.0</td>\n",
              "      <td>10.0</td>\n",
              "      <td>10.0</td>\n",
              "      <td>10.0</td>\n",
              "      <td>11.0</td>\n",
              "      <td>11.0</td>\n",
              "      <td>11.0</td>\n",
              "      <td>11.0</td>\n",
              "      <td>...</td>\n",
              "      <td>12.0</td>\n",
              "      <td>12.0</td>\n",
              "      <td>12.0</td>\n",
              "      <td>12.0</td>\n",
              "      <td>12.0</td>\n",
              "      <td>12.0</td>\n",
              "      <td>12.0</td>\n",
              "      <td>12.0</td>\n",
              "      <td>12.0</td>\n",
              "      <td>12.0</td>\n",
              "    </tr>\n",
              "  </tbody>\n",
              "</table>\n",
              "<p>10 rows × 132 columns</p>\n",
              "</div>\n",
              "      <button class=\"colab-df-convert\" onclick=\"convertToInteractive('df-afb6a73d-04d1-4319-bc8a-e68e8c410d9f')\"\n",
              "              title=\"Convert this dataframe to an interactive table.\"\n",
              "              style=\"display:none;\">\n",
              "        \n",
              "  <svg xmlns=\"http://www.w3.org/2000/svg\" height=\"24px\"viewBox=\"0 0 24 24\"\n",
              "       width=\"24px\">\n",
              "    <path d=\"M0 0h24v24H0V0z\" fill=\"none\"/>\n",
              "    <path d=\"M18.56 5.44l.94 2.06.94-2.06 2.06-.94-2.06-.94-.94-2.06-.94 2.06-2.06.94zm-11 1L8.5 8.5l.94-2.06 2.06-.94-2.06-.94L8.5 2.5l-.94 2.06-2.06.94zm10 10l.94 2.06.94-2.06 2.06-.94-2.06-.94-.94-2.06-.94 2.06-2.06.94z\"/><path d=\"M17.41 7.96l-1.37-1.37c-.4-.4-.92-.59-1.43-.59-.52 0-1.04.2-1.43.59L10.3 9.45l-7.72 7.72c-.78.78-.78 2.05 0 2.83L4 21.41c.39.39.9.59 1.41.59.51 0 1.02-.2 1.41-.59l7.78-7.78 2.81-2.81c.8-.78.8-2.07 0-2.86zM5.41 20L4 18.59l7.72-7.72 1.47 1.35L5.41 20z\"/>\n",
              "  </svg>\n",
              "      </button>\n",
              "      \n",
              "  <style>\n",
              "    .colab-df-container {\n",
              "      display:flex;\n",
              "      flex-wrap:wrap;\n",
              "      gap: 12px;\n",
              "    }\n",
              "\n",
              "    .colab-df-convert {\n",
              "      background-color: #E8F0FE;\n",
              "      border: none;\n",
              "      border-radius: 50%;\n",
              "      cursor: pointer;\n",
              "      display: none;\n",
              "      fill: #1967D2;\n",
              "      height: 32px;\n",
              "      padding: 0 0 0 0;\n",
              "      width: 32px;\n",
              "    }\n",
              "\n",
              "    .colab-df-convert:hover {\n",
              "      background-color: #E2EBFA;\n",
              "      box-shadow: 0px 1px 2px rgba(60, 64, 67, 0.3), 0px 1px 3px 1px rgba(60, 64, 67, 0.15);\n",
              "      fill: #174EA6;\n",
              "    }\n",
              "\n",
              "    [theme=dark] .colab-df-convert {\n",
              "      background-color: #3B4455;\n",
              "      fill: #D2E3FC;\n",
              "    }\n",
              "\n",
              "    [theme=dark] .colab-df-convert:hover {\n",
              "      background-color: #434B5C;\n",
              "      box-shadow: 0px 1px 3px 1px rgba(0, 0, 0, 0.15);\n",
              "      filter: drop-shadow(0px 1px 2px rgba(0, 0, 0, 0.3));\n",
              "      fill: #FFFFFF;\n",
              "    }\n",
              "  </style>\n",
              "\n",
              "      <script>\n",
              "        const buttonEl =\n",
              "          document.querySelector('#df-afb6a73d-04d1-4319-bc8a-e68e8c410d9f button.colab-df-convert');\n",
              "        buttonEl.style.display =\n",
              "          google.colab.kernel.accessAllowed ? 'block' : 'none';\n",
              "\n",
              "        async function convertToInteractive(key) {\n",
              "          const element = document.querySelector('#df-afb6a73d-04d1-4319-bc8a-e68e8c410d9f');\n",
              "          const dataTable =\n",
              "            await google.colab.kernel.invokeFunction('convertToInteractive',\n",
              "                                                     [key], {});\n",
              "          if (!dataTable) return;\n",
              "\n",
              "          const docLinkHtml = 'Like what you see? Visit the ' +\n",
              "            '<a target=\"_blank\" href=https://colab.research.google.com/notebooks/data_table.ipynb>data table notebook</a>'\n",
              "            + ' to learn more about interactive tables.';\n",
              "          element.innerHTML = '';\n",
              "          dataTable['output_type'] = 'display_data';\n",
              "          await google.colab.output.renderOutput(dataTable, element);\n",
              "          const docLink = document.createElement('div');\n",
              "          docLink.innerHTML = docLinkHtml;\n",
              "          element.appendChild(docLink);\n",
              "        }\n",
              "      </script>\n",
              "    </div>\n",
              "  </div>\n",
              "  "
            ]
          },
          "metadata": {},
          "execution_count": 13
        }
      ]
    },
    {
      "cell_type": "code",
      "source": [
        "# Test on #1 Game: Gloomhaven (BGG ID: 174430)\n",
        "new_df[new_df['BGGId'] == 174430.0]"
      ],
      "metadata": {
        "colab": {
          "base_uri": "https://localhost:8080/",
          "height": 171
        },
        "id": "EjMzRZo3rtSK",
        "outputId": "745ae92a-1230-40e5-dd62-487fd665e6ae"
      },
      "execution_count": 14,
      "outputs": [
        {
          "output_type": "execute_result",
          "data": {
            "text/plain": [
              "      BGGId  2019-09-07  2019-09-14  2019-09-21  2019-09-28  2019-10-05  \\\n",
              "0  174430.0         1.0         1.0         1.0         1.0         1.0   \n",
              "\n",
              "   2019-10-12  2019-10-19  2019-10-26  2019-11-02  ...  2022-01-08  \\\n",
              "0         1.0         1.0         1.0         1.0  ...         1.0   \n",
              "\n",
              "   2022-01-15  2022-01-22  2022-01-29  2022-02-05  2022-02-12  2022-02-19  \\\n",
              "0         1.0         1.0         1.0         1.0         1.0         1.0   \n",
              "\n",
              "   2022-02-26  2022-03-05  2022-03-12  \n",
              "0         1.0         1.0         1.0  \n",
              "\n",
              "[1 rows x 132 columns]"
            ],
            "text/html": [
              "\n",
              "  <div id=\"df-090b9c76-e3a5-4007-bfec-c4f110a869d9\">\n",
              "    <div class=\"colab-df-container\">\n",
              "      <div>\n",
              "<style scoped>\n",
              "    .dataframe tbody tr th:only-of-type {\n",
              "        vertical-align: middle;\n",
              "    }\n",
              "\n",
              "    .dataframe tbody tr th {\n",
              "        vertical-align: top;\n",
              "    }\n",
              "\n",
              "    .dataframe thead th {\n",
              "        text-align: right;\n",
              "    }\n",
              "</style>\n",
              "<table border=\"1\" class=\"dataframe\">\n",
              "  <thead>\n",
              "    <tr style=\"text-align: right;\">\n",
              "      <th></th>\n",
              "      <th>BGGId</th>\n",
              "      <th>2019-09-07</th>\n",
              "      <th>2019-09-14</th>\n",
              "      <th>2019-09-21</th>\n",
              "      <th>2019-09-28</th>\n",
              "      <th>2019-10-05</th>\n",
              "      <th>2019-10-12</th>\n",
              "      <th>2019-10-19</th>\n",
              "      <th>2019-10-26</th>\n",
              "      <th>2019-11-02</th>\n",
              "      <th>...</th>\n",
              "      <th>2022-01-08</th>\n",
              "      <th>2022-01-15</th>\n",
              "      <th>2022-01-22</th>\n",
              "      <th>2022-01-29</th>\n",
              "      <th>2022-02-05</th>\n",
              "      <th>2022-02-12</th>\n",
              "      <th>2022-02-19</th>\n",
              "      <th>2022-02-26</th>\n",
              "      <th>2022-03-05</th>\n",
              "      <th>2022-03-12</th>\n",
              "    </tr>\n",
              "  </thead>\n",
              "  <tbody>\n",
              "    <tr>\n",
              "      <th>0</th>\n",
              "      <td>174430.0</td>\n",
              "      <td>1.0</td>\n",
              "      <td>1.0</td>\n",
              "      <td>1.0</td>\n",
              "      <td>1.0</td>\n",
              "      <td>1.0</td>\n",
              "      <td>1.0</td>\n",
              "      <td>1.0</td>\n",
              "      <td>1.0</td>\n",
              "      <td>1.0</td>\n",
              "      <td>...</td>\n",
              "      <td>1.0</td>\n",
              "      <td>1.0</td>\n",
              "      <td>1.0</td>\n",
              "      <td>1.0</td>\n",
              "      <td>1.0</td>\n",
              "      <td>1.0</td>\n",
              "      <td>1.0</td>\n",
              "      <td>1.0</td>\n",
              "      <td>1.0</td>\n",
              "      <td>1.0</td>\n",
              "    </tr>\n",
              "  </tbody>\n",
              "</table>\n",
              "<p>1 rows × 132 columns</p>\n",
              "</div>\n",
              "      <button class=\"colab-df-convert\" onclick=\"convertToInteractive('df-090b9c76-e3a5-4007-bfec-c4f110a869d9')\"\n",
              "              title=\"Convert this dataframe to an interactive table.\"\n",
              "              style=\"display:none;\">\n",
              "        \n",
              "  <svg xmlns=\"http://www.w3.org/2000/svg\" height=\"24px\"viewBox=\"0 0 24 24\"\n",
              "       width=\"24px\">\n",
              "    <path d=\"M0 0h24v24H0V0z\" fill=\"none\"/>\n",
              "    <path d=\"M18.56 5.44l.94 2.06.94-2.06 2.06-.94-2.06-.94-.94-2.06-.94 2.06-2.06.94zm-11 1L8.5 8.5l.94-2.06 2.06-.94-2.06-.94L8.5 2.5l-.94 2.06-2.06.94zm10 10l.94 2.06.94-2.06 2.06-.94-2.06-.94-.94-2.06-.94 2.06-2.06.94z\"/><path d=\"M17.41 7.96l-1.37-1.37c-.4-.4-.92-.59-1.43-.59-.52 0-1.04.2-1.43.59L10.3 9.45l-7.72 7.72c-.78.78-.78 2.05 0 2.83L4 21.41c.39.39.9.59 1.41.59.51 0 1.02-.2 1.41-.59l7.78-7.78 2.81-2.81c.8-.78.8-2.07 0-2.86zM5.41 20L4 18.59l7.72-7.72 1.47 1.35L5.41 20z\"/>\n",
              "  </svg>\n",
              "      </button>\n",
              "      \n",
              "  <style>\n",
              "    .colab-df-container {\n",
              "      display:flex;\n",
              "      flex-wrap:wrap;\n",
              "      gap: 12px;\n",
              "    }\n",
              "\n",
              "    .colab-df-convert {\n",
              "      background-color: #E8F0FE;\n",
              "      border: none;\n",
              "      border-radius: 50%;\n",
              "      cursor: pointer;\n",
              "      display: none;\n",
              "      fill: #1967D2;\n",
              "      height: 32px;\n",
              "      padding: 0 0 0 0;\n",
              "      width: 32px;\n",
              "    }\n",
              "\n",
              "    .colab-df-convert:hover {\n",
              "      background-color: #E2EBFA;\n",
              "      box-shadow: 0px 1px 2px rgba(60, 64, 67, 0.3), 0px 1px 3px 1px rgba(60, 64, 67, 0.15);\n",
              "      fill: #174EA6;\n",
              "    }\n",
              "\n",
              "    [theme=dark] .colab-df-convert {\n",
              "      background-color: #3B4455;\n",
              "      fill: #D2E3FC;\n",
              "    }\n",
              "\n",
              "    [theme=dark] .colab-df-convert:hover {\n",
              "      background-color: #434B5C;\n",
              "      box-shadow: 0px 1px 3px 1px rgba(0, 0, 0, 0.15);\n",
              "      filter: drop-shadow(0px 1px 2px rgba(0, 0, 0, 0.3));\n",
              "      fill: #FFFFFF;\n",
              "    }\n",
              "  </style>\n",
              "\n",
              "      <script>\n",
              "        const buttonEl =\n",
              "          document.querySelector('#df-090b9c76-e3a5-4007-bfec-c4f110a869d9 button.colab-df-convert');\n",
              "        buttonEl.style.display =\n",
              "          google.colab.kernel.accessAllowed ? 'block' : 'none';\n",
              "\n",
              "        async function convertToInteractive(key) {\n",
              "          const element = document.querySelector('#df-090b9c76-e3a5-4007-bfec-c4f110a869d9');\n",
              "          const dataTable =\n",
              "            await google.colab.kernel.invokeFunction('convertToInteractive',\n",
              "                                                     [key], {});\n",
              "          if (!dataTable) return;\n",
              "\n",
              "          const docLinkHtml = 'Like what you see? Visit the ' +\n",
              "            '<a target=\"_blank\" href=https://colab.research.google.com/notebooks/data_table.ipynb>data table notebook</a>'\n",
              "            + ' to learn more about interactive tables.';\n",
              "          element.innerHTML = '';\n",
              "          dataTable['output_type'] = 'display_data';\n",
              "          await google.colab.output.renderOutput(dataTable, element);\n",
              "          const docLink = document.createElement('div');\n",
              "          docLink.innerHTML = docLinkHtml;\n",
              "          element.appendChild(docLink);\n",
              "        }\n",
              "      </script>\n",
              "    </div>\n",
              "  </div>\n",
              "  "
            ]
          },
          "metadata": {},
          "execution_count": 14
        }
      ]
    },
    {
      "cell_type": "code",
      "source": [
        "# Eliminate single NA value in our ID column...\n",
        "na_index = new_df[new_df['BGGId'].isna()].index\n",
        "new_df.drop(na_index, inplace = True)\n",
        "\n",
        "# Convert ID column to int64 for later merger with other data\n",
        "new_df['BGGId'] = new_df['BGGId'].astype('int')\n",
        "\n",
        "new_df['num_times'] = new_df[new_df.columns[1:132]].count(axis=1)\n",
        "new_df['avg_rank'] = round(new_df[new_df.columns[1:132]].mean(axis=1), 1)\n",
        "\n",
        "# Create a column to indicate the game cracked the top 100 at some point since SEP 2019\n",
        "new_df['Top_100'] = new_df[new_df.columns[1:132]].min(axis = 1) <= 100\n",
        "\n",
        "# Create a column to indicate the game cracked the top 20 at some point since SEP 2019\n",
        "new_df['Top_20'] = new_df[new_df.columns[1:132]].min(axis = 1) <= 20\n",
        "\n",
        "rank_df = new_df\n",
        "rank_df.head()"
      ],
      "metadata": {
        "colab": {
          "base_uri": "https://localhost:8080/",
          "height": 297
        },
        "id": "ovyQHWaikk6J",
        "outputId": "94d9f5ea-20c5-43f8-842a-65e7bd8f17d4"
      },
      "execution_count": 15,
      "outputs": [
        {
          "output_type": "execute_result",
          "data": {
            "text/plain": [
              "    BGGId  2019-09-07  2019-09-14  2019-09-21  2019-09-28  2019-10-05  \\\n",
              "0  174430         1.0         1.0         1.0         1.0         1.0   \n",
              "1  161936         2.0         2.0         2.0         2.0         2.0   \n",
              "2  167791         3.0         3.0         3.0         3.0         3.0   \n",
              "3  182028         4.0         4.0         4.0         4.0         4.0   \n",
              "4   12333         5.0         5.0         5.0         5.0         5.0   \n",
              "\n",
              "   2019-10-12  2019-10-19  2019-10-26  2019-11-02  ...  2022-02-05  \\\n",
              "0         1.0         1.0         1.0         1.0  ...         1.0   \n",
              "1         2.0         2.0         2.0         2.0  ...         2.0   \n",
              "2         3.0         3.0         3.0         3.0  ...         4.0   \n",
              "3         4.0         4.0         4.0         4.0  ...         9.0   \n",
              "4         5.0         5.0         5.0         5.0  ...        13.0   \n",
              "\n",
              "   2022-02-12  2022-02-19  2022-02-26  2022-03-05  2022-03-12  num_times  \\\n",
              "0         1.0         1.0         1.0         1.0         1.0        131   \n",
              "1         2.0         2.0         2.0         2.0         2.0        131   \n",
              "2         4.0         4.0         4.0         4.0         4.0        131   \n",
              "3         9.0         9.0         9.0        10.0        10.0        131   \n",
              "4        13.0        13.0        13.0        13.0        13.0        131   \n",
              "\n",
              "   avg_rank  Top_100  Top_20  \n",
              "0       1.0     True    True  \n",
              "1       2.0     True    True  \n",
              "2       3.7     True    True  \n",
              "3       6.4     True    True  \n",
              "4       9.5     True    True  \n",
              "\n",
              "[5 rows x 136 columns]"
            ],
            "text/html": [
              "\n",
              "  <div id=\"df-840d80a2-e2b0-46e5-be35-db5ed7a72097\">\n",
              "    <div class=\"colab-df-container\">\n",
              "      <div>\n",
              "<style scoped>\n",
              "    .dataframe tbody tr th:only-of-type {\n",
              "        vertical-align: middle;\n",
              "    }\n",
              "\n",
              "    .dataframe tbody tr th {\n",
              "        vertical-align: top;\n",
              "    }\n",
              "\n",
              "    .dataframe thead th {\n",
              "        text-align: right;\n",
              "    }\n",
              "</style>\n",
              "<table border=\"1\" class=\"dataframe\">\n",
              "  <thead>\n",
              "    <tr style=\"text-align: right;\">\n",
              "      <th></th>\n",
              "      <th>BGGId</th>\n",
              "      <th>2019-09-07</th>\n",
              "      <th>2019-09-14</th>\n",
              "      <th>2019-09-21</th>\n",
              "      <th>2019-09-28</th>\n",
              "      <th>2019-10-05</th>\n",
              "      <th>2019-10-12</th>\n",
              "      <th>2019-10-19</th>\n",
              "      <th>2019-10-26</th>\n",
              "      <th>2019-11-02</th>\n",
              "      <th>...</th>\n",
              "      <th>2022-02-05</th>\n",
              "      <th>2022-02-12</th>\n",
              "      <th>2022-02-19</th>\n",
              "      <th>2022-02-26</th>\n",
              "      <th>2022-03-05</th>\n",
              "      <th>2022-03-12</th>\n",
              "      <th>num_times</th>\n",
              "      <th>avg_rank</th>\n",
              "      <th>Top_100</th>\n",
              "      <th>Top_20</th>\n",
              "    </tr>\n",
              "  </thead>\n",
              "  <tbody>\n",
              "    <tr>\n",
              "      <th>0</th>\n",
              "      <td>174430</td>\n",
              "      <td>1.0</td>\n",
              "      <td>1.0</td>\n",
              "      <td>1.0</td>\n",
              "      <td>1.0</td>\n",
              "      <td>1.0</td>\n",
              "      <td>1.0</td>\n",
              "      <td>1.0</td>\n",
              "      <td>1.0</td>\n",
              "      <td>1.0</td>\n",
              "      <td>...</td>\n",
              "      <td>1.0</td>\n",
              "      <td>1.0</td>\n",
              "      <td>1.0</td>\n",
              "      <td>1.0</td>\n",
              "      <td>1.0</td>\n",
              "      <td>1.0</td>\n",
              "      <td>131</td>\n",
              "      <td>1.0</td>\n",
              "      <td>True</td>\n",
              "      <td>True</td>\n",
              "    </tr>\n",
              "    <tr>\n",
              "      <th>1</th>\n",
              "      <td>161936</td>\n",
              "      <td>2.0</td>\n",
              "      <td>2.0</td>\n",
              "      <td>2.0</td>\n",
              "      <td>2.0</td>\n",
              "      <td>2.0</td>\n",
              "      <td>2.0</td>\n",
              "      <td>2.0</td>\n",
              "      <td>2.0</td>\n",
              "      <td>2.0</td>\n",
              "      <td>...</td>\n",
              "      <td>2.0</td>\n",
              "      <td>2.0</td>\n",
              "      <td>2.0</td>\n",
              "      <td>2.0</td>\n",
              "      <td>2.0</td>\n",
              "      <td>2.0</td>\n",
              "      <td>131</td>\n",
              "      <td>2.0</td>\n",
              "      <td>True</td>\n",
              "      <td>True</td>\n",
              "    </tr>\n",
              "    <tr>\n",
              "      <th>2</th>\n",
              "      <td>167791</td>\n",
              "      <td>3.0</td>\n",
              "      <td>3.0</td>\n",
              "      <td>3.0</td>\n",
              "      <td>3.0</td>\n",
              "      <td>3.0</td>\n",
              "      <td>3.0</td>\n",
              "      <td>3.0</td>\n",
              "      <td>3.0</td>\n",
              "      <td>3.0</td>\n",
              "      <td>...</td>\n",
              "      <td>4.0</td>\n",
              "      <td>4.0</td>\n",
              "      <td>4.0</td>\n",
              "      <td>4.0</td>\n",
              "      <td>4.0</td>\n",
              "      <td>4.0</td>\n",
              "      <td>131</td>\n",
              "      <td>3.7</td>\n",
              "      <td>True</td>\n",
              "      <td>True</td>\n",
              "    </tr>\n",
              "    <tr>\n",
              "      <th>3</th>\n",
              "      <td>182028</td>\n",
              "      <td>4.0</td>\n",
              "      <td>4.0</td>\n",
              "      <td>4.0</td>\n",
              "      <td>4.0</td>\n",
              "      <td>4.0</td>\n",
              "      <td>4.0</td>\n",
              "      <td>4.0</td>\n",
              "      <td>4.0</td>\n",
              "      <td>4.0</td>\n",
              "      <td>...</td>\n",
              "      <td>9.0</td>\n",
              "      <td>9.0</td>\n",
              "      <td>9.0</td>\n",
              "      <td>9.0</td>\n",
              "      <td>10.0</td>\n",
              "      <td>10.0</td>\n",
              "      <td>131</td>\n",
              "      <td>6.4</td>\n",
              "      <td>True</td>\n",
              "      <td>True</td>\n",
              "    </tr>\n",
              "    <tr>\n",
              "      <th>4</th>\n",
              "      <td>12333</td>\n",
              "      <td>5.0</td>\n",
              "      <td>5.0</td>\n",
              "      <td>5.0</td>\n",
              "      <td>5.0</td>\n",
              "      <td>5.0</td>\n",
              "      <td>5.0</td>\n",
              "      <td>5.0</td>\n",
              "      <td>5.0</td>\n",
              "      <td>5.0</td>\n",
              "      <td>...</td>\n",
              "      <td>13.0</td>\n",
              "      <td>13.0</td>\n",
              "      <td>13.0</td>\n",
              "      <td>13.0</td>\n",
              "      <td>13.0</td>\n",
              "      <td>13.0</td>\n",
              "      <td>131</td>\n",
              "      <td>9.5</td>\n",
              "      <td>True</td>\n",
              "      <td>True</td>\n",
              "    </tr>\n",
              "  </tbody>\n",
              "</table>\n",
              "<p>5 rows × 136 columns</p>\n",
              "</div>\n",
              "      <button class=\"colab-df-convert\" onclick=\"convertToInteractive('df-840d80a2-e2b0-46e5-be35-db5ed7a72097')\"\n",
              "              title=\"Convert this dataframe to an interactive table.\"\n",
              "              style=\"display:none;\">\n",
              "        \n",
              "  <svg xmlns=\"http://www.w3.org/2000/svg\" height=\"24px\"viewBox=\"0 0 24 24\"\n",
              "       width=\"24px\">\n",
              "    <path d=\"M0 0h24v24H0V0z\" fill=\"none\"/>\n",
              "    <path d=\"M18.56 5.44l.94 2.06.94-2.06 2.06-.94-2.06-.94-.94-2.06-.94 2.06-2.06.94zm-11 1L8.5 8.5l.94-2.06 2.06-.94-2.06-.94L8.5 2.5l-.94 2.06-2.06.94zm10 10l.94 2.06.94-2.06 2.06-.94-2.06-.94-.94-2.06-.94 2.06-2.06.94z\"/><path d=\"M17.41 7.96l-1.37-1.37c-.4-.4-.92-.59-1.43-.59-.52 0-1.04.2-1.43.59L10.3 9.45l-7.72 7.72c-.78.78-.78 2.05 0 2.83L4 21.41c.39.39.9.59 1.41.59.51 0 1.02-.2 1.41-.59l7.78-7.78 2.81-2.81c.8-.78.8-2.07 0-2.86zM5.41 20L4 18.59l7.72-7.72 1.47 1.35L5.41 20z\"/>\n",
              "  </svg>\n",
              "      </button>\n",
              "      \n",
              "  <style>\n",
              "    .colab-df-container {\n",
              "      display:flex;\n",
              "      flex-wrap:wrap;\n",
              "      gap: 12px;\n",
              "    }\n",
              "\n",
              "    .colab-df-convert {\n",
              "      background-color: #E8F0FE;\n",
              "      border: none;\n",
              "      border-radius: 50%;\n",
              "      cursor: pointer;\n",
              "      display: none;\n",
              "      fill: #1967D2;\n",
              "      height: 32px;\n",
              "      padding: 0 0 0 0;\n",
              "      width: 32px;\n",
              "    }\n",
              "\n",
              "    .colab-df-convert:hover {\n",
              "      background-color: #E2EBFA;\n",
              "      box-shadow: 0px 1px 2px rgba(60, 64, 67, 0.3), 0px 1px 3px 1px rgba(60, 64, 67, 0.15);\n",
              "      fill: #174EA6;\n",
              "    }\n",
              "\n",
              "    [theme=dark] .colab-df-convert {\n",
              "      background-color: #3B4455;\n",
              "      fill: #D2E3FC;\n",
              "    }\n",
              "\n",
              "    [theme=dark] .colab-df-convert:hover {\n",
              "      background-color: #434B5C;\n",
              "      box-shadow: 0px 1px 3px 1px rgba(0, 0, 0, 0.15);\n",
              "      filter: drop-shadow(0px 1px 2px rgba(0, 0, 0, 0.3));\n",
              "      fill: #FFFFFF;\n",
              "    }\n",
              "  </style>\n",
              "\n",
              "      <script>\n",
              "        const buttonEl =\n",
              "          document.querySelector('#df-840d80a2-e2b0-46e5-be35-db5ed7a72097 button.colab-df-convert');\n",
              "        buttonEl.style.display =\n",
              "          google.colab.kernel.accessAllowed ? 'block' : 'none';\n",
              "\n",
              "        async function convertToInteractive(key) {\n",
              "          const element = document.querySelector('#df-840d80a2-e2b0-46e5-be35-db5ed7a72097');\n",
              "          const dataTable =\n",
              "            await google.colab.kernel.invokeFunction('convertToInteractive',\n",
              "                                                     [key], {});\n",
              "          if (!dataTable) return;\n",
              "\n",
              "          const docLinkHtml = 'Like what you see? Visit the ' +\n",
              "            '<a target=\"_blank\" href=https://colab.research.google.com/notebooks/data_table.ipynb>data table notebook</a>'\n",
              "            + ' to learn more about interactive tables.';\n",
              "          element.innerHTML = '';\n",
              "          dataTable['output_type'] = 'display_data';\n",
              "          await google.colab.output.renderOutput(dataTable, element);\n",
              "          const docLink = document.createElement('div');\n",
              "          docLink.innerHTML = docLinkHtml;\n",
              "          element.appendChild(docLink);\n",
              "        }\n",
              "      </script>\n",
              "    </div>\n",
              "  </div>\n",
              "  "
            ]
          },
          "metadata": {},
          "execution_count": 15
        }
      ]
    },
    {
      "cell_type": "code",
      "source": [
        "bggid = rank_df['BGGId']\n",
        "bggid20 = rank_df[rank_df['Top_20'] == True]['BGGId']\n",
        "bggid100 = rank_df[rank_df['Top_100'] == True]['BGGId']\n",
        "bggid1k = rank_df[rank_df[rank_df.columns[1:132]].min(axis = 1) <= 1000]['BGGId']"
      ],
      "metadata": {
        "id": "Fe_g1TcPiWM9"
      },
      "execution_count": 16,
      "outputs": []
    },
    {
      "cell_type": "markdown",
      "source": [
        "## Game DF"
      ],
      "metadata": {
        "id": "Em87yS1YrSI8"
      }
    },
    {
      "cell_type": "code",
      "source": [
        "## Import Files\n",
        "game_df = pd.read_csv('https://github.com/msmccann10/Portfolio/raw/main/board-game-prediction/data/Rankings/rankings%20reference.csv')\n",
        "game_df.head()"
      ],
      "metadata": {
        "id": "oUzfLgdWz7J5",
        "colab": {
          "base_uri": "https://localhost:8080/",
          "height": 473
        },
        "outputId": "e742740f-4957-40b4-b544-f1f59a29c749"
      },
      "execution_count": 17,
      "outputs": [
        {
          "output_type": "execute_result",
          "data": {
            "text/plain": [
              "   game_id                          name  \\\n",
              "0   174430                    Gloomhaven   \n",
              "1   161936     Pandemic Legacy: Season 1   \n",
              "2   224517             Brass: Birmingham   \n",
              "3   167791             Terraforming Mars   \n",
              "4   291457  Gloomhaven: Jaws of the Lion   \n",
              "\n",
              "                                  boardgamedesigner  \\\n",
              "0                                ['Isaac Childres']   \n",
              "1                    ['Rob Daviau', 'Matt Leacock']   \n",
              "2  ['Gavan Brown', 'Matt Tolman', 'Martin Wallace']   \n",
              "3                               ['Jacob Fryxelius']   \n",
              "4                                ['Isaac Childres']   \n",
              "\n",
              "                                     boardgameartist  yearpublished  \\\n",
              "0  ['Alexandr Elichev', 'Josh T. McDowell', 'Alva...           2017   \n",
              "1                                ['Chris Quilliams']           2015   \n",
              "2  ['Lina Cossette', 'David Forest', 'Damien Mamm...           2018   \n",
              "3                                ['Isaac Fryxelius']           2016   \n",
              "4  ['Francesca Baerald', 'David Demaret', 'Alexan...           2020   \n",
              "\n",
              "   minplayers  maxplayers  minage  playingtime  minplaytime  ...  \\\n",
              "0           1           4      14          120           60  ...   \n",
              "1           2           4      13           60           60  ...   \n",
              "2           2           4      14          120           60  ...   \n",
              "3           1           5      12          120          120  ...   \n",
              "4           1           4      14          120           30  ...   \n",
              "\n",
              "   StrategyGameRank_max_date ThematicRank_min ThematicRank_min_date  \\\n",
              "0                 2018-10-06              1.0            2018-10-06   \n",
              "1                 2021-06-05              2.0            2018-10-06   \n",
              "2                 2018-10-06              NaN                   NaN   \n",
              "3                 2021-04-10              NaN                   NaN   \n",
              "4                 2020-06-27              3.0            2021-02-27   \n",
              "\n",
              "  ThematicRank_max ThematicRank_max_date  WarGameRank_min  \\\n",
              "0              1.0            2018-10-06              NaN   \n",
              "1              2.0            2018-10-06              NaN   \n",
              "2              NaN                   NaN              NaN   \n",
              "3              NaN                   NaN              NaN   \n",
              "4             17.0            2020-09-05              NaN   \n",
              "\n",
              "  WarGameRank_min_date  WarGameRank_max WarGameRank_max_date  \\\n",
              "0                  NaN              NaN                  NaN   \n",
              "1                  NaN              NaN                  NaN   \n",
              "2                  NaN              NaN                  NaN   \n",
              "3                  NaN              NaN                  NaN   \n",
              "4                  NaN              NaN                  NaN   \n",
              "\n",
              "                                      bgg_url  \n",
              "0  https://boardgamegeek.com/boardgame/174430  \n",
              "1  https://boardgamegeek.com/boardgame/161936  \n",
              "2  https://boardgamegeek.com/boardgame/224517  \n",
              "3  https://boardgamegeek.com/boardgame/167791  \n",
              "4  https://boardgamegeek.com/boardgame/291457  \n",
              "\n",
              "[5 rows x 53 columns]"
            ],
            "text/html": [
              "\n",
              "  <div id=\"df-03b3a85a-8456-4d29-b5c4-e3c1cd2edd7a\">\n",
              "    <div class=\"colab-df-container\">\n",
              "      <div>\n",
              "<style scoped>\n",
              "    .dataframe tbody tr th:only-of-type {\n",
              "        vertical-align: middle;\n",
              "    }\n",
              "\n",
              "    .dataframe tbody tr th {\n",
              "        vertical-align: top;\n",
              "    }\n",
              "\n",
              "    .dataframe thead th {\n",
              "        text-align: right;\n",
              "    }\n",
              "</style>\n",
              "<table border=\"1\" class=\"dataframe\">\n",
              "  <thead>\n",
              "    <tr style=\"text-align: right;\">\n",
              "      <th></th>\n",
              "      <th>game_id</th>\n",
              "      <th>name</th>\n",
              "      <th>boardgamedesigner</th>\n",
              "      <th>boardgameartist</th>\n",
              "      <th>yearpublished</th>\n",
              "      <th>minplayers</th>\n",
              "      <th>maxplayers</th>\n",
              "      <th>minage</th>\n",
              "      <th>playingtime</th>\n",
              "      <th>minplaytime</th>\n",
              "      <th>...</th>\n",
              "      <th>StrategyGameRank_max_date</th>\n",
              "      <th>ThematicRank_min</th>\n",
              "      <th>ThematicRank_min_date</th>\n",
              "      <th>ThematicRank_max</th>\n",
              "      <th>ThematicRank_max_date</th>\n",
              "      <th>WarGameRank_min</th>\n",
              "      <th>WarGameRank_min_date</th>\n",
              "      <th>WarGameRank_max</th>\n",
              "      <th>WarGameRank_max_date</th>\n",
              "      <th>bgg_url</th>\n",
              "    </tr>\n",
              "  </thead>\n",
              "  <tbody>\n",
              "    <tr>\n",
              "      <th>0</th>\n",
              "      <td>174430</td>\n",
              "      <td>Gloomhaven</td>\n",
              "      <td>['Isaac Childres']</td>\n",
              "      <td>['Alexandr Elichev', 'Josh T. McDowell', 'Alva...</td>\n",
              "      <td>2017</td>\n",
              "      <td>1</td>\n",
              "      <td>4</td>\n",
              "      <td>14</td>\n",
              "      <td>120</td>\n",
              "      <td>60</td>\n",
              "      <td>...</td>\n",
              "      <td>2018-10-06</td>\n",
              "      <td>1.0</td>\n",
              "      <td>2018-10-06</td>\n",
              "      <td>1.0</td>\n",
              "      <td>2018-10-06</td>\n",
              "      <td>NaN</td>\n",
              "      <td>NaN</td>\n",
              "      <td>NaN</td>\n",
              "      <td>NaN</td>\n",
              "      <td>https://boardgamegeek.com/boardgame/174430</td>\n",
              "    </tr>\n",
              "    <tr>\n",
              "      <th>1</th>\n",
              "      <td>161936</td>\n",
              "      <td>Pandemic Legacy: Season 1</td>\n",
              "      <td>['Rob Daviau', 'Matt Leacock']</td>\n",
              "      <td>['Chris Quilliams']</td>\n",
              "      <td>2015</td>\n",
              "      <td>2</td>\n",
              "      <td>4</td>\n",
              "      <td>13</td>\n",
              "      <td>60</td>\n",
              "      <td>60</td>\n",
              "      <td>...</td>\n",
              "      <td>2021-06-05</td>\n",
              "      <td>2.0</td>\n",
              "      <td>2018-10-06</td>\n",
              "      <td>2.0</td>\n",
              "      <td>2018-10-06</td>\n",
              "      <td>NaN</td>\n",
              "      <td>NaN</td>\n",
              "      <td>NaN</td>\n",
              "      <td>NaN</td>\n",
              "      <td>https://boardgamegeek.com/boardgame/161936</td>\n",
              "    </tr>\n",
              "    <tr>\n",
              "      <th>2</th>\n",
              "      <td>224517</td>\n",
              "      <td>Brass: Birmingham</td>\n",
              "      <td>['Gavan Brown', 'Matt Tolman', 'Martin Wallace']</td>\n",
              "      <td>['Lina Cossette', 'David Forest', 'Damien Mamm...</td>\n",
              "      <td>2018</td>\n",
              "      <td>2</td>\n",
              "      <td>4</td>\n",
              "      <td>14</td>\n",
              "      <td>120</td>\n",
              "      <td>60</td>\n",
              "      <td>...</td>\n",
              "      <td>2018-10-06</td>\n",
              "      <td>NaN</td>\n",
              "      <td>NaN</td>\n",
              "      <td>NaN</td>\n",
              "      <td>NaN</td>\n",
              "      <td>NaN</td>\n",
              "      <td>NaN</td>\n",
              "      <td>NaN</td>\n",
              "      <td>NaN</td>\n",
              "      <td>https://boardgamegeek.com/boardgame/224517</td>\n",
              "    </tr>\n",
              "    <tr>\n",
              "      <th>3</th>\n",
              "      <td>167791</td>\n",
              "      <td>Terraforming Mars</td>\n",
              "      <td>['Jacob Fryxelius']</td>\n",
              "      <td>['Isaac Fryxelius']</td>\n",
              "      <td>2016</td>\n",
              "      <td>1</td>\n",
              "      <td>5</td>\n",
              "      <td>12</td>\n",
              "      <td>120</td>\n",
              "      <td>120</td>\n",
              "      <td>...</td>\n",
              "      <td>2021-04-10</td>\n",
              "      <td>NaN</td>\n",
              "      <td>NaN</td>\n",
              "      <td>NaN</td>\n",
              "      <td>NaN</td>\n",
              "      <td>NaN</td>\n",
              "      <td>NaN</td>\n",
              "      <td>NaN</td>\n",
              "      <td>NaN</td>\n",
              "      <td>https://boardgamegeek.com/boardgame/167791</td>\n",
              "    </tr>\n",
              "    <tr>\n",
              "      <th>4</th>\n",
              "      <td>291457</td>\n",
              "      <td>Gloomhaven: Jaws of the Lion</td>\n",
              "      <td>['Isaac Childres']</td>\n",
              "      <td>['Francesca Baerald', 'David Demaret', 'Alexan...</td>\n",
              "      <td>2020</td>\n",
              "      <td>1</td>\n",
              "      <td>4</td>\n",
              "      <td>14</td>\n",
              "      <td>120</td>\n",
              "      <td>30</td>\n",
              "      <td>...</td>\n",
              "      <td>2020-06-27</td>\n",
              "      <td>3.0</td>\n",
              "      <td>2021-02-27</td>\n",
              "      <td>17.0</td>\n",
              "      <td>2020-09-05</td>\n",
              "      <td>NaN</td>\n",
              "      <td>NaN</td>\n",
              "      <td>NaN</td>\n",
              "      <td>NaN</td>\n",
              "      <td>https://boardgamegeek.com/boardgame/291457</td>\n",
              "    </tr>\n",
              "  </tbody>\n",
              "</table>\n",
              "<p>5 rows × 53 columns</p>\n",
              "</div>\n",
              "      <button class=\"colab-df-convert\" onclick=\"convertToInteractive('df-03b3a85a-8456-4d29-b5c4-e3c1cd2edd7a')\"\n",
              "              title=\"Convert this dataframe to an interactive table.\"\n",
              "              style=\"display:none;\">\n",
              "        \n",
              "  <svg xmlns=\"http://www.w3.org/2000/svg\" height=\"24px\"viewBox=\"0 0 24 24\"\n",
              "       width=\"24px\">\n",
              "    <path d=\"M0 0h24v24H0V0z\" fill=\"none\"/>\n",
              "    <path d=\"M18.56 5.44l.94 2.06.94-2.06 2.06-.94-2.06-.94-.94-2.06-.94 2.06-2.06.94zm-11 1L8.5 8.5l.94-2.06 2.06-.94-2.06-.94L8.5 2.5l-.94 2.06-2.06.94zm10 10l.94 2.06.94-2.06 2.06-.94-2.06-.94-.94-2.06-.94 2.06-2.06.94z\"/><path d=\"M17.41 7.96l-1.37-1.37c-.4-.4-.92-.59-1.43-.59-.52 0-1.04.2-1.43.59L10.3 9.45l-7.72 7.72c-.78.78-.78 2.05 0 2.83L4 21.41c.39.39.9.59 1.41.59.51 0 1.02-.2 1.41-.59l7.78-7.78 2.81-2.81c.8-.78.8-2.07 0-2.86zM5.41 20L4 18.59l7.72-7.72 1.47 1.35L5.41 20z\"/>\n",
              "  </svg>\n",
              "      </button>\n",
              "      \n",
              "  <style>\n",
              "    .colab-df-container {\n",
              "      display:flex;\n",
              "      flex-wrap:wrap;\n",
              "      gap: 12px;\n",
              "    }\n",
              "\n",
              "    .colab-df-convert {\n",
              "      background-color: #E8F0FE;\n",
              "      border: none;\n",
              "      border-radius: 50%;\n",
              "      cursor: pointer;\n",
              "      display: none;\n",
              "      fill: #1967D2;\n",
              "      height: 32px;\n",
              "      padding: 0 0 0 0;\n",
              "      width: 32px;\n",
              "    }\n",
              "\n",
              "    .colab-df-convert:hover {\n",
              "      background-color: #E2EBFA;\n",
              "      box-shadow: 0px 1px 2px rgba(60, 64, 67, 0.3), 0px 1px 3px 1px rgba(60, 64, 67, 0.15);\n",
              "      fill: #174EA6;\n",
              "    }\n",
              "\n",
              "    [theme=dark] .colab-df-convert {\n",
              "      background-color: #3B4455;\n",
              "      fill: #D2E3FC;\n",
              "    }\n",
              "\n",
              "    [theme=dark] .colab-df-convert:hover {\n",
              "      background-color: #434B5C;\n",
              "      box-shadow: 0px 1px 3px 1px rgba(0, 0, 0, 0.15);\n",
              "      filter: drop-shadow(0px 1px 2px rgba(0, 0, 0, 0.3));\n",
              "      fill: #FFFFFF;\n",
              "    }\n",
              "  </style>\n",
              "\n",
              "      <script>\n",
              "        const buttonEl =\n",
              "          document.querySelector('#df-03b3a85a-8456-4d29-b5c4-e3c1cd2edd7a button.colab-df-convert');\n",
              "        buttonEl.style.display =\n",
              "          google.colab.kernel.accessAllowed ? 'block' : 'none';\n",
              "\n",
              "        async function convertToInteractive(key) {\n",
              "          const element = document.querySelector('#df-03b3a85a-8456-4d29-b5c4-e3c1cd2edd7a');\n",
              "          const dataTable =\n",
              "            await google.colab.kernel.invokeFunction('convertToInteractive',\n",
              "                                                     [key], {});\n",
              "          if (!dataTable) return;\n",
              "\n",
              "          const docLinkHtml = 'Like what you see? Visit the ' +\n",
              "            '<a target=\"_blank\" href=https://colab.research.google.com/notebooks/data_table.ipynb>data table notebook</a>'\n",
              "            + ' to learn more about interactive tables.';\n",
              "          element.innerHTML = '';\n",
              "          dataTable['output_type'] = 'display_data';\n",
              "          await google.colab.output.renderOutput(dataTable, element);\n",
              "          const docLink = document.createElement('div');\n",
              "          docLink.innerHTML = docLinkHtml;\n",
              "          element.appendChild(docLink);\n",
              "        }\n",
              "      </script>\n",
              "    </div>\n",
              "  </div>\n",
              "  "
            ]
          },
          "metadata": {},
          "execution_count": 17
        }
      ]
    },
    {
      "cell_type": "code",
      "source": [
        "game_df.rename(columns={'game_id':'BGGId'}, inplace = True)\n",
        "game_df.info()\n"
      ],
      "metadata": {
        "colab": {
          "base_uri": "https://localhost:8080/"
        },
        "id": "iHskiJQstf6n",
        "outputId": "f9b51e88-9a6d-4fb7-ef40-83f993e71aac"
      },
      "execution_count": 18,
      "outputs": [
        {
          "output_type": "stream",
          "name": "stdout",
          "text": [
            "<class 'pandas.core.frame.DataFrame'>\n",
            "RangeIndex: 4998 entries, 0 to 4997\n",
            "Data columns (total 53 columns):\n",
            " #   Column                      Non-Null Count  Dtype  \n",
            "---  ------                      --------------  -----  \n",
            " 0   BGGId                       4998 non-null   int64  \n",
            " 1   name                        4998 non-null   object \n",
            " 2   boardgamedesigner           4998 non-null   object \n",
            " 3   boardgameartist             4998 non-null   object \n",
            " 4   yearpublished               4998 non-null   int64  \n",
            " 5   minplayers                  4998 non-null   int64  \n",
            " 6   maxplayers                  4998 non-null   int64  \n",
            " 7   minage                      4998 non-null   int64  \n",
            " 8   playingtime                 4998 non-null   int64  \n",
            " 9   minplaytime                 4998 non-null   int64  \n",
            " 10  maxplaytime                 4998 non-null   int64  \n",
            " 11  boardgamepublisher          4998 non-null   object \n",
            " 12  boardgamecategory           4998 non-null   object \n",
            " 13  boardgamefamily             4998 non-null   object \n",
            " 14  boardgamemechanic           4998 non-null   object \n",
            " 15  AbstractGameRank_min        239 non-null    float64\n",
            " 16  AbstractGameRank_min_date   239 non-null    object \n",
            " 17  AbstractGameRank_max        239 non-null    float64\n",
            " 18  AbstractGameRank_max_date   239 non-null    object \n",
            " 19  first_date_in_ref           4998 non-null   object \n",
            " 20  BoardGameRank_min           4998 non-null   int64  \n",
            " 21  BoardGameRank_min_date      4998 non-null   object \n",
            " 22  BoardGameRank_max           4998 non-null   int64  \n",
            " 23  BoardGameRank_max_date      4998 non-null   object \n",
            " 24  ChildrensGameRank_min       76 non-null     float64\n",
            " 25  ChildrensGameRank_min_date  76 non-null     object \n",
            " 26  ChildrensGameRank_max       76 non-null     float64\n",
            " 27  ChildrensGameRank_max_date  76 non-null     object \n",
            " 28  CustomizableRank_min        112 non-null    float64\n",
            " 29  CustomizableRank_min_date   112 non-null    object \n",
            " 30  CustomizableRank_max        112 non-null    float64\n",
            " 31  CustomizableRank_max_date   112 non-null    object \n",
            " 32  FamilyGameRank_min          1356 non-null   float64\n",
            " 33  FamilyGameRank_min_date     1356 non-null   object \n",
            " 34  FamilyGameRank_max          1356 non-null   float64\n",
            " 35  FamilyGameRank_max_date     1356 non-null   object \n",
            " 36  PartyGameRank_min           345 non-null    float64\n",
            " 37  PartyGameRank_min_date      345 non-null    object \n",
            " 38  PartyGameRank_max           345 non-null    float64\n",
            " 39  PartyGameRank_max_date      345 non-null    object \n",
            " 40  StrategyGameRank_min        1756 non-null   float64\n",
            " 41  StrategyGameRank_min_date   1756 non-null   object \n",
            " 42  StrategyGameRank_max        1756 non-null   float64\n",
            " 43  StrategyGameRank_max_date   1756 non-null   object \n",
            " 44  ThematicRank_min            805 non-null    float64\n",
            " 45  ThematicRank_min_date       805 non-null    object \n",
            " 46  ThematicRank_max            805 non-null    float64\n",
            " 47  ThematicRank_max_date       805 non-null    object \n",
            " 48  WarGameRank_min             681 non-null    float64\n",
            " 49  WarGameRank_min_date        681 non-null    object \n",
            " 50  WarGameRank_max             681 non-null    float64\n",
            " 51  WarGameRank_max_date        681 non-null    object \n",
            " 52  bgg_url                     4998 non-null   object \n",
            "dtypes: float64(16), int64(10), object(27)\n",
            "memory usage: 2.0+ MB\n"
          ]
        }
      ]
    },
    {
      "cell_type": "code",
      "source": [
        "# Get rid of the individual mechanic scores\n",
        "game_df.drop(game_df.columns[24:], axis = 1, inplace = True)\n",
        "game_df.drop(game_df.columns[15:19], axis = 1, inplace = True)"
      ],
      "metadata": {
        "id": "sJuZI0vHauWx"
      },
      "execution_count": 19,
      "outputs": []
    },
    {
      "cell_type": "code",
      "source": [
        "game_df.isna().sum()"
      ],
      "metadata": {
        "id": "a4jeraGOfUYZ",
        "colab": {
          "base_uri": "https://localhost:8080/"
        },
        "outputId": "848b4329-8173-40b3-80aa-68419c0add07"
      },
      "execution_count": 20,
      "outputs": [
        {
          "output_type": "execute_result",
          "data": {
            "text/plain": [
              "BGGId                     0\n",
              "name                      0\n",
              "boardgamedesigner         0\n",
              "boardgameartist           0\n",
              "yearpublished             0\n",
              "minplayers                0\n",
              "maxplayers                0\n",
              "minage                    0\n",
              "playingtime               0\n",
              "minplaytime               0\n",
              "maxplaytime               0\n",
              "boardgamepublisher        0\n",
              "boardgamecategory         0\n",
              "boardgamefamily           0\n",
              "boardgamemechanic         0\n",
              "first_date_in_ref         0\n",
              "BoardGameRank_min         0\n",
              "BoardGameRank_min_date    0\n",
              "BoardGameRank_max         0\n",
              "BoardGameRank_max_date    0\n",
              "dtype: int64"
            ]
          },
          "metadata": {},
          "execution_count": 20
        }
      ]
    },
    {
      "cell_type": "markdown",
      "source": [
        "## Designer DF"
      ],
      "metadata": {
        "id": "rjEvqgEKyoc6"
      }
    },
    {
      "cell_type": "code",
      "source": [
        "# Load Designer Data\n",
        "design_df = pd.read_csv('https://github.com/msmccann10/Portfolio/raw/main/board-game-prediction/data/game%20info/designers_reduced.csv')#, index_col = 'BGGId')\n",
        "\n",
        "design_df.columns = design_df.columns.str.replace(r'[^\\w\\s]+', '')"
      ],
      "metadata": {
        "id": "YLAkSKWWr0W1",
        "colab": {
          "base_uri": "https://localhost:8080/"
        },
        "outputId": "20315c89-49ae-4a26-8aea-79019280a046"
      },
      "execution_count": 21,
      "outputs": [
        {
          "output_type": "stream",
          "name": "stderr",
          "text": [
            "/usr/local/lib/python3.7/dist-packages/ipykernel_launcher.py:4: FutureWarning: The default value of regex will change from True to False in a future version.\n",
            "  after removing the cwd from sys.path.\n"
          ]
        }
      ]
    },
    {
      "cell_type": "code",
      "source": [
        "# Run ohe_reverse function\n",
        "design_df['ohe'] = design_df.drop('BGGId', axis=1).apply(lambda row: ohe_reverse(row, list(row.index)), axis = 1) \n",
        "\n",
        "# Run make_longer\n",
        "design_long = make_longer(design_df, 'Designer')\n",
        "\n",
        "design_long.head(10)"
      ],
      "metadata": {
        "colab": {
          "base_uri": "https://localhost:8080/",
          "height": 363
        },
        "id": "lMcUJISF_raN",
        "outputId": "78eb802a-74f9-4121-d7ea-db8417f1e073"
      },
      "execution_count": 22,
      "outputs": [
        {
          "output_type": "execute_result",
          "data": {
            "text/plain": [
              "   BGGId           Designer\n",
              "0      1  KarlHeinz Schmiel\n",
              "1      2   G W Jerry DArcey\n",
              "2      3      Reiner Knizia\n",
              "3      4    LowExp Designer\n",
              "4      5        Sid Sackson\n",
              "5      6       Jean du Poël\n",
              "6      7    LowExp Designer\n",
              "7      8     Martin Wallace\n",
              "8      9    Wolfgang Kramer\n",
              "9      9     Richard Ulrich"
            ],
            "text/html": [
              "\n",
              "  <div id=\"df-a719e654-dc54-4cca-8398-a611e982406a\">\n",
              "    <div class=\"colab-df-container\">\n",
              "      <div>\n",
              "<style scoped>\n",
              "    .dataframe tbody tr th:only-of-type {\n",
              "        vertical-align: middle;\n",
              "    }\n",
              "\n",
              "    .dataframe tbody tr th {\n",
              "        vertical-align: top;\n",
              "    }\n",
              "\n",
              "    .dataframe thead th {\n",
              "        text-align: right;\n",
              "    }\n",
              "</style>\n",
              "<table border=\"1\" class=\"dataframe\">\n",
              "  <thead>\n",
              "    <tr style=\"text-align: right;\">\n",
              "      <th></th>\n",
              "      <th>BGGId</th>\n",
              "      <th>Designer</th>\n",
              "    </tr>\n",
              "  </thead>\n",
              "  <tbody>\n",
              "    <tr>\n",
              "      <th>0</th>\n",
              "      <td>1</td>\n",
              "      <td>KarlHeinz Schmiel</td>\n",
              "    </tr>\n",
              "    <tr>\n",
              "      <th>1</th>\n",
              "      <td>2</td>\n",
              "      <td>G W Jerry DArcey</td>\n",
              "    </tr>\n",
              "    <tr>\n",
              "      <th>2</th>\n",
              "      <td>3</td>\n",
              "      <td>Reiner Knizia</td>\n",
              "    </tr>\n",
              "    <tr>\n",
              "      <th>3</th>\n",
              "      <td>4</td>\n",
              "      <td>LowExp Designer</td>\n",
              "    </tr>\n",
              "    <tr>\n",
              "      <th>4</th>\n",
              "      <td>5</td>\n",
              "      <td>Sid Sackson</td>\n",
              "    </tr>\n",
              "    <tr>\n",
              "      <th>5</th>\n",
              "      <td>6</td>\n",
              "      <td>Jean du Poël</td>\n",
              "    </tr>\n",
              "    <tr>\n",
              "      <th>6</th>\n",
              "      <td>7</td>\n",
              "      <td>LowExp Designer</td>\n",
              "    </tr>\n",
              "    <tr>\n",
              "      <th>7</th>\n",
              "      <td>8</td>\n",
              "      <td>Martin Wallace</td>\n",
              "    </tr>\n",
              "    <tr>\n",
              "      <th>8</th>\n",
              "      <td>9</td>\n",
              "      <td>Wolfgang Kramer</td>\n",
              "    </tr>\n",
              "    <tr>\n",
              "      <th>9</th>\n",
              "      <td>9</td>\n",
              "      <td>Richard Ulrich</td>\n",
              "    </tr>\n",
              "  </tbody>\n",
              "</table>\n",
              "</div>\n",
              "      <button class=\"colab-df-convert\" onclick=\"convertToInteractive('df-a719e654-dc54-4cca-8398-a611e982406a')\"\n",
              "              title=\"Convert this dataframe to an interactive table.\"\n",
              "              style=\"display:none;\">\n",
              "        \n",
              "  <svg xmlns=\"http://www.w3.org/2000/svg\" height=\"24px\"viewBox=\"0 0 24 24\"\n",
              "       width=\"24px\">\n",
              "    <path d=\"M0 0h24v24H0V0z\" fill=\"none\"/>\n",
              "    <path d=\"M18.56 5.44l.94 2.06.94-2.06 2.06-.94-2.06-.94-.94-2.06-.94 2.06-2.06.94zm-11 1L8.5 8.5l.94-2.06 2.06-.94-2.06-.94L8.5 2.5l-.94 2.06-2.06.94zm10 10l.94 2.06.94-2.06 2.06-.94-2.06-.94-.94-2.06-.94 2.06-2.06.94z\"/><path d=\"M17.41 7.96l-1.37-1.37c-.4-.4-.92-.59-1.43-.59-.52 0-1.04.2-1.43.59L10.3 9.45l-7.72 7.72c-.78.78-.78 2.05 0 2.83L4 21.41c.39.39.9.59 1.41.59.51 0 1.02-.2 1.41-.59l7.78-7.78 2.81-2.81c.8-.78.8-2.07 0-2.86zM5.41 20L4 18.59l7.72-7.72 1.47 1.35L5.41 20z\"/>\n",
              "  </svg>\n",
              "      </button>\n",
              "      \n",
              "  <style>\n",
              "    .colab-df-container {\n",
              "      display:flex;\n",
              "      flex-wrap:wrap;\n",
              "      gap: 12px;\n",
              "    }\n",
              "\n",
              "    .colab-df-convert {\n",
              "      background-color: #E8F0FE;\n",
              "      border: none;\n",
              "      border-radius: 50%;\n",
              "      cursor: pointer;\n",
              "      display: none;\n",
              "      fill: #1967D2;\n",
              "      height: 32px;\n",
              "      padding: 0 0 0 0;\n",
              "      width: 32px;\n",
              "    }\n",
              "\n",
              "    .colab-df-convert:hover {\n",
              "      background-color: #E2EBFA;\n",
              "      box-shadow: 0px 1px 2px rgba(60, 64, 67, 0.3), 0px 1px 3px 1px rgba(60, 64, 67, 0.15);\n",
              "      fill: #174EA6;\n",
              "    }\n",
              "\n",
              "    [theme=dark] .colab-df-convert {\n",
              "      background-color: #3B4455;\n",
              "      fill: #D2E3FC;\n",
              "    }\n",
              "\n",
              "    [theme=dark] .colab-df-convert:hover {\n",
              "      background-color: #434B5C;\n",
              "      box-shadow: 0px 1px 3px 1px rgba(0, 0, 0, 0.15);\n",
              "      filter: drop-shadow(0px 1px 2px rgba(0, 0, 0, 0.3));\n",
              "      fill: #FFFFFF;\n",
              "    }\n",
              "  </style>\n",
              "\n",
              "      <script>\n",
              "        const buttonEl =\n",
              "          document.querySelector('#df-a719e654-dc54-4cca-8398-a611e982406a button.colab-df-convert');\n",
              "        buttonEl.style.display =\n",
              "          google.colab.kernel.accessAllowed ? 'block' : 'none';\n",
              "\n",
              "        async function convertToInteractive(key) {\n",
              "          const element = document.querySelector('#df-a719e654-dc54-4cca-8398-a611e982406a');\n",
              "          const dataTable =\n",
              "            await google.colab.kernel.invokeFunction('convertToInteractive',\n",
              "                                                     [key], {});\n",
              "          if (!dataTable) return;\n",
              "\n",
              "          const docLinkHtml = 'Like what you see? Visit the ' +\n",
              "            '<a target=\"_blank\" href=https://colab.research.google.com/notebooks/data_table.ipynb>data table notebook</a>'\n",
              "            + ' to learn more about interactive tables.';\n",
              "          element.innerHTML = '';\n",
              "          dataTable['output_type'] = 'display_data';\n",
              "          await google.colab.output.renderOutput(dataTable, element);\n",
              "          const docLink = document.createElement('div');\n",
              "          docLink.innerHTML = docLinkHtml;\n",
              "          element.appendChild(docLink);\n",
              "        }\n",
              "      </script>\n",
              "    </div>\n",
              "  </div>\n",
              "  "
            ]
          },
          "metadata": {},
          "execution_count": 22
        }
      ]
    },
    {
      "cell_type": "markdown",
      "source": [
        "### Designer Graph"
      ],
      "metadata": {
        "id": "qW1QiHgmaFRh"
      }
    },
    {
      "cell_type": "code",
      "source": [
        "bad_rows = design_long[(design_long['Designer'] == 'LowExp Designer') | (design_long['Designer'] == 'Uncredited') ].index\n",
        "# design_long.drop(bad_rows, inplace = True)\n",
        "\n",
        "# Run Feature Distribution\n",
        "feature_dist(design_long.drop(bad_rows), 'Designer', 20, 10)\n",
        "\n",
        "design5k = pd.merge(design_long, bggid, how = 'right', on = 'BGGId')\n",
        "bad_rows = design5k[(design5k['Designer'] == 'LowExp Designer') | (design5k['Designer'] == 'Uncredited') ].index\n",
        "\n",
        "feature_dist(design5k.drop(bad_rows), 'Designer', 20, 5)"
      ],
      "metadata": {
        "colab": {
          "base_uri": "https://localhost:8080/",
          "height": 1000
        },
        "id": "SPDTSkn5Etab",
        "outputId": "5b7845dc-98da-4476-ac1e-9bc1efd5358b"
      },
      "execution_count": 23,
      "outputs": [
        {
          "output_type": "display_data",
          "data": {
            "text/plain": [
              "<Figure size 1008x504 with 2 Axes>"
            ],
            "image/png": "[encoded data removed]"
          },
          "metadata": {
            "needs_background": "light"
          }
        },
        {
          "output_type": "display_data",
          "data": {
            "text/plain": [
              "<Figure size 1008x504 with 2 Axes>"
            ],
            "image/png": "[encoded data removed]"
          },
          "metadata": {
            "needs_background": "light"
          }
        }
      ]
    },
    {
      "cell_type": "markdown",
      "source": [
        "### Designer Top/Bottom Split (DF = design_topbot)"
      ],
      "metadata": {
        "id": "yrXY_-fQZ_La"
      }
    },
    {
      "cell_type": "code",
      "source": [
        "# Get rid of floating 'Jr.'\n",
        "jr_index = design5k[design5k['Designer'] == 'Jr.'].index\n",
        "design5k.drop(jr_index, inplace = True)\n",
        "\n",
        "design_topbot = topbot_split(design_df, design5k, 'Designer', 'top_design', 'bot_design', 20)\n",
        "design_topbot"
      ],
      "metadata": {
        "colab": {
          "base_uri": "https://localhost:8080/",
          "height": 510
        },
        "id": "p6o835SaegN5",
        "outputId": "f1c15f05-fbba-4a18-e67e-92b6a797307c"
      },
      "execution_count": 24,
      "outputs": [
        {
          "output_type": "stream",
          "name": "stderr",
          "text": [
            "/usr/local/lib/python3.7/dist-packages/ipykernel_launcher.py:23: SettingWithCopyWarning: \n",
            "A value is trying to be set on a copy of a slice from a DataFrame.\n",
            "Try using .loc[row_indexer,col_indexer] = value instead\n",
            "\n",
            "See the caveats in the documentation: https://pandas.pydata.org/pandas-docs/stable/user_guide/indexing.html#returning-a-view-versus-a-copy\n"
          ]
        },
        {
          "output_type": "execute_result",
          "data": {
            "text/plain": [
              "       BGGId  top_design  bot_design\n",
              "0     174430         NaN         1.0\n",
              "1     161936         NaN         1.0\n",
              "2     167791         NaN         1.0\n",
              "3     182028         NaN         1.0\n",
              "4      12333         NaN         1.0\n",
              "...      ...         ...         ...\n",
              "5926  322589         NaN         0.0\n",
              "5927  305752         NaN         1.0\n",
              "5928  315610         NaN         0.0\n",
              "5929  280501         NaN         1.0\n",
              "5930  318474         NaN         1.0\n",
              "\n",
              "[5931 rows x 3 columns]"
            ],
            "text/html": [
              "\n",
              "  <div id=\"df-cb1cf060-3bab-4c9c-b237-9085a22e831f\">\n",
              "    <div class=\"colab-df-container\">\n",
              "      <div>\n",
              "<style scoped>\n",
              "    .dataframe tbody tr th:only-of-type {\n",
              "        vertical-align: middle;\n",
              "    }\n",
              "\n",
              "    .dataframe tbody tr th {\n",
              "        vertical-align: top;\n",
              "    }\n",
              "\n",
              "    .dataframe thead th {\n",
              "        text-align: right;\n",
              "    }\n",
              "</style>\n",
              "<table border=\"1\" class=\"dataframe\">\n",
              "  <thead>\n",
              "    <tr style=\"text-align: right;\">\n",
              "      <th></th>\n",
              "      <th>BGGId</th>\n",
              "      <th>top_design</th>\n",
              "      <th>bot_design</th>\n",
              "    </tr>\n",
              "  </thead>\n",
              "  <tbody>\n",
              "    <tr>\n",
              "      <th>0</th>\n",
              "      <td>174430</td>\n",
              "      <td>NaN</td>\n",
              "      <td>1.0</td>\n",
              "    </tr>\n",
              "    <tr>\n",
              "      <th>1</th>\n",
              "      <td>161936</td>\n",
              "      <td>NaN</td>\n",
              "      <td>1.0</td>\n",
              "    </tr>\n",
              "    <tr>\n",
              "      <th>2</th>\n",
              "      <td>167791</td>\n",
              "      <td>NaN</td>\n",
              "      <td>1.0</td>\n",
              "    </tr>\n",
              "    <tr>\n",
              "      <th>3</th>\n",
              "      <td>182028</td>\n",
              "      <td>NaN</td>\n",
              "      <td>1.0</td>\n",
              "    </tr>\n",
              "    <tr>\n",
              "      <th>4</th>\n",
              "      <td>12333</td>\n",
              "      <td>NaN</td>\n",
              "      <td>1.0</td>\n",
              "    </tr>\n",
              "    <tr>\n",
              "      <th>...</th>\n",
              "      <td>...</td>\n",
              "      <td>...</td>\n",
              "      <td>...</td>\n",
              "    </tr>\n",
              "    <tr>\n",
              "      <th>5926</th>\n",
              "      <td>322589</td>\n",
              "      <td>NaN</td>\n",
              "      <td>0.0</td>\n",
              "    </tr>\n",
              "    <tr>\n",
              "      <th>5927</th>\n",
              "      <td>305752</td>\n",
              "      <td>NaN</td>\n",
              "      <td>1.0</td>\n",
              "    </tr>\n",
              "    <tr>\n",
              "      <th>5928</th>\n",
              "      <td>315610</td>\n",
              "      <td>NaN</td>\n",
              "      <td>0.0</td>\n",
              "    </tr>\n",
              "    <tr>\n",
              "      <th>5929</th>\n",
              "      <td>280501</td>\n",
              "      <td>NaN</td>\n",
              "      <td>1.0</td>\n",
              "    </tr>\n",
              "    <tr>\n",
              "      <th>5930</th>\n",
              "      <td>318474</td>\n",
              "      <td>NaN</td>\n",
              "      <td>1.0</td>\n",
              "    </tr>\n",
              "  </tbody>\n",
              "</table>\n",
              "<p>5931 rows × 3 columns</p>\n",
              "</div>\n",
              "      <button class=\"colab-df-convert\" onclick=\"convertToInteractive('df-cb1cf060-3bab-4c9c-b237-9085a22e831f')\"\n",
              "              title=\"Convert this dataframe to an interactive table.\"\n",
              "              style=\"display:none;\">\n",
              "        \n",
              "  <svg xmlns=\"http://www.w3.org/2000/svg\" height=\"24px\"viewBox=\"0 0 24 24\"\n",
              "       width=\"24px\">\n",
              "    <path d=\"M0 0h24v24H0V0z\" fill=\"none\"/>\n",
              "    <path d=\"M18.56 5.44l.94 2.06.94-2.06 2.06-.94-2.06-.94-.94-2.06-.94 2.06-2.06.94zm-11 1L8.5 8.5l.94-2.06 2.06-.94-2.06-.94L8.5 2.5l-.94 2.06-2.06.94zm10 10l.94 2.06.94-2.06 2.06-.94-2.06-.94-.94-2.06-.94 2.06-2.06.94z\"/><path d=\"M17.41 7.96l-1.37-1.37c-.4-.4-.92-.59-1.43-.59-.52 0-1.04.2-1.43.59L10.3 9.45l-7.72 7.72c-.78.78-.78 2.05 0 2.83L4 21.41c.39.39.9.59 1.41.59.51 0 1.02-.2 1.41-.59l7.78-7.78 2.81-2.81c.8-.78.8-2.07 0-2.86zM5.41 20L4 18.59l7.72-7.72 1.47 1.35L5.41 20z\"/>\n",
              "  </svg>\n",
              "      </button>\n",
              "      \n",
              "  <style>\n",
              "    .colab-df-container {\n",
              "      display:flex;\n",
              "      flex-wrap:wrap;\n",
              "      gap: 12px;\n",
              "    }\n",
              "\n",
              "    .colab-df-convert {\n",
              "      background-color: #E8F0FE;\n",
              "      border: none;\n",
              "      border-radius: 50%;\n",
              "      cursor: pointer;\n",
              "      display: none;\n",
              "      fill: #1967D2;\n",
              "      height: 32px;\n",
              "      padding: 0 0 0 0;\n",
              "      width: 32px;\n",
              "    }\n",
              "\n",
              "    .colab-df-convert:hover {\n",
              "      background-color: #E2EBFA;\n",
              "      box-shadow: 0px 1px 2px rgba(60, 64, 67, 0.3), 0px 1px 3px 1px rgba(60, 64, 67, 0.15);\n",
              "      fill: #174EA6;\n",
              "    }\n",
              "\n",
              "    [theme=dark] .colab-df-convert {\n",
              "      background-color: #3B4455;\n",
              "      fill: #D2E3FC;\n",
              "    }\n",
              "\n",
              "    [theme=dark] .colab-df-convert:hover {\n",
              "      background-color: #434B5C;\n",
              "      box-shadow: 0px 1px 3px 1px rgba(0, 0, 0, 0.15);\n",
              "      filter: drop-shadow(0px 1px 2px rgba(0, 0, 0, 0.3));\n",
              "      fill: #FFFFFF;\n",
              "    }\n",
              "  </style>\n",
              "\n",
              "      <script>\n",
              "        const buttonEl =\n",
              "          document.querySelector('#df-cb1cf060-3bab-4c9c-b237-9085a22e831f button.colab-df-convert');\n",
              "        buttonEl.style.display =\n",
              "          google.colab.kernel.accessAllowed ? 'block' : 'none';\n",
              "\n",
              "        async function convertToInteractive(key) {\n",
              "          const element = document.querySelector('#df-cb1cf060-3bab-4c9c-b237-9085a22e831f');\n",
              "          const dataTable =\n",
              "            await google.colab.kernel.invokeFunction('convertToInteractive',\n",
              "                                                     [key], {});\n",
              "          if (!dataTable) return;\n",
              "\n",
              "          const docLinkHtml = 'Like what you see? Visit the ' +\n",
              "            '<a target=\"_blank\" href=https://colab.research.google.com/notebooks/data_table.ipynb>data table notebook</a>'\n",
              "            + ' to learn more about interactive tables.';\n",
              "          element.innerHTML = '';\n",
              "          dataTable['output_type'] = 'display_data';\n",
              "          await google.colab.output.renderOutput(dataTable, element);\n",
              "          const docLink = document.createElement('div');\n",
              "          docLink.innerHTML = docLinkHtml;\n",
              "          element.appendChild(docLink);\n",
              "        }\n",
              "      </script>\n",
              "    </div>\n",
              "  </div>\n",
              "  "
            ]
          },
          "metadata": {},
          "execution_count": 24
        }
      ]
    },
    {
      "cell_type": "markdown",
      "source": [
        "## Artist DF"
      ],
      "metadata": {
        "id": "vyUbrccR4vnE"
      }
    },
    {
      "cell_type": "code",
      "source": [
        "# Load Designer Data\n",
        "artist_df = pd.read_csv('https://github.com/msmccann10/Portfolio/raw/main/board-game-prediction/data/game%20info/artists_reduced.csv')\n",
        "artist_df.columns = artist_df.columns.str.replace(r'[^\\w\\s]+', '')"
      ],
      "metadata": {
        "id": "lrL0ceFm47Bo",
        "outputId": "9ac40e9f-2def-4f26-da9f-d5627ced29b1",
        "colab": {
          "base_uri": "https://localhost:8080/"
        }
      },
      "execution_count": 25,
      "outputs": [
        {
          "output_type": "stream",
          "name": "stderr",
          "text": [
            "/usr/local/lib/python3.7/dist-packages/ipykernel_launcher.py:3: FutureWarning: The default value of regex will change from True to False in a future version.\n",
            "  This is separate from the ipykernel package so we can avoid doing imports until\n"
          ]
        }
      ]
    },
    {
      "cell_type": "code",
      "source": [
        "# Run ohe_reverse function\n",
        "artist_df['ohe'] = artist_df.drop('BGGId', axis=1).apply(lambda row: ohe_reverse(row, list(row.index)), axis = 1) \n",
        "\n",
        "# Run make_longer\n",
        "artist_long = make_longer(artist_df, 'Artist')\n",
        "avg_num_artist = pd.merge(artist_long, bggid, how = 'right', on = 'BGGId').groupby('BGGId')['Artist'].nunique().mean()\n",
        "\n",
        "artist_long.head(10)"
      ],
      "metadata": {
        "colab": {
          "base_uri": "https://localhost:8080/",
          "height": 363
        },
        "id": "LTpRn9b55PMO",
        "outputId": "d9d7ea89-87b0-415a-e140-e259e9110a82"
      },
      "execution_count": 26,
      "outputs": [
        {
          "output_type": "execute_result",
          "data": {
            "text/plain": [
              "   BGGId           Artist\n",
              "0      1    Harald Lieske\n",
              "1      1    LowExp Artist\n",
              "2      2    LowExp Artist\n",
              "3      3  Franz Vohwinkel\n",
              "4      4    LowExp Artist\n",
              "5      5    Scott Okumura\n",
              "6      5    Peter Whitley\n",
              "7      6    LowExp Artist\n",
              "8      7       Uncredited\n",
              "9      7    LowExp Artist"
            ],
            "text/html": [
              "\n",
              "  <div id=\"df-bccc6594-fe39-47b5-b396-d2a2b6e44388\">\n",
              "    <div class=\"colab-df-container\">\n",
              "      <div>\n",
              "<style scoped>\n",
              "    .dataframe tbody tr th:only-of-type {\n",
              "        vertical-align: middle;\n",
              "    }\n",
              "\n",
              "    .dataframe tbody tr th {\n",
              "        vertical-align: top;\n",
              "    }\n",
              "\n",
              "    .dataframe thead th {\n",
              "        text-align: right;\n",
              "    }\n",
              "</style>\n",
              "<table border=\"1\" class=\"dataframe\">\n",
              "  <thead>\n",
              "    <tr style=\"text-align: right;\">\n",
              "      <th></th>\n",
              "      <th>BGGId</th>\n",
              "      <th>Artist</th>\n",
              "    </tr>\n",
              "  </thead>\n",
              "  <tbody>\n",
              "    <tr>\n",
              "      <th>0</th>\n",
              "      <td>1</td>\n",
              "      <td>Harald Lieske</td>\n",
              "    </tr>\n",
              "    <tr>\n",
              "      <th>1</th>\n",
              "      <td>1</td>\n",
              "      <td>LowExp Artist</td>\n",
              "    </tr>\n",
              "    <tr>\n",
              "      <th>2</th>\n",
              "      <td>2</td>\n",
              "      <td>LowExp Artist</td>\n",
              "    </tr>\n",
              "    <tr>\n",
              "      <th>3</th>\n",
              "      <td>3</td>\n",
              "      <td>Franz Vohwinkel</td>\n",
              "    </tr>\n",
              "    <tr>\n",
              "      <th>4</th>\n",
              "      <td>4</td>\n",
              "      <td>LowExp Artist</td>\n",
              "    </tr>\n",
              "    <tr>\n",
              "      <th>5</th>\n",
              "      <td>5</td>\n",
              "      <td>Scott Okumura</td>\n",
              "    </tr>\n",
              "    <tr>\n",
              "      <th>6</th>\n",
              "      <td>5</td>\n",
              "      <td>Peter Whitley</td>\n",
              "    </tr>\n",
              "    <tr>\n",
              "      <th>7</th>\n",
              "      <td>6</td>\n",
              "      <td>LowExp Artist</td>\n",
              "    </tr>\n",
              "    <tr>\n",
              "      <th>8</th>\n",
              "      <td>7</td>\n",
              "      <td>Uncredited</td>\n",
              "    </tr>\n",
              "    <tr>\n",
              "      <th>9</th>\n",
              "      <td>7</td>\n",
              "      <td>LowExp Artist</td>\n",
              "    </tr>\n",
              "  </tbody>\n",
              "</table>\n",
              "</div>\n",
              "      <button class=\"colab-df-convert\" onclick=\"convertToInteractive('df-bccc6594-fe39-47b5-b396-d2a2b6e44388')\"\n",
              "              title=\"Convert this dataframe to an interactive table.\"\n",
              "              style=\"display:none;\">\n",
              "        \n",
              "  <svg xmlns=\"http://www.w3.org/2000/svg\" height=\"24px\"viewBox=\"0 0 24 24\"\n",
              "       width=\"24px\">\n",
              "    <path d=\"M0 0h24v24H0V0z\" fill=\"none\"/>\n",
              "    <path d=\"M18.56 5.44l.94 2.06.94-2.06 2.06-.94-2.06-.94-.94-2.06-.94 2.06-2.06.94zm-11 1L8.5 8.5l.94-2.06 2.06-.94-2.06-.94L8.5 2.5l-.94 2.06-2.06.94zm10 10l.94 2.06.94-2.06 2.06-.94-2.06-.94-.94-2.06-.94 2.06-2.06.94z\"/><path d=\"M17.41 7.96l-1.37-1.37c-.4-.4-.92-.59-1.43-.59-.52 0-1.04.2-1.43.59L10.3 9.45l-7.72 7.72c-.78.78-.78 2.05 0 2.83L4 21.41c.39.39.9.59 1.41.59.51 0 1.02-.2 1.41-.59l7.78-7.78 2.81-2.81c.8-.78.8-2.07 0-2.86zM5.41 20L4 18.59l7.72-7.72 1.47 1.35L5.41 20z\"/>\n",
              "  </svg>\n",
              "      </button>\n",
              "      \n",
              "  <style>\n",
              "    .colab-df-container {\n",
              "      display:flex;\n",
              "      flex-wrap:wrap;\n",
              "      gap: 12px;\n",
              "    }\n",
              "\n",
              "    .colab-df-convert {\n",
              "      background-color: #E8F0FE;\n",
              "      border: none;\n",
              "      border-radius: 50%;\n",
              "      cursor: pointer;\n",
              "      display: none;\n",
              "      fill: #1967D2;\n",
              "      height: 32px;\n",
              "      padding: 0 0 0 0;\n",
              "      width: 32px;\n",
              "    }\n",
              "\n",
              "    .colab-df-convert:hover {\n",
              "      background-color: #E2EBFA;\n",
              "      box-shadow: 0px 1px 2px rgba(60, 64, 67, 0.3), 0px 1px 3px 1px rgba(60, 64, 67, 0.15);\n",
              "      fill: #174EA6;\n",
              "    }\n",
              "\n",
              "    [theme=dark] .colab-df-convert {\n",
              "      background-color: #3B4455;\n",
              "      fill: #D2E3FC;\n",
              "    }\n",
              "\n",
              "    [theme=dark] .colab-df-convert:hover {\n",
              "      background-color: #434B5C;\n",
              "      box-shadow: 0px 1px 3px 1px rgba(0, 0, 0, 0.15);\n",
              "      filter: drop-shadow(0px 1px 2px rgba(0, 0, 0, 0.3));\n",
              "      fill: #FFFFFF;\n",
              "    }\n",
              "  </style>\n",
              "\n",
              "      <script>\n",
              "        const buttonEl =\n",
              "          document.querySelector('#df-bccc6594-fe39-47b5-b396-d2a2b6e44388 button.colab-df-convert');\n",
              "        buttonEl.style.display =\n",
              "          google.colab.kernel.accessAllowed ? 'block' : 'none';\n",
              "\n",
              "        async function convertToInteractive(key) {\n",
              "          const element = document.querySelector('#df-bccc6594-fe39-47b5-b396-d2a2b6e44388');\n",
              "          const dataTable =\n",
              "            await google.colab.kernel.invokeFunction('convertToInteractive',\n",
              "                                                     [key], {});\n",
              "          if (!dataTable) return;\n",
              "\n",
              "          const docLinkHtml = 'Like what you see? Visit the ' +\n",
              "            '<a target=\"_blank\" href=https://colab.research.google.com/notebooks/data_table.ipynb>data table notebook</a>'\n",
              "            + ' to learn more about interactive tables.';\n",
              "          element.innerHTML = '';\n",
              "          dataTable['output_type'] = 'display_data';\n",
              "          await google.colab.output.renderOutput(dataTable, element);\n",
              "          const docLink = document.createElement('div');\n",
              "          docLink.innerHTML = docLinkHtml;\n",
              "          element.appendChild(docLink);\n",
              "        }\n",
              "      </script>\n",
              "    </div>\n",
              "  </div>\n",
              "  "
            ]
          },
          "metadata": {},
          "execution_count": 26
        }
      ]
    },
    {
      "cell_type": "markdown",
      "source": [
        "### Artist Graph"
      ],
      "metadata": {
        "id": "EXJKKJaojIgx"
      }
    },
    {
      "cell_type": "code",
      "source": [
        "# Rows to remove before graphing...\n",
        "bad_rows = artist_long[(artist_long['Artist'] == 'LowExp Artist') | (artist_long['Artist'] == 'Uncredited') ].index\n",
        "\n",
        "# Run Feature Distribution\n",
        "feature_dist(artist_long.drop(bad_rows), 'Artist', 20, 10)\n",
        "\n",
        "artist5k = pd.merge(artist_long, bggid, how = 'right', on = 'BGGId')\n",
        "bad_rows = artist5k[(artist5k['Artist'] == 'LowExp Artist') | (artist5k['Artist'] == 'Uncredited') ].index\n",
        "\n",
        "feature_dist(artist5k.drop(bad_rows), 'Artist', 20, 5)"
      ],
      "metadata": {
        "colab": {
          "base_uri": "https://localhost:8080/",
          "height": 1000
        },
        "id": "eFGD5fzpGyYT",
        "outputId": "3b31c939-69ce-4aaa-a9ba-c7790b67643e"
      },
      "execution_count": 27,
      "outputs": [
        {
          "output_type": "display_data",
          "data": {
            "text/plain": [
              "<Figure size 1008x504 with 2 Axes>"
            ],
            "image/png": "[encoded data removed]"
          },
          "metadata": {
            "needs_background": "light"
          }
        },
        {
          "output_type": "display_data",
          "data": {
            "text/plain": [
              "<Figure size 1008x504 with 2 Axes>"
            ],
            "image/png": "[encoded data removed]"
          },
          "metadata": {
            "needs_background": "light"
          }
        }
      ]
    },
    {
      "cell_type": "markdown",
      "source": [
        "### Artist Top/Bottom Split (DF = artist_topbot)"
      ],
      "metadata": {
        "id": "0fuDBFJhj1Ys"
      }
    },
    {
      "cell_type": "code",
      "source": [
        "# Split games by top and bottom artists\n",
        "artist_topbot = topbot_split(artist_df, artist5k, 'Artist', 'top_artist', 'bot_artist', 20)\n",
        "artist_topbot"
      ],
      "metadata": {
        "colab": {
          "base_uri": "https://localhost:8080/",
          "height": 510
        },
        "id": "Scr4bxa1j0h1",
        "outputId": "d7aba4c7-49ea-4b50-afc8-066dd1c67d7b"
      },
      "execution_count": 28,
      "outputs": [
        {
          "output_type": "stream",
          "name": "stderr",
          "text": [
            "/usr/local/lib/python3.7/dist-packages/ipykernel_launcher.py:23: SettingWithCopyWarning: \n",
            "A value is trying to be set on a copy of a slice from a DataFrame.\n",
            "Try using .loc[row_indexer,col_indexer] = value instead\n",
            "\n",
            "See the caveats in the documentation: https://pandas.pydata.org/pandas-docs/stable/user_guide/indexing.html#returning-a-view-versus-a-copy\n"
          ]
        },
        {
          "output_type": "execute_result",
          "data": {
            "text/plain": [
              "       BGGId  top_artist  bot_artist\n",
              "0     174430         NaN         1.0\n",
              "1     161936         NaN         1.0\n",
              "2     167791         NaN         1.0\n",
              "3     182028         NaN         1.0\n",
              "4      12333         NaN         1.0\n",
              "...      ...         ...         ...\n",
              "5926  322589         NaN         0.0\n",
              "5927  305752         NaN         1.0\n",
              "5928  315610         NaN         0.0\n",
              "5929  280501         NaN         1.0\n",
              "5930  318474         NaN         1.0\n",
              "\n",
              "[5931 rows x 3 columns]"
            ],
            "text/html": [
              "\n",
              "  <div id=\"df-3303e3b6-7f89-4e79-a228-733f11d26f0d\">\n",
              "    <div class=\"colab-df-container\">\n",
              "      <div>\n",
              "<style scoped>\n",
              "    .dataframe tbody tr th:only-of-type {\n",
              "        vertical-align: middle;\n",
              "    }\n",
              "\n",
              "    .dataframe tbody tr th {\n",
              "        vertical-align: top;\n",
              "    }\n",
              "\n",
              "    .dataframe thead th {\n",
              "        text-align: right;\n",
              "    }\n",
              "</style>\n",
              "<table border=\"1\" class=\"dataframe\">\n",
              "  <thead>\n",
              "    <tr style=\"text-align: right;\">\n",
              "      <th></th>\n",
              "      <th>BGGId</th>\n",
              "      <th>top_artist</th>\n",
              "      <th>bot_artist</th>\n",
              "    </tr>\n",
              "  </thead>\n",
              "  <tbody>\n",
              "    <tr>\n",
              "      <th>0</th>\n",
              "      <td>174430</td>\n",
              "      <td>NaN</td>\n",
              "      <td>1.0</td>\n",
              "    </tr>\n",
              "    <tr>\n",
              "      <th>1</th>\n",
              "      <td>161936</td>\n",
              "      <td>NaN</td>\n",
              "      <td>1.0</td>\n",
              "    </tr>\n",
              "    <tr>\n",
              "      <th>2</th>\n",
              "      <td>167791</td>\n",
              "      <td>NaN</td>\n",
              "      <td>1.0</td>\n",
              "    </tr>\n",
              "    <tr>\n",
              "      <th>3</th>\n",
              "      <td>182028</td>\n",
              "      <td>NaN</td>\n",
              "      <td>1.0</td>\n",
              "    </tr>\n",
              "    <tr>\n",
              "      <th>4</th>\n",
              "      <td>12333</td>\n",
              "      <td>NaN</td>\n",
              "      <td>1.0</td>\n",
              "    </tr>\n",
              "    <tr>\n",
              "      <th>...</th>\n",
              "      <td>...</td>\n",
              "      <td>...</td>\n",
              "      <td>...</td>\n",
              "    </tr>\n",
              "    <tr>\n",
              "      <th>5926</th>\n",
              "      <td>322589</td>\n",
              "      <td>NaN</td>\n",
              "      <td>0.0</td>\n",
              "    </tr>\n",
              "    <tr>\n",
              "      <th>5927</th>\n",
              "      <td>305752</td>\n",
              "      <td>NaN</td>\n",
              "      <td>1.0</td>\n",
              "    </tr>\n",
              "    <tr>\n",
              "      <th>5928</th>\n",
              "      <td>315610</td>\n",
              "      <td>NaN</td>\n",
              "      <td>0.0</td>\n",
              "    </tr>\n",
              "    <tr>\n",
              "      <th>5929</th>\n",
              "      <td>280501</td>\n",
              "      <td>NaN</td>\n",
              "      <td>1.0</td>\n",
              "    </tr>\n",
              "    <tr>\n",
              "      <th>5930</th>\n",
              "      <td>318474</td>\n",
              "      <td>NaN</td>\n",
              "      <td>1.0</td>\n",
              "    </tr>\n",
              "  </tbody>\n",
              "</table>\n",
              "<p>5931 rows × 3 columns</p>\n",
              "</div>\n",
              "      <button class=\"colab-df-convert\" onclick=\"convertToInteractive('df-3303e3b6-7f89-4e79-a228-733f11d26f0d')\"\n",
              "              title=\"Convert this dataframe to an interactive table.\"\n",
              "              style=\"display:none;\">\n",
              "        \n",
              "  <svg xmlns=\"http://www.w3.org/2000/svg\" height=\"24px\"viewBox=\"0 0 24 24\"\n",
              "       width=\"24px\">\n",
              "    <path d=\"M0 0h24v24H0V0z\" fill=\"none\"/>\n",
              "    <path d=\"M18.56 5.44l.94 2.06.94-2.06 2.06-.94-2.06-.94-.94-2.06-.94 2.06-2.06.94zm-11 1L8.5 8.5l.94-2.06 2.06-.94-2.06-.94L8.5 2.5l-.94 2.06-2.06.94zm10 10l.94 2.06.94-2.06 2.06-.94-2.06-.94-.94-2.06-.94 2.06-2.06.94z\"/><path d=\"M17.41 7.96l-1.37-1.37c-.4-.4-.92-.59-1.43-.59-.52 0-1.04.2-1.43.59L10.3 9.45l-7.72 7.72c-.78.78-.78 2.05 0 2.83L4 21.41c.39.39.9.59 1.41.59.51 0 1.02-.2 1.41-.59l7.78-7.78 2.81-2.81c.8-.78.8-2.07 0-2.86zM5.41 20L4 18.59l7.72-7.72 1.47 1.35L5.41 20z\"/>\n",
              "  </svg>\n",
              "      </button>\n",
              "      \n",
              "  <style>\n",
              "    .colab-df-container {\n",
              "      display:flex;\n",
              "      flex-wrap:wrap;\n",
              "      gap: 12px;\n",
              "    }\n",
              "\n",
              "    .colab-df-convert {\n",
              "      background-color: #E8F0FE;\n",
              "      border: none;\n",
              "      border-radius: 50%;\n",
              "      cursor: pointer;\n",
              "      display: none;\n",
              "      fill: #1967D2;\n",
              "      height: 32px;\n",
              "      padding: 0 0 0 0;\n",
              "      width: 32px;\n",
              "    }\n",
              "\n",
              "    .colab-df-convert:hover {\n",
              "      background-color: #E2EBFA;\n",
              "      box-shadow: 0px 1px 2px rgba(60, 64, 67, 0.3), 0px 1px 3px 1px rgba(60, 64, 67, 0.15);\n",
              "      fill: #174EA6;\n",
              "    }\n",
              "\n",
              "    [theme=dark] .colab-df-convert {\n",
              "      background-color: #3B4455;\n",
              "      fill: #D2E3FC;\n",
              "    }\n",
              "\n",
              "    [theme=dark] .colab-df-convert:hover {\n",
              "      background-color: #434B5C;\n",
              "      box-shadow: 0px 1px 3px 1px rgba(0, 0, 0, 0.15);\n",
              "      filter: drop-shadow(0px 1px 2px rgba(0, 0, 0, 0.3));\n",
              "      fill: #FFFFFF;\n",
              "    }\n",
              "  </style>\n",
              "\n",
              "      <script>\n",
              "        const buttonEl =\n",
              "          document.querySelector('#df-3303e3b6-7f89-4e79-a228-733f11d26f0d button.colab-df-convert');\n",
              "        buttonEl.style.display =\n",
              "          google.colab.kernel.accessAllowed ? 'block' : 'none';\n",
              "\n",
              "        async function convertToInteractive(key) {\n",
              "          const element = document.querySelector('#df-3303e3b6-7f89-4e79-a228-733f11d26f0d');\n",
              "          const dataTable =\n",
              "            await google.colab.kernel.invokeFunction('convertToInteractive',\n",
              "                                                     [key], {});\n",
              "          if (!dataTable) return;\n",
              "\n",
              "          const docLinkHtml = 'Like what you see? Visit the ' +\n",
              "            '<a target=\"_blank\" href=https://colab.research.google.com/notebooks/data_table.ipynb>data table notebook</a>'\n",
              "            + ' to learn more about interactive tables.';\n",
              "          element.innerHTML = '';\n",
              "          dataTable['output_type'] = 'display_data';\n",
              "          await google.colab.output.renderOutput(dataTable, element);\n",
              "          const docLink = document.createElement('div');\n",
              "          docLink.innerHTML = docLinkHtml;\n",
              "          element.appendChild(docLink);\n",
              "        }\n",
              "      </script>\n",
              "    </div>\n",
              "  </div>\n",
              "  "
            ]
          },
          "metadata": {},
          "execution_count": 28
        }
      ]
    },
    {
      "cell_type": "markdown",
      "source": [
        "## Publisher DF"
      ],
      "metadata": {
        "id": "4VMerAd6Bhxd"
      }
    },
    {
      "cell_type": "code",
      "source": [
        "# Load in the Publisher Data\n",
        "publish_df = pd.read_csv('https://github.com/msmccann10/Portfolio/raw/main/board-game-prediction/data/game%20info/publishers_reduced.csv')#, index_col = 'BGGId' )\n",
        "\n",
        "# Many column names include .LTD or other punctuation that makes this complicated.\n",
        "# Use str.replace to remove unwanted punctuation\n",
        "publish_df.columns = publish_df.columns.str.replace(r'[^\\w\\s]+', '')"
      ],
      "metadata": {
        "id": "oSgtx6pvA_CI",
        "colab": {
          "base_uri": "https://localhost:8080/"
        },
        "outputId": "331298b6-a161-4fd0-bc52-5845fe13a6d5"
      },
      "execution_count": 29,
      "outputs": [
        {
          "output_type": "stream",
          "name": "stderr",
          "text": [
            "/usr/local/lib/python3.7/dist-packages/ipykernel_launcher.py:6: FutureWarning: The default value of regex will change from True to False in a future version.\n",
            "  \n"
          ]
        }
      ]
    },
    {
      "cell_type": "code",
      "source": [
        "# Run ohe_reverse function\n",
        "publish_df['ohe'] = publish_df.drop('BGGId', axis=1).apply(lambda row: ohe_reverse(row, list(row.index)), axis = 1) \n",
        "\n",
        "# Run make_longer\n",
        "publish_long = make_longer(publish_df, 'Publisher')\n",
        "avg_num_publish = pd.merge(publish_long, bggid, how = 'right', on = 'BGGId').groupby('BGGId')['Publisher'].nunique().mean()\n",
        "\n",
        "publish_long.head(10)"
      ],
      "metadata": {
        "id": "V4gVwHNNBbY1"
      },
      "execution_count": null,
      "outputs": []
    },
    {
      "cell_type": "markdown",
      "source": [
        "### Publisher Graph"
      ],
      "metadata": {
        "id": "j5ptt5TNk9za"
      }
    },
    {
      "cell_type": "code",
      "source": [
        "bad_rows = publish_long[(publish_long['Publisher'] == 'LowExp Publisher') |\n",
        "                        (publish_long['Publisher'] == 'SelfPublished') |\n",
        "                        (publish_long['Publisher'] == 'Web published')].index\n",
        "# publish_long.drop(bad_rows, inplace = True)\n",
        "\n",
        "# Run Feature Distribution\n",
        "feature_dist(publish_long.drop(bad_rows), 'Publisher', 20, 10)\n",
        "\n",
        "publish5k = pd.merge(publish_long, bggid, how = 'right', on = 'BGGId')\n",
        "bad_rows = publish5k[(publish5k['Publisher'] == 'LowExp Publisher') |\n",
        "                        (publish5k['Publisher'] == 'SelfPublished') |\n",
        "                        (publish5k['Publisher'] == 'Web published')].index\n",
        "\n",
        "feature_dist(publish5k.drop(bad_rows), 'Publisher', 20, 5)"
      ],
      "metadata": {
        "id": "Vt-T74RpHz5V"
      },
      "execution_count": null,
      "outputs": []
    },
    {
      "cell_type": "markdown",
      "source": [
        "### Publisher Top/Bottom Split (DF = publish_topbot)"
      ],
      "metadata": {
        "id": "blDWiSBRlDqL"
      }
    },
    {
      "cell_type": "code",
      "source": [
        "# KeyError: \"['Korea Boardgames Co.', 'Swan Panasia Co.'] not in index\"\n",
        "# list(publish_df.columns.sort_values())\n",
        "# publish5k[publish5k['Publisher'] == 'Swan Panasia Co.']\n",
        "publish_topbot = topbot_split(publish_df, publish5k, 'Publisher', 'top_publish', 'bot_publish', 20)\n",
        "publish_topbot"
      ],
      "metadata": {
        "id": "cJ0LATSelWod"
      },
      "execution_count": null,
      "outputs": []
    },
    {
      "cell_type": "markdown",
      "source": [
        "## Mechanics DF"
      ],
      "metadata": {
        "id": "4bEwx4YSIOkM"
      }
    },
    {
      "cell_type": "code",
      "source": [
        "# Load Mechanics Data\n",
        "mech_df = pd.read_csv('https://github.com/msmccann10/Portfolio/raw/main/board-game-prediction/data/game%20info/mechanics.csv')#, index_col = 'BGGId' )\n",
        "\n",
        "# Rename Columns that contain commas\n",
        "mech_df = mech_df.rename(columns={'I Cut, You Choose':'I Cut You Choose', 'Deck, Bag, and Pool Building': 'Deck / Bag / Pool Building'})"
      ],
      "metadata": {
        "id": "fTnB6RUrIOkM"
      },
      "execution_count": null,
      "outputs": []
    },
    {
      "cell_type": "code",
      "source": [
        "# Run ohe_reverse function\n",
        "mech_df['ohe'] = mech_df.drop('BGGId', axis=1).apply(lambda row: ohe_reverse(row, list(row.index)), axis = 1) \n",
        "\n",
        "# Run make_longer\n",
        "mech_long = make_longer(mech_df, 'Mechanic')\n",
        "avg_num_mech = pd.merge(mech_long, bggid, how = 'right', on = 'BGGId').groupby('BGGId')['Mechanic'].nunique().mean()\n",
        "\n",
        "mech_long.head(10)"
      ],
      "metadata": {
        "id": "zWpm4tguIOkN"
      },
      "execution_count": null,
      "outputs": []
    },
    {
      "cell_type": "code",
      "source": [
        "# Run Feature Distribution\n",
        "feature_dist2(mech_long, 'Mechanic', 20)\n",
        "\n",
        "mech5k = pd.merge(mech_long, bggid, how = 'right', on = 'BGGId')\n",
        "\n",
        "feature_dist2(mech5k, 'Mechanic', 20)"
      ],
      "metadata": {
        "id": "rfIocbqwIO4E"
      },
      "execution_count": null,
      "outputs": []
    },
    {
      "cell_type": "markdown",
      "source": [
        "## Sub-Categories DF"
      ],
      "metadata": {
        "id": "mPCwX36CQ5YL"
      }
    },
    {
      "cell_type": "code",
      "source": [
        "# Load in Subcategories\n",
        "subcat_df = pd.read_csv('https://github.com/msmccann10/Portfolio/raw/main/board-game-prediction/data/game%20info/subcategories.csv')#, index_col = 'BGGId' )\n"
      ],
      "metadata": {
        "id": "a6RrgBF7Q5YR"
      },
      "execution_count": null,
      "outputs": []
    },
    {
      "cell_type": "code",
      "source": [
        "# Run ohe_reverse function\n",
        "subcat_df['ohe'] = subcat_df.drop('BGGId', axis=1).apply(lambda row: ohe_reverse(row, list(row.index)), axis = 1) \n",
        "\n",
        "# Run make_longer\n",
        "subcat_long = make_longer(subcat_df, 'Subcat')\n",
        "avg_num_subcat = pd.merge(subcat_long, bggid, how = 'right', on = 'BGGId').groupby('BGGId')['Subcat'].nunique().mean()\n",
        "\n",
        "subcat_long.head(10)"
      ],
      "metadata": {
        "id": "qvhQnaNKQ5YR"
      },
      "execution_count": null,
      "outputs": []
    },
    {
      "cell_type": "code",
      "source": [
        "feature_dist2(subcat_long, 'Subcat', 40)\n",
        "\n",
        "subcat5k = pd.merge(subcat_long, bggid, how = 'right', on = 'BGGId')\n",
        "\n",
        "feature_dist2(subcat5k, 'Subcat', 20)"
      ],
      "metadata": {
        "id": "hEclhqJKKHZj"
      },
      "execution_count": null,
      "outputs": []
    },
    {
      "cell_type": "markdown",
      "source": [
        "## Themes DF"
      ],
      "metadata": {
        "id": "lTbMwViDUUeC"
      }
    },
    {
      "cell_type": "code",
      "source": [
        "theme_df = pd.read_csv('https://github.com/msmccann10/Portfolio/raw/main/board-game-prediction/data/game%20info/themes.csv')#, index_col = 'BGGId' )\n",
        "\n",
        "theme_df.columns = theme_df.columns.str.replace(r'[^\\w\\s]+', '')"
      ],
      "metadata": {
        "id": "uW9tfKvvUSv4"
      },
      "execution_count": null,
      "outputs": []
    },
    {
      "cell_type": "code",
      "source": [
        "# Run ohe_reverse function\n",
        "theme_df['ohe'] = theme_df.drop('BGGId', axis=1).apply(lambda row: ohe_reverse(row, list(row.index)), axis = 1) \n",
        "\n",
        "# Run make_longer\n",
        "theme_long = make_longer(theme_df, 'Theme')\n",
        "avg_num_theme = pd.merge(theme_long, bggid, how = 'right', on = 'BGGId').groupby('BGGId')['Theme'].nunique().mean()\n",
        "\n",
        "theme_long.head(10)"
      ],
      "metadata": {
        "id": "ArVpJkkZUSv4"
      },
      "execution_count": null,
      "outputs": []
    },
    {
      "cell_type": "code",
      "source": [
        "feature_dist2(theme_long, 'Theme', 20)\n",
        "\n",
        "theme5k = pd.merge(theme_long, bggid, how = 'right', on = 'BGGId')\n",
        "\n",
        "feature_dist2(theme5k, 'Theme', 20)"
      ],
      "metadata": {
        "id": "iwDpB5LZLK0w"
      },
      "execution_count": null,
      "outputs": []
    },
    {
      "cell_type": "markdown",
      "source": [
        "# Average Game Stats by Category"
      ],
      "metadata": {
        "id": "ZMTQIG05CYPy"
      }
    },
    {
      "cell_type": "code",
      "source": [
        "avg_num_design = pd.merge(design_long, bggid, how = 'right', on = 'BGGId').groupby('BGGId')['Designer'].nunique().mean()\n",
        "avg_num_artist = pd.merge(artist_long, bggid, how = 'right', on = 'BGGId').groupby('BGGId')['Artist'].nunique().mean()\n",
        "avg_num_publish = pd.merge(publish_long, bggid, how = 'right', on = 'BGGId').groupby('BGGId')['Publisher'].nunique().mean()\n",
        "avg_num_mech = pd.merge(mech_long, bggid, how = 'right', on = 'BGGId').groupby('BGGId')['Mechanic'].nunique().mean()\n",
        "avg_num_subcat = pd.merge(subcat_long, bggid, how = 'right', on = 'BGGId').groupby('BGGId')['Subcat'].nunique().mean()\n",
        "avg_num_theme = pd.merge(theme_long, bggid, how = 'right', on = 'BGGId').groupby('BGGId')['Theme'].nunique().mean()\n",
        "\n",
        "# avg_num_design = design5k.groupby('BGGId')['Designer'].nunique().mean()\n",
        "# avg_num_artist = artist5k.groupby('BGGId')['Artist'].nunique().mean()\n",
        "# avg_num_publish = publish5k.groupby('BGGId')['Publisher'].nunique().mean()\n",
        "# avg_num_mech = mech5k.groupby('BGGId')['Mechanic'].nunique().mean()\n",
        "# avg_num_subcat = subcat5k.groupby('BGGId')['Subcat'].nunique().mean()\n",
        "# avg_num_theme = theme5k.groupby('BGGId')['Theme'].nunique().mean()"
      ],
      "metadata": {
        "id": "JhR-72whUTuu"
      },
      "execution_count": null,
      "outputs": []
    },
    {
      "cell_type": "code",
      "source": [
        "# Average Game Statistics\n",
        "print(f'Average Game Statistics (Top 5000)')\n",
        "print(f'   Number of Designers: {avg_num_design:.2f}')\n",
        "print(f'   Number of Artists: {avg_num_artist:.2f}')\n",
        "print(f'   Number of Publishers: {avg_num_publish:.2f}')\n",
        "print(f'   Number of Mechanics: {avg_num_mech:.2f}')\n",
        "print(f'   Number of Sub-Categories: {avg_num_subcat:.2f}')\n",
        "print(f'   Number of Themes: {avg_num_theme:.2f}')"
      ],
      "metadata": {
        "id": "NBuTE4AHB_NE"
      },
      "execution_count": null,
      "outputs": []
    },
    {
      "cell_type": "markdown",
      "source": [
        "## Games2 DF"
      ],
      "metadata": {
        "id": "Rsyy7RYuX62A"
      }
    },
    {
      "cell_type": "code",
      "source": [
        "games2 = pd.read_csv('https://raw.githubusercontent.com/msmccann10/Portfolio/main/board-game-prediction/data/game%20info/games.csv')"
      ],
      "metadata": {
        "id": "CpQ0O8RUQcJi"
      },
      "execution_count": null,
      "outputs": []
    },
    {
      "cell_type": "code",
      "source": [
        "games2.head()"
      ],
      "metadata": {
        "id": "ogEp2JH1TFBB"
      },
      "execution_count": null,
      "outputs": []
    },
    {
      "cell_type": "code",
      "source": [
        "games2.info()"
      ],
      "metadata": {
        "id": "3XsngRWiTPRZ"
      },
      "execution_count": null,
      "outputs": []
    },
    {
      "cell_type": "code",
      "source": [
        "games2.drop(games2.iloc[:,30:40], inplace = True, axis = 1)\n",
        "games2.drop(columns = ['Description', 'LanguageEase', 'StdDev', 'NumOwned',  'NumWant', 'NumWish', 'NumWeightVotes', 'NumComments'], inplace = True)\n",
        "games2.info()"
      ],
      "metadata": {
        "id": "noz1T3IjTWMg"
      },
      "execution_count": null,
      "outputs": []
    },
    {
      "cell_type": "code",
      "source": [
        "games2_test2 = games2[games2['NumUserRatings'] >= 100]"
      ],
      "metadata": {
        "id": "CPD2SctJroZz"
      },
      "execution_count": null,
      "outputs": []
    },
    {
      "cell_type": "code",
      "source": [
        "print('Number of 0 entries in each column')\n",
        "for col in games2_test2.columns:\n",
        "    num = games2_test2[games2_test2[col] == 0]['BGGId'].nunique()\n",
        "    print(f'{col} has: {num}')"
      ],
      "metadata": {
        "id": "h3r6R5gXfAxC"
      },
      "execution_count": null,
      "outputs": []
    },
    {
      "cell_type": "code",
      "source": [
        "games2_test = games2[(games2['NumUserRatings'] >= 100) & (games2['YearPublished'] != 0) & (games2['GameWeight'] != 0) \n",
        "& (games2['MinPlayers'] != 0) & (games2['MaxPlayers'] != 0) \n",
        "& (games2['ComMinPlaytime'] != 0) & (games2['ComMaxPlaytime'] != 0) \n",
        "& (games2['MfgAgeRec'] != 0) & (games2['MfgPlaytime'] != 0)]"
      ],
      "metadata": {
        "id": "ju1sOQ3Chn9t"
      },
      "execution_count": null,
      "outputs": []
    },
    {
      "cell_type": "code",
      "source": [
        "games2_test['BGGId'].nunique()"
      ],
      "metadata": {
        "id": "mM5MxgulsURT"
      },
      "execution_count": null,
      "outputs": []
    },
    {
      "cell_type": "code",
      "source": [
        "games2_test['BestPlayers'].value_counts()"
      ],
      "metadata": {
        "id": "PT3ZDejDtAMu"
      },
      "execution_count": null,
      "outputs": []
    },
    {
      "cell_type": "code",
      "source": [
        "#Unfortunately it looks like 'BestPlayer' must be included in the drop list as the info in the DF does not match with the info on BGG. A number of the 0's are innacurate. \n",
        "corr_drop = ['YearPublished', 'BGGId', 'NumAlternates', 'NumExpansions', 'NumImplementations', 'IsReimplementation', 'Kickstarted', 'MfgPlaytime', 'MfgAgeRec', 'MinPlayers', 'MaxPlayers', 'BestPlayers']\n",
        "corr = round(games2_test.drop(columns = corr_drop).corr(), 2)\n",
        "# corr = round(games2.drop(columns = corr_drop).corr(), 2)\n",
        "# corr = round(corr.corr(), 2)\n",
        "\n",
        "fig, ax = plt.subplots(figsize= (12,12))\n",
        "sns.heatmap(corr, cmap = 'Reds', annot = True, ax = ax)\n",
        "plt.title('Sales Data Correlation Matrix', fontsize = 16)\n",
        "plt.xticks(rotation = 45, ha = \"right\", rotation_mode = 'anchor');"
      ],
      "metadata": {
        "id": "u3agiXSdNbtW"
      },
      "execution_count": null,
      "outputs": []
    },
    {
      "cell_type": "code",
      "source": [
        "plt.scatter(games2_test['AvgRating'], games2_test['GameWeight']);"
      ],
      "metadata": {
        "id": "KVkixpZ7c2kG"
      },
      "execution_count": null,
      "outputs": []
    },
    {
      "cell_type": "code",
      "source": [
        "fig, ax = plt.subplots(figsize = (10, 10))\n",
        "plt.scatter(games2_test['AvgRating'], games2_test['BayesAvgRating'], cmap = 'OrRd', c = games2_test['NumUserRatings'], alpha = 1);\n",
        "plt.colorbar();\n",
        "plt.xlabel('Average Rating', fontsize = 16, weight = 'semibold')\n",
        "plt.ylabel('Bayes Average Rating', fontsize = 16, weight = 'semibold');"
      ],
      "metadata": {
        "id": "TOyqwv_SdzUa"
      },
      "execution_count": null,
      "outputs": []
    },
    {
      "cell_type": "code",
      "source": [
        "fig, ax = plt.subplots(figsize = (10, 10))\n",
        "plt.scatter(games2_test['NumUserRatings'], games2_test['BayesAvgRating']);\n",
        "plt.xlabel('Number of User Ratings', fontsize = 16, weight = 'semibold')\n",
        "plt.ylabel('Bayes Average Rating', fontsize = 16, weight = 'semibold');"
      ],
      "metadata": {
        "id": "sjRM3aj0gUU1"
      },
      "execution_count": null,
      "outputs": []
    },
    {
      "cell_type": "markdown",
      "source": [
        "# Merge Main"
      ],
      "metadata": {
        "id": "UnGyFOkxM2DN"
      }
    },
    {
      "cell_type": "code",
      "source": [
        "# Merge the rank and the initial game DF..\n",
        "main_df = pd.merge(game_df, rank_df, how = 'right', on = 'BGGId')\n",
        "\n",
        "# Lose rows that are duplicated in the other DF..\n",
        "main_df.drop(main_df.columns[2:20], axis = 1, inplace = True)"
      ],
      "metadata": {
        "id": "7p9uEcddM6vG"
      },
      "execution_count": null,
      "outputs": []
    },
    {
      "cell_type": "code",
      "source": [
        "df_list = [mech_df, subcat_df, theme_df]#, design_topbot, artist_topbot, publish_topbot]# , design_df, artist_df, publish_df]\n",
        "\n",
        "main2_df = games2\n",
        "for df in df_list:\n",
        "    main2_df = pd.merge(main2_df, df, how = 'left', on = 'BGGId')\n",
        "    # main2_df = main2_df.drop(columns = ['ohe'])\n",
        "\n",
        "main2_df.drop(columns = 'Name', inplace = True)\n",
        "main2_df.fillna(value = 0, inplace = True)"
      ],
      "metadata": {
        "id": "BWNY07zSWBAD"
      },
      "execution_count": null,
      "outputs": []
    },
    {
      "cell_type": "code",
      "source": [
        "merge_main = pd.merge(main_df, main2_df, how = 'inner', on = \"BGGId\")\n",
        "merge_main.reset_index(inplace = True, drop = True)\n",
        "merge_main"
      ],
      "metadata": {
        "id": "Fyv6TOl0hSG3"
      },
      "execution_count": null,
      "outputs": []
    },
    {
      "cell_type": "markdown",
      "source": [
        "# Machine Learning - Linear Regression\n",
        "Attempt to model avgrank"
      ],
      "metadata": {
        "id": "UGBX3mTUGU82"
      }
    },
    {
      "cell_type": "markdown",
      "source": [
        "## Preprocessing"
      ],
      "metadata": {
        "id": "CVtbNtNMGaQJ"
      }
    },
    {
      "cell_type": "markdown",
      "source": [
        "Identify Features"
      ],
      "metadata": {
        "id": "xXMs9rtIGf4e"
      }
    },
    {
      "cell_type": "code",
      "source": [
        "# Bring in a copy to work with\n",
        "merge_ml = merge_main.copy()"
      ],
      "metadata": {
        "id": "cEUQpDvsGKrZ"
      },
      "execution_count": null,
      "outputs": []
    },
    {
      "cell_type": "code",
      "source": [
        "## Feature Selection and \n",
        "# Drop date columns\n",
        "merge_ml.drop(merge_ml.columns[2:133], axis = 1, inplace = True)\n",
        "\n",
        "# Drop unique columns (ID, name)\n",
        "merge_ml.drop(columns = ['BGGId', 'name'], inplace = True) \n",
        "                         \n",
        "# Drop columns used for EDA that might have spill over (avg_rank, num_times, topx)\n",
        "merge_ml.drop(columns = ['num_times', 'avg_rank', 'Top_100', 'Top_20'], inplace = True)\n",
        "\n",
        "# While interesting best and good players have ~4000 entries with 0's so this feature will not be particularly useful for our analysis.\n",
        "merge_ml.drop(columns = ['BestPlayers', 'GoodPlayers', 'Family'], inplace = True)\n",
        "\n",
        "merge_ml.drop(columns = ['NumUserRatings', 'NumAlternates', 'NumExpansions', 'NumImplementations', 'IsReimplementation'], inplace=True)\n",
        "\n",
        "# Drop Community Stats as we want to know what the Manucaturer can do to increase sales/ranking. \n",
        "merge_ml.drop(columns = ['ComAgeRec', 'ComMinPlaytime', 'ComMaxPlaytime'], inplace=True) # Community\n",
        "# merge_ml.drop(columns = ['MfgAgeRec', 'MfgPlaytime'], inplace=True) # Manufacturer\n",
        "\n",
        "# Data came preloaded with a number of designers/publishers/artists grouped as low experience\n",
        "# Unfortunately grouping these as such gives them significantly more weight than intended\n",
        "# Will caputure these with our top/bot split.\n",
        "# merge_ml.drop(columns = ['LowExp Designer', 'LowExp Publisher', 'LowExp Artist'], inplace=True)"
      ],
      "metadata": {
        "id": "LUDrpYX4WHS7"
      },
      "execution_count": null,
      "outputs": []
    },
    {
      "cell_type": "code",
      "source": [
        "print(f'Theme Long Length {len(theme_long.index)}')\n",
        "theme_long['Theme'].value_counts().tail(139).sum()\n",
        "bad_themes = list(theme_long['Theme'].value_counts().tail(139).index)"
      ],
      "metadata": {
        "id": "y9ex-55qWj4D"
      },
      "execution_count": null,
      "outputs": []
    },
    {
      "cell_type": "code",
      "source": [
        "print(f'Mech Long Length {len(mech_long.index)}')\n",
        "mech_long['Mechanic'].value_counts().tail(70).sum()\n",
        "bad_mech = list(mech_long['Mechanic'].value_counts().tail(70).index)"
      ],
      "metadata": {
        "id": "sI3wV93cWj4D"
      },
      "execution_count": null,
      "outputs": []
    },
    {
      "cell_type": "code",
      "source": [
        "na_list = ['YearPublished', 'GameWeight', 'MinPlayers', 'MaxPlayers', 'MfgPlaytime', 'MfgAgeRec']\n",
        "\n",
        "merge_ml[na_list] = merge_ml[na_list].replace({0: np.nan})\n",
        "\n",
        "merge_ml.drop(columns = bad_themes, inplace = True)\n",
        "merge_ml.drop(columns = bad_mech, inplace = True)"
      ],
      "metadata": {
        "id": "JY0KOn0Fs4Sv"
      },
      "execution_count": null,
      "outputs": []
    },
    {
      "cell_type": "markdown",
      "source": [
        "## Instantiate Transformers"
      ],
      "metadata": {
        "id": "nifRC4yZHAcl"
      }
    },
    {
      "cell_type": "code",
      "source": [
        "# Transformers\n",
        "imputer = SimpleImputer(missing_values=np.nan, strategy='mean')\n",
        "scaler = StandardScaler()\n",
        "\n",
        "num_sel = make_column_selector(dtype_include = 'number')\n",
        "\n",
        "# Preprocessor\n",
        "processor = make_pipeline(imputer, StandardScaler())"
      ],
      "metadata": {
        "id": "Py5U2or17ckF"
      },
      "execution_count": null,
      "outputs": []
    },
    {
      "cell_type": "markdown",
      "source": [
        "## Set Target and Feature Matrix"
      ],
      "metadata": {
        "id": "ilnLyLbQHKiE"
      }
    },
    {
      "cell_type": "code",
      "source": [
        "X = merge_ml.drop(columns = ['AvgRating', 'BayesAvgRating'])\n",
        "y = merge_ml['AvgRating']\n",
        "\n",
        "X_train, X_test, y_train, y_test = train_test_split(X, y, random_state = 47)"
      ],
      "metadata": {
        "id": "_lj28dxs9pRA"
      },
      "execution_count": null,
      "outputs": []
    },
    {
      "cell_type": "markdown",
      "source": [
        "### Dummy Model"
      ],
      "metadata": {
        "id": "oET7G-QIcBqI"
      }
    },
    {
      "cell_type": "code",
      "source": [
        "## Dummy Model for comparison\n",
        "%%time \n",
        "dummy_pipe = make_pipeline(processor, DummyRegressor(strategy = 'mean'))\n",
        "dummy_pipe.fit(X_train, y_train)\n",
        "\n",
        "metrics = model_eval(dummy_pipe, 'Dummy Model', X_train, X_test, y_train, y_test)\n",
        "regressperformance  = regressperformance.append(metrics, ignore_index = True)"
      ],
      "metadata": {
        "id": "GBpQEwSBbuyU"
      },
      "execution_count": null,
      "outputs": []
    },
    {
      "cell_type": "markdown",
      "source": [
        "### Linear Regression"
      ],
      "metadata": {
        "id": "hixd_6WzqEbr"
      }
    },
    {
      "cell_type": "code",
      "source": [
        "%%time\n",
        "reg = LinearRegression()\n",
        "reg_pipe = make_pipeline(processor, reg)\n",
        "reg_pipe.fit(X_train, y_train)\n",
        "\n",
        "metrics = model_eval(reg_pipe, 'Linear Regression', X_train, X_test, y_train, y_test)\n",
        "regressperformance = regressperformance.append(metrics, ignore_index = True)"
      ],
      "metadata": {
        "id": "CzBudxw6FAdd"
      },
      "execution_count": null,
      "outputs": []
    },
    {
      "cell_type": "markdown",
      "source": [
        "### Simple Decision Tree"
      ],
      "metadata": {
        "id": "1FSwx3i_cIud"
      }
    },
    {
      "cell_type": "code",
      "source": [
        "%%time \n",
        "dec_tree = make_pipeline(processor, DecisionTreeRegressor(random_state = 42))\n",
        "dec_tree.fit(X_train, y_train)\n",
        "\n",
        "metrics = model_eval(dec_tree, 'Decision Tree', X_train, X_test, y_train, y_test)\n",
        "regressperformance = regressperformance.append(metrics, ignore_index = True)"
      ],
      "metadata": {
        "id": "OnGa7ZnvcHtL"
      },
      "execution_count": null,
      "outputs": []
    },
    {
      "cell_type": "markdown",
      "source": [
        "### Bagged Forest"
      ],
      "metadata": {
        "id": "DTMP9BIace2p"
      }
    },
    {
      "cell_type": "code",
      "source": [
        "%%time \n",
        "bagreg = make_pipeline(processor, BaggingRegressor(random_state=42))\n",
        "bagreg.fit(X_train, y_train)\n",
        "\n",
        "metrics = model_eval(bagreg, 'Bagged Forest', X_train, X_test, y_train, y_test)\n",
        "regressperformance = regressperformance.append(metrics, ignore_index = True)"
      ],
      "metadata": {
        "id": "96y7SZZ8cjRv"
      },
      "execution_count": null,
      "outputs": []
    },
    {
      "cell_type": "markdown",
      "source": [
        "### Random Forest Regression"
      ],
      "metadata": {
        "id": "oKjq6JDiI9oO"
      }
    },
    {
      "cell_type": "code",
      "source": [
        "%%time \n",
        "rf_pipe = make_pipeline(processor, RandomForestRegressor(random_state = 42))\n",
        "rf_pipe.fit(X_train, y_train)\n",
        "\n",
        "metrics = model_eval(rf_pipe, 'Random Forest', X_train, X_test, y_train, y_test)\n",
        "regressperformance = regressperformance.append(metrics, ignore_index = True)"
      ],
      "metadata": {
        "id": "vXsy5glk-RUA"
      },
      "execution_count": null,
      "outputs": []
    },
    {
      "cell_type": "markdown",
      "source": [
        "### Gradient Boost Regression"
      ],
      "metadata": {
        "id": "_XB-W2W2eLhV"
      }
    },
    {
      "cell_type": "code",
      "source": [
        "%%time\n",
        "grad_pipe = make_pipeline(processor, GradientBoostingRegressor(random_state = 42))\n",
        "grad_pipe.fit(X_train, y_train)\n",
        "\n",
        "metrics = model_eval(grad_pipe, 'Gradient Boosting', X_train, X_test, y_train, y_test)\n",
        "regressperformance = regressperformance.append(metrics, ignore_index = True)"
      ],
      "metadata": {
        "id": "i2XybRaKeOY2"
      },
      "execution_count": null,
      "outputs": []
    },
    {
      "cell_type": "markdown",
      "source": [
        "### XGBoost"
      ],
      "metadata": {
        "id": "D1wAiT3DwvtL"
      }
    },
    {
      "cell_type": "code",
      "source": [
        "%%time\n",
        "xgb_pipe = make_pipeline(processor, XGBRegressor(random_state = 42))\n",
        "xgb_pipe.fit(X_train, y_train)\n",
        "\n",
        "metrics = model_eval(xgb_pipe, 'XGB Regressor', X_train, X_test, y_train, y_test)\n",
        "regressperformance = regressperformance.append(metrics, ignore_index = True)"
      ],
      "metadata": {
        "id": "X9n8IvsWqRBI"
      },
      "execution_count": null,
      "outputs": []
    },
    {
      "cell_type": "markdown",
      "source": [
        "### LGBM Regressor"
      ],
      "metadata": {
        "id": "9GqRlb75fFM2"
      }
    },
    {
      "cell_type": "code",
      "source": [
        "%%time\n",
        "lgbm_pipe = make_pipeline(processor, LGBMRegressor(random_state = 42))\n",
        "lgbm_pipe.fit(X_train, y_train)\n",
        "\n",
        "metrics = model_eval(lgbm_pipe, 'LGBM Regressor', X_train, X_test, y_train, y_test)\n",
        "regressperformance = regressperformance.append(metrics, ignore_index = True)"
      ],
      "metadata": {
        "id": "KJ_ebPtTdh_M"
      },
      "execution_count": null,
      "outputs": []
    },
    {
      "cell_type": "markdown",
      "source": [
        "## Model Performance Overview - Regression"
      ],
      "metadata": {
        "id": "eEquTQ68lzrT"
      }
    },
    {
      "cell_type": "code",
      "source": [
        "pd.set_option('display.float_format', lambda x: '%.3f' % x)\n",
        "\n",
        "regressperformance"
      ],
      "metadata": {
        "id": "ANa0Z78TN1Mq"
      },
      "execution_count": null,
      "outputs": []
    },
    {
      "cell_type": "markdown",
      "source": [
        "By all metrics the Light Boosting Regression Model outperforms the competition. We will attempt to hyperparameter tune that model to see if we can get further performance improvement. "
      ],
      "metadata": {
        "id": "wogP4mOJmDEa"
      }
    },
    {
      "cell_type": "markdown",
      "source": [
        "## Feature Importance"
      ],
      "metadata": {
        "id": "iTuV3T3ZqSiR"
      }
    },
    {
      "cell_type": "code",
      "source": [
        "feature_names = num_sel(X_train)\n",
        "coefs = lgbm_pipe.named_steps['lgbmregressor'].feature_importances_\n",
        "\n",
        "lgbm_importance = pd.Series(coefs, index = feature_names)\n",
        "# (importance.sort_values(ascending = False)/10).head(30)\n",
        "(lgbm_importance.sort_values(ascending = False)/30)"
      ],
      "metadata": {
        "id": "lzctWqKpfLyW"
      },
      "execution_count": null,
      "outputs": []
    },
    {
      "cell_type": "code",
      "source": [
        "importance10 = (lgbm_importance.sort_values(ascending = False)/30).head(20)\n",
        "plt.figure(figsize = (15, 8))\n",
        "sns.barplot(y = importance10.index, x = importance10.values, color = 'green', alpha = .8)\n",
        "plt.xticks(rotation = 45, ha = 'right')\n",
        "plt.grid(axis = 'x', alpha = .5)\n",
        "plt.title('Top 20 Features Based on Light Gradient Boosting Model', fontsize = 18, weight = 'bold')\n",
        "plt.xlabel('Feature Importance (Percent)', fontsize=14, weight = 'semibold')\n",
        "plt.ylabel('', fontsize=16);"
      ],
      "metadata": {
        "id": "a1TVmFEDn86G"
      },
      "execution_count": null,
      "outputs": []
    },
    {
      "cell_type": "markdown",
      "source": [
        "## HyperTune"
      ],
      "metadata": {
        "id": "7NHKmfyGw8jv"
      }
    },
    {
      "cell_type": "code",
      "source": [
        "lgbm_pipe.get_params()"
      ],
      "metadata": {
        "id": "dFWvNaCSiJvv"
      },
      "execution_count": null,
      "outputs": []
    },
    {
      "cell_type": "code",
      "source": [
        "params = {'lgbmregressor__n_estimators': range(100,1101, 200),\n",
        "          'lgbmregressor__learning_rate': [.01, .1, .2],\n",
        "          'lgbmregressor__num_leaves': range(100,2101, 200),\n",
        "          'lgbmregressor__max_depth': range(3,10)}"
      ],
      "metadata": {
        "id": "eXRopdyLs4AN"
      },
      "execution_count": null,
      "outputs": []
    },
    {
      "cell_type": "code",
      "source": [
        "%%time \n",
        "# lgbm_grid = RandomizedSearchCV(lgbm_pipe, params)\n",
        "\n",
        "# lgbm_grid.fit(X_train, y_train)"
      ],
      "metadata": {
        "id": "Q2q82qvvm-yo"
      },
      "execution_count": null,
      "outputs": []
    },
    {
      "cell_type": "code",
      "source": [
        "# lgbm_grid.best_params_\n",
        "\n",
        "#best estimators\n",
        "# {'lgbmregressor__learning_rate': 0.1,\n",
        "#  'lgbmregressor__max_depth': 3,\n",
        "#  'lgbmregressor__n_estimators': 500,\n",
        "#  'lgbmregressor__num_leaves': 1100}"
      ],
      "metadata": {
        "id": "hhCB-ybMnOpp"
      },
      "execution_count": null,
      "outputs": []
    },
    {
      "cell_type": "code",
      "source": [
        "best_lgbm = LGBMRegressor(learning_rate = 0.1,\n",
        "                          max_depth = 5,\n",
        "                          n_estimators = 500,\n",
        "                          num_leaves = 700)\n",
        "lgbm_pipe = make_pipeline(processor, best_lgbm)\n",
        "lgbm_pipe.fit(X_train, y_train)\n",
        "\n",
        "metrics = model_eval(lgbm_pipe, 'Best LGBM Regressor', X_train, X_test, y_train, y_test)"
      ],
      "metadata": {
        "id": "as6CCzqT_7nI"
      },
      "execution_count": null,
      "outputs": []
    },
    {
      "cell_type": "code",
      "source": [
        "best_coefs = lgbm_pipe.named_steps['lgbmregressor'].feature_importances_\n",
        "\n",
        "importance = pd.Series(best_coefs, index = feature_names)\n",
        "(importance.sort_values(ascending = False)/30).head(30)"
      ],
      "metadata": {
        "id": "cNCldQR5Tjea"
      },
      "execution_count": null,
      "outputs": []
    },
    {
      "cell_type": "markdown",
      "source": [
        "# Machine Learning - Classification"
      ],
      "metadata": {
        "id": "8E6YnLJCxB2N"
      }
    },
    {
      "cell_type": "markdown",
      "source": [
        "## Preprocessing"
      ],
      "metadata": {
        "id": "su1YC3Tqxa2n"
      }
    },
    {
      "cell_type": "code",
      "source": [
        "# Bring in a copy to work with\n",
        "merge_ml2 = merge_main.copy()"
      ],
      "metadata": {
        "id": "lHmZG7hWxEa-"
      },
      "execution_count": null,
      "outputs": []
    },
    {
      "cell_type": "code",
      "source": [
        "## Feature Selection and \n",
        "# Drop date columns\n",
        "merge_ml2.drop(merge_ml2.columns[2:133], axis = 1, inplace = True)\n",
        "\n",
        "# Apply the same drops as before.\n",
        "merge_ml2.drop(columns = ['BGGId', 'name', 'num_times', 'avg_rank', 'Top_20', \n",
        "                          'BestPlayers', 'GoodPlayers', 'Family', 'NumUserRatings', \n",
        "                          'NumAlternates', 'NumExpansions', 'NumImplementations',\n",
        "                          'IsReimplementation', 'ComAgeRec', 'ComMinPlaytime', \n",
        "                          'ComMaxPlaytime'], inplace = True) #, 'LowExp Designer', 'LowExp Publisher', 'LowExp Artist'], inplace = True) \n",
        "                        "
      ],
      "metadata": {
        "id": "VigCo0UaxUvP"
      },
      "execution_count": null,
      "outputs": []
    },
    {
      "cell_type": "code",
      "source": [
        "na_list = ['YearPublished', 'GameWeight', 'MinPlayers', 'MaxPlayers', 'MfgPlaytime', 'MfgAgeRec']\n",
        "\n",
        "merge_ml2[na_list] = merge_ml[na_list].replace({0: np.nan})\n",
        "\n",
        "merge_ml2.drop(columns = bad_themes, inplace = True)\n",
        "merge_ml2.drop(columns = bad_mech, inplace = True)"
      ],
      "metadata": {
        "id": "CAMtCmSfZUzQ"
      },
      "execution_count": null,
      "outputs": []
    },
    {
      "cell_type": "code",
      "source": [
        "X = merge_ml2.drop(columns = ['AvgRating', 'BayesAvgRating', 'Top_100'])\n",
        "y = merge_ml2['Top_100']\n",
        "\n",
        "X_train, X_test, y_train, y_test = train_test_split(X, y, random_state = 47)"
      ],
      "metadata": {
        "id": "z-7DXHUUxYZd"
      },
      "execution_count": null,
      "outputs": []
    },
    {
      "cell_type": "markdown",
      "source": [
        "### KNN Model"
      ],
      "metadata": {
        "id": "bpFL3XzyzUbK"
      }
    },
    {
      "cell_type": "code",
      "source": [
        "knn = KNeighborsClassifier()\n",
        "knn_pipe = make_pipeline(processor, knn)\n",
        "knn_pipe.fit(X_train, y_train)\n",
        "\n",
        "metrics = class_eval(knn_pipe, 'K Nearest Neighbor', X_train, X_test, y_train, y_test)\n",
        "classperformance = classperformance.append(metrics, ignore_index = True)"
      ],
      "metadata": {
        "id": "kvhlMziWzS8S"
      },
      "execution_count": null,
      "outputs": []
    },
    {
      "cell_type": "markdown",
      "source": [
        "### Logistic Regression"
      ],
      "metadata": {
        "id": "bP210RLXNYve"
      }
    },
    {
      "cell_type": "code",
      "source": [
        "logreg_pipe = make_pipeline(processor, LogisticRegression())\n",
        "logreg_pipe.fit(X_train, y_train)\n",
        "\n",
        "metrics = class_eval(logreg_pipe, 'Log Reg', X_train, X_test, y_train, y_test)\n",
        "classperformance = classperformance.append(metrics, ignore_index = True)"
      ],
      "metadata": {
        "id": "g2OJX_MSHJKZ"
      },
      "execution_count": null,
      "outputs": []
    },
    {
      "cell_type": "markdown",
      "source": [
        "### Logistic Regression Balanced"
      ],
      "metadata": {
        "id": "erPduXAzNcDu"
      }
    },
    {
      "cell_type": "code",
      "source": [
        "logreg_balanced = make_pipeline(processor, LogisticRegression(class_weight='balanced'))\n",
        "logreg_balanced.fit(X_train, y_train)\n",
        "\n",
        "metrics = class_eval(logreg_balanced, 'Log Reg Balanced', X_train, X_test, y_train, y_test)\n",
        "classperformance = classperformance.append(metrics, ignore_index = True)"
      ],
      "metadata": {
        "id": "2prTa8y6HeFS"
      },
      "execution_count": null,
      "outputs": []
    },
    {
      "cell_type": "markdown",
      "source": [
        "### Decision Tree Classifier"
      ],
      "metadata": {
        "id": "Nap6qbiRIvMz"
      }
    },
    {
      "cell_type": "code",
      "source": [
        "dec_tree_pipe = make_pipeline(processor, DecisionTreeClassifier(random_state = 42))\n",
        "dec_tree_pipe.fit(X_train, y_train)\n",
        "\n",
        "metrics = class_eval(dec_tree_pipe, 'Decision Tree', X_train, X_test, y_train, y_test)\n",
        "classperformance = classperformance.append(metrics, ignore_index = True)"
      ],
      "metadata": {
        "id": "r1yP_h5jILFJ"
      },
      "execution_count": null,
      "outputs": []
    },
    {
      "cell_type": "markdown",
      "source": [
        "### Decision Tree Balanced"
      ],
      "metadata": {
        "id": "4oVPHiyyN1K5"
      }
    },
    {
      "cell_type": "code",
      "source": [
        "dec_tree_balance = make_pipeline(processor, \n",
        "                              DecisionTreeClassifier(random_state = 42, class_weight = 'balanced'))\n",
        "dec_tree_balance.fit(X_train, y_train)\n",
        "\n",
        "metrics = class_eval(dec_tree_balance, 'Decision Tree Balanced', X_train, X_test, y_train, y_test)\n",
        "classperformance = classperformance.append(metrics, ignore_index = True)"
      ],
      "metadata": {
        "id": "5stjhvO7I3DE"
      },
      "execution_count": null,
      "outputs": []
    },
    {
      "cell_type": "markdown",
      "source": [
        "### Bagged Trees"
      ],
      "metadata": {
        "id": "gnxLP-QIKoqR"
      }
    },
    {
      "cell_type": "code",
      "source": [
        "bag_pipe = make_pipeline(processor, BaggingClassifier(random_state = 42))\n",
        "bag_pipe.fit(X_train, y_train)\n",
        "\n",
        "metrics = class_eval(bag_pipe, 'Bagged Trees Class', X_train, X_test, y_train, y_test)\n",
        "classperformance = classperformance.append(metrics, ignore_index = True)"
      ],
      "metadata": {
        "id": "iKOE16flKLHI"
      },
      "execution_count": null,
      "outputs": []
    },
    {
      "cell_type": "markdown",
      "source": [
        "### Random Forest Classifier"
      ],
      "metadata": {
        "id": "U5_fmcDfJTFy"
      }
    },
    {
      "cell_type": "code",
      "source": [
        "rf_pipe = make_pipeline(processor, RandomForestClassifier(random_state = 42))\n",
        "rf_pipe.fit(X_train, y_train)\n",
        "\n",
        "metrics = class_eval(rf_pipe, 'Random Forest', X_train, X_test, y_train, y_test)\n",
        "classperformance = classperformance.append(metrics, ignore_index = True)"
      ],
      "metadata": {
        "id": "FijS7Q7SIFQI"
      },
      "execution_count": null,
      "outputs": []
    },
    {
      "cell_type": "markdown",
      "source": [
        "### Random Forest Balanced"
      ],
      "metadata": {
        "id": "oMJtdPi6K84j"
      }
    },
    {
      "cell_type": "code",
      "source": [
        "rf_balanced = make_pipeline(processor, \n",
        "                        RandomForestClassifier(random_state = 42, class_weight = 'balanced'))\n",
        "rf_balanced.fit(X_train, y_train)\n",
        "\n",
        "metrics = class_eval(rf_balanced, 'Random Forest Balanced', X_train, X_test, y_train, y_test)\n",
        "classperformance = classperformance.append(metrics, ignore_index = True)"
      ],
      "metadata": {
        "id": "yv18OQTIJlYG"
      },
      "execution_count": null,
      "outputs": []
    },
    {
      "cell_type": "markdown",
      "source": [
        "### Gradient Boost Classifier"
      ],
      "metadata": {
        "id": "NpTAw1fZLodg"
      }
    },
    {
      "cell_type": "code",
      "source": [
        "gbc_pipe = make_pipeline(processor, GradientBoostingClassifier())\n",
        "gbc_pipe.fit(X_train, y_train)\n",
        "\n",
        "metrics = class_eval(gbc_pipe, 'Gradient Boost Class', X_train, X_test, y_train, y_test)\n",
        "classperformance = classperformance.append(metrics, ignore_index = True)"
      ],
      "metadata": {
        "id": "xgQzw0y4LL_0"
      },
      "execution_count": null,
      "outputs": []
    },
    {
      "cell_type": "markdown",
      "source": [
        "### XGBoost Classifier"
      ],
      "metadata": {
        "id": "kmrD8XypMHLL"
      }
    },
    {
      "cell_type": "code",
      "source": [
        "xgb_pipe = make_pipeline(processor, XGBClassifier())\n",
        "xgb_pipe.fit(X_train, y_train)\n",
        "\n",
        "metrics = class_eval(xgb_pipe, 'XGBoost Class', X_train, X_test, y_train, y_test)\n",
        "classperformance = classperformance.append(metrics, ignore_index = True)"
      ],
      "metadata": {
        "id": "64a75tOHMKwv"
      },
      "execution_count": null,
      "outputs": []
    },
    {
      "cell_type": "markdown",
      "source": [
        "XGBoost Balanced"
      ],
      "metadata": {
        "id": "norBUfccN9wl"
      }
    },
    {
      "cell_type": "code",
      "source": [
        "xgb_balanced = make_pipeline(processor, XGBClassifier(class_weight = 'balanced'))\n",
        "xgb_balanced.fit(X_train, y_train)\n",
        "\n",
        "metrics = class_eval(xgb_balanced, 'LightGBM Class Balanced', X_train, X_test, y_train, y_test)\n",
        "classperformance = classperformance.append(metrics, ignore_index = True)"
      ],
      "metadata": {
        "id": "pVLKCz_zMXab"
      },
      "execution_count": null,
      "outputs": []
    },
    {
      "cell_type": "markdown",
      "source": [
        "### LightGBM Classifier"
      ],
      "metadata": {
        "id": "CdRr2itQMERb"
      }
    },
    {
      "cell_type": "code",
      "source": [
        "lgbm_pipe = make_pipeline(processor, LGBMClassifier())\n",
        "lgbm_pipe.fit(X_train, y_train)\n",
        "\n",
        "metrics = class_eval(lgbm_pipe, 'LightGBM Class ', X_train, X_test, y_train, y_test)\n",
        "classperformance = classperformance.append(metrics, ignore_index = True)"
      ],
      "metadata": {
        "id": "k4d-f-yfL25U"
      },
      "execution_count": null,
      "outputs": []
    },
    {
      "cell_type": "markdown",
      "source": [
        "### LightGBM Balanced"
      ],
      "metadata": {
        "id": "CF64p5DvNn8h"
      }
    },
    {
      "cell_type": "code",
      "source": [
        "lgbm_balanced = make_pipeline(processor, LGBMClassifier(class_weight = 'balanced'))\n",
        "lgbm_balanced.fit(X_train, y_train)\n",
        "\n",
        "metrics = class_eval(lgbm_balanced, 'LightGBM Class Balanced', X_train, X_test, y_train, y_test)\n",
        "classperformance = classperformance.append(metrics, ignore_index = True)"
      ],
      "metadata": {
        "id": "m8qtlIsNMjUg"
      },
      "execution_count": null,
      "outputs": []
    },
    {
      "cell_type": "markdown",
      "source": [
        "## Model Performance Overview - Classification"
      ],
      "metadata": {
        "id": "jUnnu0ftNvIx"
      }
    },
    {
      "cell_type": "code",
      "source": [
        "classperformance"
      ],
      "metadata": {
        "id": "3uvvQlbgNsRH"
      },
      "execution_count": null,
      "outputs": []
    },
    {
      "cell_type": "code",
      "source": [
        "merge_eda = merge_main.copy()"
      ],
      "metadata": {
        "id": "MUY0POLupB24"
      },
      "execution_count": null,
      "outputs": []
    },
    {
      "cell_type": "code",
      "source": [
        "merge_eda.drop(merge_eda.columns[2:133], axis = 1, inplace = True)\n",
        "merge_eda.head()"
      ],
      "metadata": {
        "id": "5dWaQfTEpGoW"
      },
      "execution_count": null,
      "outputs": []
    },
    {
      "cell_type": "code",
      "source": [
        "corr_df = merge_eda[merge_eda.columns[2:20]]\n",
        "corr_df.columns\n",
        "\n",
        "corr = round(corr_df.drop(columns = ['BestPlayers', 'GoodPlayers', 'YearPublished', 'MinPlayers', 'MaxPlayers', 'MfgPlaytime']).corr(), 2)\n",
        "\n",
        "fig, ax = plt.subplots(figsize= (12,12))\n",
        "sns.heatmap(corr, cmap = 'Reds', annot = True, ax = ax)\n",
        "plt.title('Board Game Data Correlation Matrix', fontsize = 16)\n",
        "plt.xticks(rotation = 45, ha = \"right\", rotation_mode = 'anchor');"
      ],
      "metadata": {
        "id": "f34ybDpWwRIq"
      },
      "execution_count": null,
      "outputs": []
    },
    {
      "cell_type": "code",
      "source": [
        "plt.scatter(corr_df['AvgRating'], corr_df['GameWeight']);"
      ],
      "metadata": {
        "id": "Yen79jpg1Cmn"
      },
      "execution_count": null,
      "outputs": []
    },
    {
      "cell_type": "code",
      "source": [
        "fig, ax = plt.subplots(figsize = (10, 10))\n",
        "plt.scatter(corr_df['AvgRating'], corr_df['BayesAvgRating'], cmap = 'OrRd', c = corr_df['NumUserRatings'], alpha = 1);\n",
        "plt.colorbar();\n",
        "plt.xlabel('Average Rating', fontsize = 16, weight = 'semibold')\n",
        "plt.ylabel('Bayes Average Rating', fontsize = 16, weight = 'semibold');"
      ],
      "metadata": {
        "id": "WKQ-fFqb1PMg"
      },
      "execution_count": null,
      "outputs": []
    },
    {
      "cell_type": "code",
      "source": [
        "plt.scatter(corr_df['ComAgeRec'], corr_df['GameWeight']);"
      ],
      "metadata": {
        "id": "oO7iAVfl2ps1"
      },
      "execution_count": null,
      "outputs": []
    },
    {
      "cell_type": "markdown",
      "source": [
        "# Top Feature Graphs"
      ],
      "metadata": {
        "id": "G280tezjql6J"
      }
    },
    {
      "cell_type": "code",
      "source": [
        "yearmean = merge_ml[merge_ml['YearPublished'] >= 1991]\n",
        "yearmean['YearPublished']= yearmean['YearPublished'].astype(int)\n",
        "\n",
        "fig, ax = plt.subplots(figsize = (16, 8))\n",
        "sns.barplot(data = yearmean, x = 'YearPublished', y = 'AvgRating', color = 'Green', estimator=np.mean, alpha = .8, errwidth = 1, capsize = .2)\n",
        "plt.yticks([6, 6.25, 6.5, 6.75, 7, 7.25, 7.5, 7.75, 8, 8.25])\n",
        "plt.ylim(6,8.25)\n",
        "plt.grid(axis = 'y', ls = '-', alpha = .8)\n",
        "ax.set_axisbelow(True)\n",
        "plt.xticks(rotation = 45, ha = \"right\", rotation_mode = 'anchor')\n",
        "plt.title('Mean Game Rank by Year', size = 18, weight = 'bold')\n",
        "plt.xlabel('Year', size = 14, weight = 'semibold')\n",
        "plt.ylabel('Average Ranking on BGG', size = 14, weight = 'semibold')\n",
        "plt.tight_layout();"
      ],
      "metadata": {
        "id": "B__XQro_Qiqs"
      },
      "execution_count": null,
      "outputs": []
    },
    {
      "cell_type": "code",
      "source": [
        "cut_bins2 = [0, 0.5, 1.0, 1.5, 2.0, 2.5, 3.0, 3.5, 4.0, 4.5, 5.0]\n",
        "\n",
        "merge_ml['WeightBin'] = pd.cut(merge_ml['GameWeight'], bins = cut_bins2)\n",
        "\n",
        "fig, ax = plt.subplots(figsize = (16, 8))\n",
        "sns.barplot(data = merge_ml, x = 'WeightBin', y = 'AvgRating', color = 'Green', estimator=np.mean, alpha = .8, errwidth = 2, capsize = .15)\n",
        "plt.yticks([6, 6.25, 6.5, 6.75, 7, 7.25, 7.5, 7.75, 8, 8.25])\n",
        "plt.ylim(6,8.25)\n",
        "plt.grid(axis = 'y', ls = '-', alpha = .8)\n",
        "ax.set_axisbelow(True)\n",
        "plt.xticks(rotation = 45, ha = \"right\", rotation_mode = 'anchor')\n",
        "plt.title('Mean Game Rank by Weight', size = 18, weight = 'bold')\n",
        "plt.xlabel('Game Weight (Binned by 0.5 Intervals)', size = 14, weight = 'semibold')\n",
        "plt.ylabel('Average Ranking on BGG', size = 14, weight = 'semibold')\n",
        "plt.tight_layout();"
      ],
      "metadata": {
        "id": "2b1r78_jW9eQ"
      },
      "execution_count": null,
      "outputs": []
    },
    {
      "cell_type": "code",
      "source": [
        "cut_bins2 = range(0, 481, 60)\n",
        "\n",
        "merge_ml['PlaytimeBin'] = pd.cut(merge_ml['MfgPlaytime'], bins = cut_bins2)\n",
        "\n",
        "fig, ax = plt.subplots(figsize = (16, 8))\n",
        "sns.barplot(data = merge_ml, x = 'PlaytimeBin', y = 'AvgRating', color = 'Green', estimator=np.mean, alpha = .8, errwidth = 2, capsize = .15)\n",
        "plt.yticks([6, 6.25, 6.5, 6.75, 7, 7.25, 7.5, 7.75, 8, 8.25])\n",
        "plt.ylim(6,8.25)\n",
        "plt.grid(axis = 'y', ls = '-', alpha = .8)\n",
        "ax.set_axisbelow(True)\n",
        "plt.xticks(rotation = 45, ha = \"right\", rotation_mode = 'anchor')\n",
        "plt.title('Mean Game Rank by Playtime', size = 18, weight = 'bold')\n",
        "plt.xlabel('Playtime (Binned by 1 Hour Intervals)', size = 14, weight = 'semibold')\n",
        "plt.ylabel('Average Ranking on BGG', size = 14, weight = 'semibold')\n",
        "plt.tight_layout();"
      ],
      "metadata": {
        "id": "QMQKcLs14WO2"
      },
      "execution_count": null,
      "outputs": []
    },
    {
      "cell_type": "code",
      "source": [
        "maxplayermean = merge_ml[merge_ml['MaxPlayers'] <= 24]\n",
        "\n",
        "fig, ax = plt.subplots(figsize = (16, 8))\n",
        "sns.barplot(data = maxplayermean, x = 'MaxPlayers', y = 'AvgRating', color = 'Green', estimator=np.mean, alpha = .8, errwidth = 2, capsize = .15)\n",
        "plt.yticks([6, 6.25, 6.5, 6.75, 7, 7.25, 7.5, 7.75, 8, 8.25])\n",
        "plt.ylim(6,8.25)\n",
        "plt.grid(axis = 'y', ls = '-', alpha = .8)\n",
        "ax.set_axisbelow(True)\n",
        "plt.xticks(rotation = 45, ha = \"right\", rotation_mode = 'anchor')\n",
        "plt.title('Mean Game Rank by Max Player', size = 18, weight = 'bold')\n",
        "plt.xlabel('Max Player Count', size = 14, weight = 'semibold')\n",
        "plt.ylabel('Average Ranking on BGG', size = 14, weight = 'semibold')\n",
        "plt.tight_layout();"
      ],
      "metadata": {
        "id": "pTGpiBGc9E1q"
      },
      "execution_count": null,
      "outputs": []
    },
    {
      "cell_type": "code",
      "source": [
        "# MfgAgeRec                     10.8\n",
        "\n",
        "# cut_bins2 = range(0, 481, 30)\n",
        "\n",
        "# merge_ml['PlaytimeBin'] = pd.cut(merge_ml['MfgPlaytime'], bins = cut_bins2)\n",
        "\n",
        "# maxplayermean = merge_ml[merge_ml['MaxPlayers'] <= 24]\n",
        "\n",
        "fig, ax = plt.subplots(figsize = (16, 8))\n",
        "sns.barplot(data = maxplayermean, x = 'MfgAgeRec', y = 'AvgRating', color = 'Green', estimator=np.mean, alpha = .8, errwidth = 2, capsize = .15)\n",
        "plt.yticks([6, 6.25, 6.5, 6.75, 7, 7.25, 7.5, 7.75, 8, 8.25])\n",
        "plt.ylim(6,8.25)\n",
        "plt.grid(axis = 'y', ls = '-', alpha = .8)\n",
        "ax.set_axisbelow(True)\n",
        "plt.xticks(rotation = 45, ha = \"right\", rotation_mode = 'anchor')\n",
        "plt.title('Mean Game Rank by Age Recommendation', size = 18, weight = 'bold')\n",
        "plt.xlabel('Age Recommendation', size = 14, weight = 'semibold')\n",
        "plt.ylabel('Average Ranking on BGG', size = 14, weight = 'semibold')\n",
        "plt.tight_layout();\n"
      ],
      "metadata": {
        "id": "JWHsdl5i_j2L"
      },
      "execution_count": null,
      "outputs": []
    },
    {
      "cell_type": "code",
      "source": [
        "lgbm_importance_df = pd.DataFrame({'feature' :lgbm_importance.index, 'weight' : (lgbm_importance.values/30)})\n",
        "cat_list = list(merge_ml.columns[merge_ml.columns.str.contains('Cat:')])\n",
        "\n",
        "lgbm_importance_df[lgbm_importance_df['feature'].isin(cat_list)].sort_values('weight', ascending = False)"
      ],
      "metadata": {
        "id": "-jmHD7B_9l1g"
      },
      "execution_count": null,
      "outputs": []
    },
    {
      "cell_type": "code",
      "source": [
        "lgbm_importance_df = pd.DataFrame({'feature' :lgbm_importance.index, 'weight' : (lgbm_importance.values/30)})\n",
        "subcat_list = list(subcat_long['Subcat'].unique())\n",
        "\n",
        "lgbm_importance_df[lgbm_importance_df['feature'].isin(subcat_list)].sort_values('weight', ascending = False)"
      ],
      "metadata": {
        "id": "aMh9_oDz3gQj"
      },
      "execution_count": null,
      "outputs": []
    },
    {
      "cell_type": "code",
      "source": [
        "lgbm_importance_df = pd.DataFrame({'feature' :lgbm_importance.index, 'weight' : (lgbm_importance.values/30)})\n",
        "mech_list = list(mech_long['Mechanic'].unique())\n",
        "\n",
        "lgbm_importance_df[lgbm_importance_df['feature'].isin(mech_list)].sort_values('weight', ascending = False).head(20)"
      ],
      "metadata": {
        "id": "aC8bVdrS8umZ"
      },
      "execution_count": null,
      "outputs": []
    },
    {
      "cell_type": "code",
      "source": [
        "lgbm_importance_df = pd.DataFrame({'feature' :lgbm_importance.index, 'weight' : (lgbm_importance.values/30)})\n",
        "theme_list = list(theme_long['Theme'].unique())\n",
        "\n",
        "lgbm_importance_df[lgbm_importance_df['feature'].isin(theme_list)].sort_values('weight', ascending = False).head(20)"
      ],
      "metadata": {
        "id": "pzzt6_2t9JCa"
      },
      "execution_count": null,
      "outputs": []
    }
  ]
}